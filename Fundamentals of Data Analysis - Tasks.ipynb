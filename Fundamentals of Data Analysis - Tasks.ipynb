{
 "cells": [
  {
   "cell_type": "markdown",
   "metadata": {},
   "source": [
    "# Fundamentals of Data Analysis - Tasks\n",
    "***\n",
    "## Eibhinn Lee\n",
    "### G00226502\n"
   ]
  },
  {
   "cell_type": "markdown",
   "metadata": {},
   "source": [
    "### Task 1 - Counts\n",
    "\n",
    "***October 5th, 2020***\n",
    "\n",
    "Task\n",
    "***\n",
    "Write a Python function called 'counts' that takes a list as input and returns a dictionary of unique items in the list as keys and the number of times each item appears as values.\n",
    "\n",
    "Example:\n",
    "Input ['A', 'A', 'B', 'C', 'A']\n",
    "\n",
    "Output {'A': 3, 'B': 1, 'C': 1} . Your code should not depend\n",
    "on any module from the standard library1 or otherwise. \n",
    "\n",
    "You should research the task first and include a description with references of your algorithm in the\n",
    "notebook.\n",
    "\n",
    "References for Task 1\n",
    "___\n",
    "https://www.geeksforgeeks.org/python-list-function-count/\n",
    "\n",
    "https://stackoverflow.com/questions/2600191/how-can-i-count-the-occurrences-of-a-list-item"
   ]
  },
  {
   "cell_type": "markdown",
   "metadata": {},
   "source": [
    "####  Example One\n",
    "\n",
    "This example uses the count function to count the occurrences of each element held within the list provided.\n",
    "\n",
    "Firstly, using to count a single element held within the list\n",
    "and secondly, to count all elements within the list\n",
    "\n",
    "References\n",
    "https://www.geeksforgeeks.org/python-list-function-count/"
   ]
  },
  {
   "cell_type": "code",
   "execution_count": 1,
   "metadata": {},
   "outputs": [
    {
     "name": "stdout",
     "output_type": "stream",
     "text": [
      "6\n",
      "2\n"
     ]
    }
   ],
   "source": [
    "# create a random list with words,letters, numbers\n",
    "\n",
    "ab = ['Cat', '-0.125', 'Sat', 'Cat', 'Mat', 'Rat', '-1', 'c','b','a','b','a','a','a','a','a','dog', '1.0'] \n",
    "\n",
    "# print out the occurence of a single element held within the list above.\n",
    "print(ab.count(('a')))\n",
    "print(ab.count(('Cat')))"
   ]
  },
  {
   "cell_type": "code",
   "execution_count": 2,
   "metadata": {},
   "outputs": [
    {
     "name": "stdout",
     "output_type": "stream",
     "text": [
      "{'c': 1, 'b': 2, '-1': 1, 'Mat': 1, '1.0': 1, 'Cat': 2, 'a': 6, 'Sat': 1, 'dog': 1, 'Rat': 1, '-0.125': 1}\n"
     ]
    }
   ],
   "source": [
    "# printing the result in the form - dictionary\n",
    "# print all elements held with the list 'ab' once and count how many times the occur.\n",
    "print (dict( (l, ab.count(l) ) for l in set(ab)))"
   ]
  },
  {
   "cell_type": "markdown",
   "metadata": {},
   "source": [
    "####  Example Two\n",
    "\n",
    "This example uses the counter function from collections module to count the occurrences of each element held within the list provided.\n",
    "\n",
    "References\n",
    "https://stackoverflow.com/questions/2600191/how-can-i-count-the-occurrences-of-a-list-item\n",
    "https://www.geeksforgeeks.org/python-counter-objects-elements/"
   ]
  },
  {
   "cell_type": "code",
   "execution_count": 3,
   "metadata": {},
   "outputs": [
    {
     "name": "stdout",
     "output_type": "stream",
     "text": [
      "{'1': 4, 'b': 2, 'a': 6, 'dog': 1, '1.0': 1, 'Sat': 1, 'Cat': 1, 'Mat': 1}\n"
     ]
    }
   ],
   "source": [
    "# import library\n",
    "from collections import Counter\n",
    "\n",
    "# create list called 'l', using the counter function to count all items within the list\n",
    "l =Counter(['1','1','1','1','b','a','b','a','a','a','a','a','dog', '1.0', 'Sat', 'Cat', 'Mat'])\n",
    "\n",
    "# print in the form of a dictionary\n",
    "print (dict(l))"
   ]
  },
  {
   "cell_type": "markdown",
   "metadata": {},
   "source": [
    "### Task 2 - Dicerolls\n",
    "\n",
    "***November 2nd, 2020***\n",
    "Task\n",
    "***\n",
    "Write a Python function called dicerolls that simulates rolling dice. \n",
    "Your function should take two parameters: \n",
    "- k, the number of dice \n",
    "- n, the number of times to roll the dice. \n",
    "\n",
    "The function should simulate randomly rolling k dice n times, keeping track of each total face value. \n",
    "It should then return a dictionary with the number of times each possible total face value occurred. \n",
    "\n",
    "So,calling the function as diceroll(k=2, n=1000) should return a dictionary like:\n",
    "\n",
    "**{2:19,3:50,4:82,5:112,6:135,7:174,8:133,9:114,10:75,11:70,12:36}**\n",
    "\n",
    "You can use any module from the Python standard library you wish and you should\n",
    "include a description with references of your algorithm in the notebook.\n",
    "***\n",
    "\n",
    "\n",
    "\n",
    "numpy & count function\n",
    "\n",
    "Rolling Dice\n",
    "***\n",
    "\n",
    "Function that simulates rolling dice\n",
    "\n",
    "2 Parameters\n",
    " k = number of dice\n",
    " r = number of times to roll the dice n\n",
    " \n",
    " module from standard python library \n",
    " \n",
    " random module\n",
    " \n",
    " maybe plot bar chart"
   ]
  },
  {
   "cell_type": "code",
   "execution_count": 4,
   "metadata": {},
   "outputs": [],
   "source": [
    "# diceroll = (k=2, n=1000)"
   ]
  },
  {
   "cell_type": "code",
   "execution_count": 5,
   "metadata": {},
   "outputs": [],
   "source": [
    "import numpy as np"
   ]
  },
  {
   "cell_type": "code",
   "execution_count": 6,
   "metadata": {},
   "outputs": [
    {
     "name": "stdout",
     "output_type": "stream",
     "text": [
      "Counter({1: 1, 2: 1, 3: 1, 4: 1, 5: 1, 6: 1})\n",
      "Counter({1: 1, 2: 1, 3: 1, 4: 1, 5: 1, 6: 1})\n"
     ]
    }
   ],
   "source": [
    "# Fair roll of 1 dice evenly\n",
    "\n",
    "d = Counter(range(1,7))\n",
    "\n",
    "d2 = Counter(range(1,7))\n",
    "print(d)\n",
    "print(d2)"
   ]
  },
  {
   "cell_type": "code",
   "execution_count": 7,
   "metadata": {},
   "outputs": [
    {
     "data": {
      "text/plain": [
       "(Counter({1: 1, 2: 1, 3: 1, 4: 1, 5: 1, 6: 1}),\n",
       " Counter({1: 1, 2: 1, 3: 1, 4: 1, 5: 1, 6: 1}))"
      ]
     },
     "execution_count": 7,
     "metadata": {},
     "output_type": "execute_result"
    }
   ],
   "source": [
    "k = (d,d2)\n",
    "k"
   ]
  },
  {
   "cell_type": "code",
   "execution_count": null,
   "metadata": {},
   "outputs": [],
   "source": []
  },
  {
   "cell_type": "code",
   "execution_count": 8,
   "metadata": {},
   "outputs": [
    {
     "data": {
      "text/plain": [
       "2"
      ]
     },
     "execution_count": 8,
     "metadata": {},
     "output_type": "execute_result"
    }
   ],
   "source": [
    "dice_roll = np.random.randint(1, 7)\n",
    "dice_roll"
   ]
  },
  {
   "cell_type": "code",
   "execution_count": 9,
   "metadata": {},
   "outputs": [
    {
     "data": {
      "text/plain": [
       "5"
      ]
     },
     "execution_count": 9,
     "metadata": {},
     "output_type": "execute_result"
    }
   ],
   "source": [
    "np.random.seed(0)\n",
    "dice_roll = np.random.randint(1, 7)\n",
    "dice_roll"
   ]
  },
  {
   "cell_type": "code",
   "execution_count": 16,
   "metadata": {},
   "outputs": [
    {
     "data": {
      "text/plain": [
       "array([10,  3,  4,  4,  3,  6,  8,  7,  6,  6,  6,  4,  6,  5,  4,  7,  6,\n",
       "        7,  6,  9,  3,  6,  6,  5,  5,  7,  9,  3,  6, 10, 10,  7,  2,  4,\n",
       "        4,  6, 10,  6,  7,  6,  8,  4,  7,  4,  6,  2,  9,  7, 10,  9,  5,\n",
       "        8,  6,  8,  7,  2,  4,  5,  4, 10,  8,  9,  5,  5,  4,  4,  9,  5,\n",
       "        8,  6,  9,  8,  3,  4,  6, 10,  4,  7,  7,  4,  3,  6,  7,  5,  6,\n",
       "        3,  5,  8,  4,  8,  5,  6,  6,  7,  9,  5,  7,  7,  6,  6,  3,  8,\n",
       "        6,  7,  4,  8,  6,  2,  6, 10,  7, 10,  8,  7,  4,  7,  5,  8,  4,\n",
       "        3,  5,  6,  8,  5,  3,  4,  4,  9,  9,  3,  4,  3,  5,  6,  2,  8,\n",
       "        6,  3,  5,  4,  9,  7,  8,  8,  8,  5,  8,  9,  6,  3, 10, 10,  6,\n",
       "        6,  9,  5,  3,  5,  4,  5,  4,  8,  3,  6,  5,  6,  4,  8,  7,  8,\n",
       "        8,  4,  7,  8,  3,  2,  7,  6,  7,  4,  6,  5,  8,  6,  8, 10,  4,\n",
       "        6,  6,  6,  8,  7,  4,  4,  6,  8,  6,  6,  6,  2,  5,  8,  8,  7,\n",
       "        5,  9,  7,  6, 10,  6, 10,  5,  7,  4, 10,  3,  3, 10,  8,  9,  9,\n",
       "        4,  3,  3,  5,  5,  3,  8,  4,  5,  6,  6,  5,  3,  6,  4,  7,  6,\n",
       "        7,  7,  6,  3,  7,  7,  8,  5,  6,  4,  4,  6,  6,  3,  8,  5,  2,\n",
       "        7,  7,  8,  5,  4,  5,  6,  2,  5,  7,  5,  7,  6,  6,  8,  5,  8,\n",
       "        6,  6,  9,  7,  5,  5,  5,  9,  6,  6,  3,  3,  7,  6,  4,  6,  4,\n",
       "        5,  6,  3,  3,  4,  3,  7,  5,  8,  4,  9,  7, 10,  7,  7,  4,  5,\n",
       "        5,  7,  9,  4,  6,  3,  7,  7,  6,  5,  7,  6,  8,  4,  3,  7,  6,\n",
       "        5,  7,  3,  5,  5,  8,  8,  6,  9,  7,  5,  4, 10,  8,  7,  7,  9,\n",
       "        9,  6,  7,  6,  4,  9,  8,  6,  6,  9,  4,  7,  7,  4,  6,  7,  3,\n",
       "        6,  3,  3,  6,  7,  2,  7,  4,  9,  3, 10,  5,  5,  6, 10,  6,  5,\n",
       "        7,  4,  6,  3,  7,  9,  3,  4,  7,  5,  5,  8,  7,  7,  7,  8,  7,\n",
       "        4,  4,  7,  3,  3,  5,  8,  7,  7,  8,  5,  9,  5,  4,  6,  5,  5,\n",
       "        2,  8, 10,  5,  8,  6,  4,  5,  6, 10,  7,  3,  3,  2,  5,  9,  7,\n",
       "        6,  4,  9,  7,  3,  8,  6,  4,  2,  6,  7,  6,  6,  3,  5,  5,  4,\n",
       "       10,  5,  6,  7,  7,  4,  4,  4,  3,  3,  4,  7,  7,  6,  6,  8,  9,\n",
       "        3,  9,  7,  7,  3,  4,  8, 10,  6,  6,  6,  6,  6,  7,  6,  5,  7,\n",
       "        7,  5,  6,  5,  7,  8,  7,  7,  6,  7,  7,  6,  6,  5,  6,  2,  8,\n",
       "        4,  3,  2,  9,  5,  7,  6,  7,  2,  7,  5,  3,  6,  8,  8,  6,  8,\n",
       "        6,  5,  4,  9,  8,  5,  7,  8,  3,  4,  8,  6,  7,  9,  9,  3,  9,\n",
       "        9,  6,  5,  6,  9,  6,  6,  4,  9,  6,  3,  4,  7,  8,  9,  3,  4,\n",
       "        7,  7,  3,  3,  4,  7,  8,  6,  9,  2,  5,  3,  6,  6,  5,  9,  5,\n",
       "        7,  6,  5,  7,  6,  5,  6,  8,  8,  4,  3,  6,  7,  2, 10,  2,  5,\n",
       "       10,  3,  7,  3,  5,  7, 10, 10,  9,  6,  6,  7,  5,  4,  2,  6,  8,\n",
       "        4,  6,  9,  6,  5,  4,  7,  5,  6,  5,  9,  7,  8,  8,  5,  6,  3,\n",
       "        4,  6,  6,  5,  2,  5,  8,  7,  6,  3,  9,  8,  8,  8,  6,  7,  6,\n",
       "        8,  3,  9,  6,  3,  2,  6,  6,  5,  8,  2,  8,  3,  5,  5,  8,  8,\n",
       "        4,  5,  9,  5,  5,  4,  5,  8,  5,  4,  6,  4, 10,  6,  4,  2,  6,\n",
       "        3,  7,  5,  6,  9,  5,  9,  9,  6, 10,  4,  7,  6, 10,  5,  7,  2,\n",
       "        5,  6,  6, 10,  8,  7,  3,  3,  9,  6,  7,  5,  7,  9,  6,  4,  7,\n",
       "        8,  9,  6,  5,  6, 10,  7,  4,  6,  7,  5,  4,  7,  8,  5,  4,  6,\n",
       "        6,  4,  7,  3,  5,  6,  8,  3,  3,  6,  9,  7,  6,  5,  6,  3,  9,\n",
       "        3,  6,  8,  7,  6,  7,  6,  9,  7,  6,  8,  9,  7,  8,  9,  7,  4,\n",
       "        6,  4,  9,  5,  7,  7,  4,  6,  6,  4,  7,  4,  4,  4,  3,  3,  5,\n",
       "        9,  6,  8,  3,  6, 10,  5,  6,  4,  8,  6,  5,  8,  7,  6,  5,  6,\n",
       "        7,  8,  5,  7,  5,  4,  6,  5,  2,  5,  8,  2,  5,  6,  7,  5,  6,\n",
       "        7,  7,  3,  2,  7,  8,  7,  2,  4,  7,  4,  5,  7,  4,  6,  4,  4,\n",
       "        4,  7,  6,  5,  7,  2,  2,  3,  6,  7,  8,  3,  4,  5,  4,  5,  7,\n",
       "       10,  6,  6,  9,  6,  2,  3,  9,  7,  8,  6,  2,  4,  6,  5,  5,  6,\n",
       "        3,  7,  6,  9,  5,  4, 10,  8,  5,  7,  5,  6,  4,  7,  6,  6,  7,\n",
       "        8,  5,  7,  9,  8,  2,  4,  3,  7,  4,  4, 10,  6,  5,  5,  8,  6,\n",
       "        6,  6,  6,  6,  5,  7,  8,  5, 10,  6,  9,  3,  8,  6,  4, 10,  8,\n",
       "        7,  2,  7,  8, 10,  8,  2,  4,  5,  6,  5,  3,  7,  8,  4,  7,  4,\n",
       "        2,  8,  5,  2,  5,  4,  5,  9,  6,  4,  6,  5,  5, 10, 10,  6,  8,\n",
       "        4,  5,  5,  8,  6,  5,  8,  6,  5,  6,  8,  4,  6,  4,  2,  7,  7,\n",
       "        8,  5,  6,  8,  2,  5,  5,  3,  6,  8,  6,  8,  6,  6,  7,  5,  7,\n",
       "       10,  8,  8,  9,  5,  4,  5,  5,  8,  8,  6, 10,  5,  3,  8,  5,  6,\n",
       "        6,  9,  7,  3,  6,  3,  7,  4,  4,  9, 10,  6,  8,  6])"
      ]
     },
     "execution_count": 16,
     "metadata": {},
     "output_type": "execute_result"
    }
   ],
   "source": [
    "d1 = np.random.randint(1, 6, 1000)\n",
    "d2 = np.random.randint(1, 6, 1000)\n",
    "dsums = d1 + d2\n",
    "dsums"
   ]
  },
  {
   "cell_type": "code",
   "execution_count": 11,
   "metadata": {},
   "outputs": [
    {
     "ename": "AttributeError",
     "evalue": "'numpy.ndarray' object has no attribute 'count'",
     "output_type": "error",
     "traceback": [
      "\u001b[1;31m---------------------------------------------------------------------------\u001b[0m",
      "\u001b[1;31mAttributeError\u001b[0m                            Traceback (most recent call last)",
      "\u001b[1;32m<ipython-input-11-ea5d09a301e0>\u001b[0m in \u001b[0;36m<module>\u001b[1;34m\u001b[0m\n\u001b[1;32m----> 1\u001b[1;33m \u001b[0mprint\u001b[0m \u001b[1;33m(\u001b[0m\u001b[0mdict\u001b[0m\u001b[1;33m(\u001b[0m \u001b[1;33m(\u001b[0m\u001b[0ml\u001b[0m\u001b[1;33m,\u001b[0m \u001b[0mdiceroll\u001b[0m\u001b[1;33m.\u001b[0m\u001b[0mcount\u001b[0m\u001b[1;33m(\u001b[0m\u001b[0ml\u001b[0m\u001b[1;33m)\u001b[0m \u001b[1;33m)\u001b[0m \u001b[1;32mfor\u001b[0m \u001b[0ml\u001b[0m \u001b[1;32min\u001b[0m \u001b[0mset\u001b[0m\u001b[1;33m(\u001b[0m\u001b[0mdiceroll\u001b[0m\u001b[1;33m)\u001b[0m\u001b[1;33m)\u001b[0m\u001b[1;33m)\u001b[0m\u001b[1;33m\u001b[0m\u001b[1;33m\u001b[0m\u001b[0m\n\u001b[0m",
      "\u001b[1;32m<ipython-input-11-ea5d09a301e0>\u001b[0m in \u001b[0;36m<genexpr>\u001b[1;34m(.0)\u001b[0m\n\u001b[1;32m----> 1\u001b[1;33m \u001b[0mprint\u001b[0m \u001b[1;33m(\u001b[0m\u001b[0mdict\u001b[0m\u001b[1;33m(\u001b[0m \u001b[1;33m(\u001b[0m\u001b[0ml\u001b[0m\u001b[1;33m,\u001b[0m \u001b[0mdiceroll\u001b[0m\u001b[1;33m.\u001b[0m\u001b[0mcount\u001b[0m\u001b[1;33m(\u001b[0m\u001b[0ml\u001b[0m\u001b[1;33m)\u001b[0m \u001b[1;33m)\u001b[0m \u001b[1;32mfor\u001b[0m \u001b[0ml\u001b[0m \u001b[1;32min\u001b[0m \u001b[0mset\u001b[0m\u001b[1;33m(\u001b[0m\u001b[0mdiceroll\u001b[0m\u001b[1;33m)\u001b[0m\u001b[1;33m)\u001b[0m\u001b[1;33m)\u001b[0m\u001b[1;33m\u001b[0m\u001b[1;33m\u001b[0m\u001b[0m\n\u001b[0m",
      "\u001b[1;31mAttributeError\u001b[0m: 'numpy.ndarray' object has no attribute 'count'"
     ]
    }
   ],
   "source": [
    "#print (dict( (l, diceroll.count(l) ) for l in set(diceroll)))"
   ]
  },
  {
   "cell_type": "code",
   "execution_count": null,
   "metadata": {},
   "outputs": [],
   "source": [
    "rng = np.random.default_rng()\n",
    "arr = np.arange((1,7),(1,7))\n",
    "rng.shuffle(arr)\n",
    "arr"
   ]
  },
  {
   "cell_type": "code",
   "execution_count": null,
   "metadata": {},
   "outputs": [],
   "source": []
  },
  {
   "cell_type": "code",
   "execution_count": null,
   "metadata": {},
   "outputs": [],
   "source": []
  },
  {
   "cell_type": "code",
   "execution_count": null,
   "metadata": {},
   "outputs": [],
   "source": [
    "import numpy as np\n",
    "\n",
    "#def dicerolls(k):\n",
    "    #number = [1, 2, 3, 4, 5, 6]\n",
    "    #rng = np.random.default_rng()\n",
    "    #roll = rng.choice([1, 2, 3, 4 ,5, 6], k)\n",
    "    #quantity = []\n",
    "    #faceval = 0\n",
    "    #for i in range(0, k):\n",
    "        #faceval = faceval + roll[i]\n",
    "    #quantity.append()"
   ]
  },
  {
   "cell_type": "code",
   "execution_count": 14,
   "metadata": {},
   "outputs": [],
   "source": [
    "def dicerolls(k, n):\n",
    "    number = [1, 2, 3, 4, 5, 6]\n",
    "    rng = np.random.default_rng()\n",
    "    rolls = []\n",
    "    for i in range(n):\n",
    "        roll = sum(rng.choice(number, k))\n",
    "        rolls.append(roll)    \n",
    "    outcome = diceroll(rolls)\n",
    "    print(outcome)"
   ]
  },
  {
   "cell_type": "code",
   "execution_count": 15,
   "metadata": {},
   "outputs": [
    {
     "ename": "TypeError",
     "evalue": "'numpy.ndarray' object is not callable",
     "output_type": "error",
     "traceback": [
      "\u001b[1;31m---------------------------------------------------------------------------\u001b[0m",
      "\u001b[1;31mTypeError\u001b[0m                                 Traceback (most recent call last)",
      "\u001b[1;32m<ipython-input-15-84a331da0478>\u001b[0m in \u001b[0;36m<module>\u001b[1;34m\u001b[0m\n\u001b[1;32m----> 1\u001b[1;33m \u001b[0mdicerolls\u001b[0m\u001b[1;33m(\u001b[0m\u001b[1;36m2\u001b[0m\u001b[1;33m,\u001b[0m\u001b[1;36m10000\u001b[0m\u001b[1;33m)\u001b[0m\u001b[1;33m\u001b[0m\u001b[1;33m\u001b[0m\u001b[0m\n\u001b[0m",
      "\u001b[1;32m<ipython-input-14-07c510e51c9f>\u001b[0m in \u001b[0;36mdicerolls\u001b[1;34m(k, n)\u001b[0m\n\u001b[0;32m      6\u001b[0m         \u001b[0mroll\u001b[0m \u001b[1;33m=\u001b[0m \u001b[0msum\u001b[0m\u001b[1;33m(\u001b[0m\u001b[0mrng\u001b[0m\u001b[1;33m.\u001b[0m\u001b[0mchoice\u001b[0m\u001b[1;33m(\u001b[0m\u001b[0mnumber\u001b[0m\u001b[1;33m,\u001b[0m \u001b[0mk\u001b[0m\u001b[1;33m)\u001b[0m\u001b[1;33m)\u001b[0m\u001b[1;33m\u001b[0m\u001b[1;33m\u001b[0m\u001b[0m\n\u001b[0;32m      7\u001b[0m         \u001b[0mrolls\u001b[0m\u001b[1;33m.\u001b[0m\u001b[0mappend\u001b[0m\u001b[1;33m(\u001b[0m\u001b[0mroll\u001b[0m\u001b[1;33m)\u001b[0m\u001b[1;33m\u001b[0m\u001b[1;33m\u001b[0m\u001b[0m\n\u001b[1;32m----> 8\u001b[1;33m     \u001b[0moutcome\u001b[0m \u001b[1;33m=\u001b[0m \u001b[0mdiceroll\u001b[0m\u001b[1;33m(\u001b[0m\u001b[0mrolls\u001b[0m\u001b[1;33m)\u001b[0m\u001b[1;33m\u001b[0m\u001b[1;33m\u001b[0m\u001b[0m\n\u001b[0m\u001b[0;32m      9\u001b[0m     \u001b[0mprint\u001b[0m\u001b[1;33m(\u001b[0m\u001b[0moutcome\u001b[0m\u001b[1;33m)\u001b[0m\u001b[1;33m\u001b[0m\u001b[1;33m\u001b[0m\u001b[0m\n",
      "\u001b[1;31mTypeError\u001b[0m: 'numpy.ndarray' object is not callable"
     ]
    }
   ],
   "source": [
    "dicerolls(2,10000)"
   ]
  },
  {
   "cell_type": "code",
   "execution_count": 31,
   "metadata": {},
   "outputs": [],
   "source": [
    "def counts(inputList, caseSensitivity=True):\n",
    "    \n",
    "    if caseSensitivity==False:\n",
    "        for i in range(0, len(inputList)):\n",
    "            if isinstance(inputList[i], str):\n",
    "                inputList[i] = inputList[i].lower()    \n",
    "    \n",
    "    return dict((element, inputList.count(element)) for element in set(inputList))"
   ]
  },
  {
   "cell_type": "code",
   "execution_count": 32,
   "metadata": {},
   "outputs": [
    {
     "data": {
      "text/plain": [
       "array([ 9,  8,  5,  7,  5,  9,  8,  8,  6,  5,  2, 10,  6,  7,  8,  5,  7,\n",
       "        7,  3,  6,  2,  6,  5, 10,  7,  9,  6,  4,  3,  6,  9,  9,  9,  4,\n",
       "        2,  4,  5,  5,  9,  6,  8,  4,  8,  4,  9,  7,  6,  9,  5,  5,  6,\n",
       "       10,  9,  8,  7,  7,  8,  5,  3,  3,  7,  7,  9,  4,  6, 10,  5, 10,\n",
       "        6,  5,  6,  3,  4,  4,  4, 10,  5,  5,  3,  6,  5,  9,  6,  7,  8,\n",
       "        9,  6,  9,  5,  6,  8,  7,  6,  4, 10,  3,  9,  7,  9,  9,  7,  6,\n",
       "        3,  5,  4,  6,  8,  4,  5,  4,  3,  3,  5,  4,  8,  8,  4,  6,  3,\n",
       "        3,  3,  7,  4,  7,  6,  8,  8, 10,  8,  5,  4,  9,  5,  5,  5,  6,\n",
       "        8,  6,  4,  7,  6,  7,  6,  5,  4,  4,  8,  7,  4,  9,  5,  3,  8,\n",
       "        7,  7,  6,  6,  6,  7,  4,  8,  5,  5,  6,  7,  5,  8,  7,  5,  8,\n",
       "        3,  5,  4,  6,  3,  5,  5,  7, 10,  9,  3,  9,  5,  9,  7,  9,  4,\n",
       "        2,  5,  8,  2,  4,  3,  6,  7,  5,  7,  3,  5,  4,  3,  8,  6,  2,\n",
       "        9,  7,  4,  5,  3,  6,  6,  5,  4,  3,  5,  5,  7,  9,  7,  6,  9,\n",
       "        9,  6,  7,  5,  7,  6,  6,  4,  7,  6,  3,  7,  5,  6,  6,  3,  8,\n",
       "        8,  8,  4,  4,  6,  6,  5,  7,  7,  5,  5,  7,  6,  7,  6,  7,  9,\n",
       "        9,  4,  8,  6,  5,  6,  7,  8,  3,  8,  6,  3,  9,  8,  8,  4,  7,\n",
       "        9,  4, 10,  4,  8,  7,  2,  7,  9,  3,  4,  7,  7,  5,  4,  6,  8,\n",
       "        8,  5,  8,  5,  3,  8,  7,  2,  5,  4,  8,  3,  5,  5,  2,  6,  4,\n",
       "        5,  5,  2,  5,  5,  5,  8,  3,  8,  8,  5,  5,  9,  9,  7, 10,  3,\n",
       "        6,  5,  6,  5,  7,  8, 10,  9,  7,  7,  8,  4,  9,  7,  4,  3,  4,\n",
       "        8,  8,  6,  5,  8,  7,  7,  4,  8,  4,  7, 10,  4,  2,  2,  5,  8,\n",
       "        5,  5,  3, 10,  8,  5,  7,  9,  7,  8,  2,  7,  6, 10,  8,  8,  4,\n",
       "        5,  7,  4,  5,  6,  7,  7,  7,  4,  3,  9,  2,  8,  7,  8,  4,  5,\n",
       "        4,  5,  6,  9,  4,  6,  6,  4,  8,  7,  6,  6,  4,  6,  7,  9,  9,\n",
       "        6,  3,  6,  4,  3,  8,  9,  6,  6,  8,  7,  5,  9,  9,  9,  6,  8,\n",
       "       10,  6,  3,  5,  7, 10,  4,  7,  2, 10,  6,  7,  3,  8,  5,  6,  6,\n",
       "        7,  7,  7,  4,  8,  7,  7,  5,  4,  4,  2,  7,  5,  9,  9,  6,  6,\n",
       "        3,  4,  6,  7,  8,  7,  7,  4,  4,  8,  5,  7,  7,  5,  8,  9,  8,\n",
       "        9,  6,  6,  7,  7,  3,  5, 10,  6,  5,  9,  7, 10,  8,  5, 10,  5,\n",
       "        5,  6,  6,  7,  7,  3,  8,  3,  7,  4,  7,  9,  9,  6,  6,  8,  8,\n",
       "        7,  5,  6,  8,  7,  7,  7,  4,  6,  4,  4,  3,  4,  6,  3,  6,  4,\n",
       "        4,  3,  5,  8,  5,  8,  6,  8,  4,  4,  6,  5,  5,  8,  6,  9,  7,\n",
       "        7,  4, 10,  6,  7,  8,  3,  6,  5,  6,  7,  5,  4,  4,  6,  5,  5,\n",
       "        8,  9,  3,  9,  7,  8,  8,  9,  5,  5,  2,  4,  5,  3,  5,  8, 10,\n",
       "        9, 10,  7,  8,  5,  4,  4,  6,  3,  4,  8,  8,  4,  5,  5,  5,  6,\n",
       "        5,  5,  3,  7,  2,  2,  4,  8,  5,  6,  5,  7,  6,  5,  8,  5,  3,\n",
       "        6,  3,  5,  9,  7,  6,  7,  6,  3,  7,  3,  5,  5,  7,  5,  4,  9,\n",
       "        9,  7,  5,  8,  5,  7,  6,  6,  4,  7,  7,  8,  6,  6,  5,  6,  6,\n",
       "        6,  6,  5,  9,  5,  4,  6,  9,  6, 10,  9,  9, 10,  8,  4,  3,  5,\n",
       "        7,  5,  8,  7,  5,  6,  2,  6,  8,  7,  2,  4,  6,  5,  5,  4,  7,\n",
       "        8,  7,  6,  4,  6, 10,  6,  9,  8,  5,  7,  5,  4,  5,  7,  4,  5,\n",
       "        3,  5,  9, 10,  6,  3,  5,  4,  9,  9,  6,  3,  4,  6,  7,  6, 10,\n",
       "        7,  5,  3,  6,  6,  4,  6,  3,  6,  7,  5,  5, 10,  8,  7,  7,  7,\n",
       "        2,  5,  6,  5,  5,  9,  8,  3,  6,  6,  9,  3,  7,  3,  2,  6,  4,\n",
       "        9,  3,  6,  6,  7,  3,  4,  4,  8,  9,  3,  9,  9,  6,  3,  7,  6,\n",
       "        6,  6,  5,  9,  5,  6,  4,  5,  7,  9,  5,  4,  9,  6,  4,  3,  4,\n",
       "        6,  6,  5,  6,  4,  5,  8, 10,  9,  4,  9,  4,  6,  6,  5,  3,  4,\n",
       "       10,  2,  4,  7,  5,  6,  8,  7,  6,  7,  6,  5,  7,  6,  7,  8,  6,\n",
       "        4,  7, 10,  9,  4,  9,  9,  5,  9,  6,  6,  8,  4,  9,  9,  4,  7,\n",
       "        5,  8,  4,  8,  4,  9,  2,  7,  4,  7,  7,  8,  3,  4,  8,  8,  4,\n",
       "        4,  2,  5,  9,  6,  6,  4,  7, 10,  8,  5,  6,  4,  5,  7,  8,  5,\n",
       "       10,  3,  4,  5,  5,  6, 10,  6,  3,  7,  4,  4,  6,  4,  6,  6,  8,\n",
       "        8,  4,  8,  6,  5,  6,  4,  4,  5,  9,  6,  4,  4,  8,  2,  8,  7,\n",
       "        7,  8,  8,  8,  7,  4,  6,  3,  9,  8, 10,  8,  7,  3,  7,  4,  8,\n",
       "        7,  8,  7,  8,  7,  4,  4,  5,  9,  7,  2,  9,  9,  3,  2,  5,  5,\n",
       "        8,  8,  8,  7,  9,  4,  8,  5,  7,  5,  5,  5,  4,  6,  8,  5,  7,\n",
       "        6,  5,  9,  8,  4,  7,  6,  6,  2,  6,  4,  6,  5,  6,  5,  5,  6,\n",
       "        7,  7,  8,  6,  6,  7,  7,  7,  6,  7,  8,  4,  6,  5,  5,  4,  6,\n",
       "        3,  6,  2,  7,  7,  5,  6,  3,  4,  6,  7,  5,  6,  5])"
      ]
     },
     "execution_count": 32,
     "metadata": {},
     "output_type": "execute_result"
    }
   ],
   "source": [
    "# Randomly rolling 2 dice + adding both results, between 2 and 12.\n",
    "d1 = np.random.randint(1, 6, 1000)\n",
    "d2 = np.random.randint(1, 6, 1000)\n",
    "dsums = (d1 + d2)\n",
    "dsums"
   ]
  },
  {
   "cell_type": "code",
   "execution_count": 35,
   "metadata": {},
   "outputs": [],
   "source": [
    "def dicerolls(k, n):\n",
    "    number = [1, 2, 3, 4, 5, 6]\n",
    "    rng = np.random.default_rng()\n",
    "    rolls = []\n",
    "    for i in range(n):\n",
    "        roll = dsums\n",
    "        rolls.append(dsums)    \n",
    "    outcome = counts(dsums)\n",
    "    print(outcome)\n",
    "\n",
    "\n"
   ]
  },
  {
   "cell_type": "code",
   "execution_count": 36,
   "metadata": {},
   "outputs": [
    {
     "ename": "AttributeError",
     "evalue": "'numpy.ndarray' object has no attribute 'count'",
     "output_type": "error",
     "traceback": [
      "\u001b[1;31m---------------------------------------------------------------------------\u001b[0m",
      "\u001b[1;31mAttributeError\u001b[0m                            Traceback (most recent call last)",
      "\u001b[1;32m<ipython-input-36-b36d6ae4c669>\u001b[0m in \u001b[0;36m<module>\u001b[1;34m\u001b[0m\n\u001b[1;32m----> 1\u001b[1;33m \u001b[0mdicerolls\u001b[0m\u001b[1;33m(\u001b[0m\u001b[1;36m2\u001b[0m\u001b[1;33m,\u001b[0m\u001b[1;36m1000\u001b[0m\u001b[1;33m)\u001b[0m\u001b[1;33m\u001b[0m\u001b[1;33m\u001b[0m\u001b[0m\n\u001b[0m",
      "\u001b[1;32m<ipython-input-35-9be039d839ef>\u001b[0m in \u001b[0;36mdicerolls\u001b[1;34m(k, n)\u001b[0m\n\u001b[0;32m      6\u001b[0m         \u001b[0mroll\u001b[0m \u001b[1;33m=\u001b[0m \u001b[0mdsums\u001b[0m\u001b[1;33m\u001b[0m\u001b[1;33m\u001b[0m\u001b[0m\n\u001b[0;32m      7\u001b[0m         \u001b[0mrolls\u001b[0m\u001b[1;33m.\u001b[0m\u001b[0mappend\u001b[0m\u001b[1;33m(\u001b[0m\u001b[0mdsums\u001b[0m\u001b[1;33m)\u001b[0m\u001b[1;33m\u001b[0m\u001b[1;33m\u001b[0m\u001b[0m\n\u001b[1;32m----> 8\u001b[1;33m     \u001b[0moutcome\u001b[0m \u001b[1;33m=\u001b[0m \u001b[0mcounts\u001b[0m\u001b[1;33m(\u001b[0m\u001b[0mdsums\u001b[0m\u001b[1;33m)\u001b[0m\u001b[1;33m\u001b[0m\u001b[1;33m\u001b[0m\u001b[0m\n\u001b[0m\u001b[0;32m      9\u001b[0m     \u001b[0mprint\u001b[0m\u001b[1;33m(\u001b[0m\u001b[0moutcome\u001b[0m\u001b[1;33m)\u001b[0m\u001b[1;33m\u001b[0m\u001b[1;33m\u001b[0m\u001b[0m\n\u001b[0;32m     10\u001b[0m \u001b[1;33m\u001b[0m\u001b[0m\n",
      "\u001b[1;32m<ipython-input-31-97edc60287ac>\u001b[0m in \u001b[0;36mcounts\u001b[1;34m(inputList, caseSensitivity)\u001b[0m\n\u001b[0;32m      6\u001b[0m                 \u001b[0minputList\u001b[0m\u001b[1;33m[\u001b[0m\u001b[0mi\u001b[0m\u001b[1;33m]\u001b[0m \u001b[1;33m=\u001b[0m \u001b[0minputList\u001b[0m\u001b[1;33m[\u001b[0m\u001b[0mi\u001b[0m\u001b[1;33m]\u001b[0m\u001b[1;33m.\u001b[0m\u001b[0mlower\u001b[0m\u001b[1;33m(\u001b[0m\u001b[1;33m)\u001b[0m\u001b[1;33m\u001b[0m\u001b[1;33m\u001b[0m\u001b[0m\n\u001b[0;32m      7\u001b[0m \u001b[1;33m\u001b[0m\u001b[0m\n\u001b[1;32m----> 8\u001b[1;33m     \u001b[1;32mreturn\u001b[0m \u001b[0mdict\u001b[0m\u001b[1;33m(\u001b[0m\u001b[1;33m(\u001b[0m\u001b[0melement\u001b[0m\u001b[1;33m,\u001b[0m \u001b[0minputList\u001b[0m\u001b[1;33m.\u001b[0m\u001b[0mcount\u001b[0m\u001b[1;33m(\u001b[0m\u001b[0melement\u001b[0m\u001b[1;33m)\u001b[0m\u001b[1;33m)\u001b[0m \u001b[1;32mfor\u001b[0m \u001b[0melement\u001b[0m \u001b[1;32min\u001b[0m \u001b[0mset\u001b[0m\u001b[1;33m(\u001b[0m\u001b[0minputList\u001b[0m\u001b[1;33m)\u001b[0m\u001b[1;33m)\u001b[0m\u001b[1;33m\u001b[0m\u001b[1;33m\u001b[0m\u001b[0m\n\u001b[0m",
      "\u001b[1;32m<ipython-input-31-97edc60287ac>\u001b[0m in \u001b[0;36m<genexpr>\u001b[1;34m(.0)\u001b[0m\n\u001b[0;32m      6\u001b[0m                 \u001b[0minputList\u001b[0m\u001b[1;33m[\u001b[0m\u001b[0mi\u001b[0m\u001b[1;33m]\u001b[0m \u001b[1;33m=\u001b[0m \u001b[0minputList\u001b[0m\u001b[1;33m[\u001b[0m\u001b[0mi\u001b[0m\u001b[1;33m]\u001b[0m\u001b[1;33m.\u001b[0m\u001b[0mlower\u001b[0m\u001b[1;33m(\u001b[0m\u001b[1;33m)\u001b[0m\u001b[1;33m\u001b[0m\u001b[1;33m\u001b[0m\u001b[0m\n\u001b[0;32m      7\u001b[0m \u001b[1;33m\u001b[0m\u001b[0m\n\u001b[1;32m----> 8\u001b[1;33m     \u001b[1;32mreturn\u001b[0m \u001b[0mdict\u001b[0m\u001b[1;33m(\u001b[0m\u001b[1;33m(\u001b[0m\u001b[0melement\u001b[0m\u001b[1;33m,\u001b[0m \u001b[0minputList\u001b[0m\u001b[1;33m.\u001b[0m\u001b[0mcount\u001b[0m\u001b[1;33m(\u001b[0m\u001b[0melement\u001b[0m\u001b[1;33m)\u001b[0m\u001b[1;33m)\u001b[0m \u001b[1;32mfor\u001b[0m \u001b[0melement\u001b[0m \u001b[1;32min\u001b[0m \u001b[0mset\u001b[0m\u001b[1;33m(\u001b[0m\u001b[0minputList\u001b[0m\u001b[1;33m)\u001b[0m\u001b[1;33m)\u001b[0m\u001b[1;33m\u001b[0m\u001b[1;33m\u001b[0m\u001b[0m\n\u001b[0m",
      "\u001b[1;31mAttributeError\u001b[0m: 'numpy.ndarray' object has no attribute 'count'"
     ]
    }
   ],
   "source": [
    "dicerolls(2,1000)"
   ]
  },
  {
   "cell_type": "code",
   "execution_count": 25,
   "metadata": {},
   "outputs": [],
   "source": [
    "def dicerolls(k, n):\n",
    "    number = [1, 2, 3, 4, 5, 6]\n",
    "    rng = np.random.default_rng()\n",
    "    rolls = []\n",
    "    for i in range(n):\n",
    "        roll = sum(rng.choice(number, k))\n",
    "        rolls.append(roll)    \n",
    "    outcome = counts(rolls)\n",
    "    print(outcome)"
   ]
  },
  {
   "cell_type": "code",
   "execution_count": 26,
   "metadata": {},
   "outputs": [
    {
     "name": "stdout",
     "output_type": "stream",
     "text": [
      "{2: 2809, 3: 5471, 4: 8455, 5: 10987, 6: 13809, 7: 16632, 8: 13971, 9: 11071, 10: 8414, 11: 5622, 12: 2759}\n"
     ]
    }
   ],
   "source": [
    "dicerolls(2, 100000)"
   ]
  },
  {
   "cell_type": "code",
   "execution_count": null,
   "metadata": {},
   "outputs": [],
   "source": []
  },
  {
   "cell_type": "code",
   "execution_count": null,
   "metadata": {},
   "outputs": [],
   "source": []
  },
  {
   "cell_type": "markdown",
   "metadata": {},
   "source": [
    "### Task 3\n",
    "November 16th, 2020: \n",
    "The numpy.random.binomial function can be used to simulate flipping a coin with a 50/50 chance of heads or tails. \n",
    "Interestingly, if a coin is flipped many times then the number of heads is well approximated by a\n",
    "bell-shaped curve. For instance, if we flip a coin 100 times in a row the chance of\n",
    "getting 50 heads is relatively high, the chances of getting 0 or 100 heads is relatively\n",
    "low, and the chances of getting any other number of heads decreases as you move\n",
    "away from 50 in either direction towards 0 or 100. \n",
    "\n",
    "Write some python code that\n",
    "    -simulates flipping a coin 100 times. \n",
    "    -Then run this code 1,000 times, keeping track\n",
    "of the number of heads in each of the 1,000 simulations. \n",
    "\n",
    "Select an appropriate plot to depict the resulting list of 1,000 numbers, showing that it roughly follows\n",
    "a bell-shaped curve. You should explain your work in a Markdown cell above the code."
   ]
  },
  {
   "cell_type": "code",
   "execution_count": null,
   "metadata": {},
   "outputs": [],
   "source": [
    "rng = np.random.default_rng()\n",
    "n, p = 100, .5\n",
    "s = rng.binomial(n,p, 1000)\n",
    "s"
   ]
  },
  {
   "cell_type": "code",
   "execution_count": null,
   "metadata": {},
   "outputs": [],
   "source": [
    "#https://livebook.manning.com/book/data-science-bookcamp/chapter-3/v-2/15"
   ]
  },
  {
   "cell_type": "code",
   "execution_count": null,
   "metadata": {},
   "outputs": [],
   "source": [
    "import pandas as pd"
   ]
  },
  {
   "cell_type": "markdown",
   "metadata": {},
   "source": [
    "### Task 4  - Simpson's Paradox\n",
    "Task - November 30th, 2020: \n",
    "\n",
    "Simpson’s paradox is a well-known statistical paradox where a trend evident in a number of groups reverses when the groups are combined into one big data set. \n",
    "Use numpy to create four data sets, each with an x array and a corresponding y array, to demonstrate Simpson’s paradox. \n",
    "You might create your x arrays using numpy.linspace and create the y array for each x using notation like y = a * x + b where you choose the a and b for each x , y pair to demonstrate the paradox. \n",
    "You might see the Wikipedia page for Simpson’s paradox for inspiration.\n",
    "\n",
    "Simpsons Paradox Wikipedia page.\n",
    "https://en.wikipedia.org/wiki/Simpson%27s_paradox#:~:text=Simpson's%20paradox%2C%20which%20also%20goes,when%20these%20groups%20are%20combined.\n",
    "\n",
    "Simpson's Paradox\n",
    "***\n",
    "Brilliant.org describe Simpson's Paradox simply as\n",
    "\n",
    "\"Simpson's paradox occurs when groups of data show one particular trend, but this trend is reversed when the groups are combined together. \" https://brilliant.org/wiki/simpsons-paradox/\n",
    "\n",
    "\n",
    "The dataset to describe the paradox is made up data showing four football teams and the conversion rate of penalties from 2019 & 2020.\n",
    "\n",
    "Example below is a dataset set manually created with assistance from various examples such as:\n",
    "https://brilliant.org/wiki/simpsons-paradox/\n",
    "https://en.wikipedia.org/wiki/Simpson%27s_paradox#\n",
    "https://github.com/WillKoehrsen/Data-Analysis/blob/master/statistics/Simpson's%20Paradox.ipynb"
   ]
  },
  {
   "cell_type": "markdown",
   "metadata": {},
   "source": []
  },
  {
   "cell_type": "code",
   "execution_count": null,
   "metadata": {},
   "outputs": [],
   "source": [
    "# Creating Dataframe\n",
    "# Adding each team and setting the index as Team and the clubs as rows \n",
    "data = [['Man Utd'], ['Barcelona'], ['Juventus'] ,['Shamrock Rovers']]\n",
    "df = pd.DataFrame(data, columns = ['Team']) \n",
    "df.set_index('Team',inplace=True)\n",
    "\n",
    "# Adding new columns with data for each team\n",
    "# Dataset looks at the conversion rate of penalties so 'scored' and 'taken' columns added for each year\n",
    "# Please note values are selected at random in order to show a true refelction of paradox\n",
    "\n",
    "df['2019_Penalties Scored'] = ([12,104,51,26])\n",
    "df['2019_Penalties Taken'] = ([48,411,203,100])\n",
    "df['2020_Penalties Scored'] = ([183,45,102,6])\n",
    "df['2020_Penalties Taken'] = ([582,140,325,9])\n",
    "\n",
    "# Adding further column to add the total penalties taken by each each club\n",
    "df['Total_taken'] = df['2019_Penalties Taken'] + df['2020_Penalties Taken']\n",
    "\n",
    "# Adding three % columns in order to show the scoring rate by each club for each year and combined.\n",
    "df['2019_%_Scored'] = (df['2019_Penalties Scored'] / df['2019_Penalties Taken']) * 100\n",
    "df['2020_%_Scored'] = (df['2020_Penalties Scored'] / df['2020_Penalties Taken']) * 100\n",
    "df['Total_%_scored'] = (df['2020_Penalties Scored'] + df['2019_Penalties Scored']) / df['Total_taken'] * 100\n",
    "# Run the dataset\n",
    "df"
   ]
  },
  {
   "cell_type": "markdown",
   "metadata": {},
   "source": [
    "Analysis of the dataset\n",
    "***\n",
    "As stated above, Simpson's Paradox occurs when groups of data show one particular trend, but this trend is reversed when the groups are combined together. \"\n",
    "\n",
    "In the dataset above, you can see the values of each club for scored penalties and total panalties taken. \n",
    "\n",
    "                    Year   %\n",
    "- Man Utd:          2019   25%\n",
    "                    2020   31.4%\n",
    "- Barcelona:        2019   25.3%\n",
    "                    2020   32%\n",
    "- Juventus:         2019   25.1%\n",
    "                    2020   31.48%\n",
    "- Shamrock Rovers:  2019   26%\n",
    "                    2020   66%"
   ]
  },
  {
   "cell_type": "code",
   "execution_count": null,
   "metadata": {},
   "outputs": [],
   "source": [
    "df.loc['Total', :5] = list(df.iloc[:, :5].sum())\n",
    "\n",
    "df.loc['Total', '2019_%_Scored'] = df.loc['Total', '2019_Penalties Scored'] / df.loc['Total', '2019_Penalties Taken'] * 100\n",
    "df.loc['Total', '2020_%_Scored'] = df.loc['Total', '2020_Penalties Scored'] / df.loc['Total', '2020_Penalties Taken'] * 100\n",
    "df.loc['Total', 'Total_%_scored'] = (df.loc['Total', '2020_Penalties Scored'] + df.loc['Total', '2019_Penalties Scored']) / df.loc['Total', 'Total_taken'] * 100\n",
    "df"
   ]
  },
  {
   "cell_type": "code",
   "execution_count": null,
   "metadata": {},
   "outputs": [],
   "source": [
    " # Number of penalties scored\n",
    "a = 2\n",
    "b = 2\n",
    "\n",
    "x = np.linspace(10.0, 19.0, num=4)\n",
    "\n",
    "y =  np.linspace(7.0, 16.0, num=4)\n",
    "\n",
    "#a1 = 3\n",
    "#b1 = 3\n",
    "\n",
    "x1 = (a * x + b)\n",
    "y1 = (a * x1 + b)\n",
    "\n",
    "# Arg total\n",
    "print(x)\n",
    "\n",
    "#arg rotten\n",
    "print(x1)\n",
    "\n",
    "# Aus total rec\n",
    "print(y)\n",
    "\n",
    "#Aus rotten\n",
    "print(y1)"
   ]
  },
  {
   "cell_type": "code",
   "execution_count": null,
   "metadata": {},
   "outputs": [],
   "source": [
    "#a = 2\n",
    "#b = 15\n",
    "#y = (a * x + b)\n",
    "#y"
   ]
  },
  {
   "cell_type": "code",
   "execution_count": null,
   "metadata": {},
   "outputs": [],
   "source": []
  },
  {
   "cell_type": "code",
   "execution_count": null,
   "metadata": {},
   "outputs": [],
   "source": []
  },
  {
   "cell_type": "code",
   "execution_count": null,
   "metadata": {},
   "outputs": [],
   "source": []
  },
  {
   "cell_type": "code",
   "execution_count": null,
   "metadata": {},
   "outputs": [],
   "source": [
    "df.loc['Total', :5] = list(df.iloc[:, :5].sum())\n",
    "\n",
    "df.loc['Total', '2019_%_Scored'] = df.loc['Total', '2019_Penalties Scored'] / df.loc['Total', '2019_Penalties Taken'] * 100\n",
    "df.loc['Total', '2020_%_Scored'] = df.loc['Total', '2020_Penalties Scored'] / df.loc['Total', '2020_Penalties Taken'] * 100\n",
    "df.loc['Total', 'Total_%_scored'] = (df.loc['Total', '2020_Penalties Scored'] + df.loc['Total', '2019_Penalties Scored']) / df.loc['Total', 'Total_taken'] * 100\n",
    "df\n",
    "#df.loc['Total', 'OZ_%'] = df.loc['Total', 'Aus_rotten_amt'] / df.loc['Total', 'Aus_Total_Rec'] * 100\n",
    "#df.loc['Total', 'Total_%'] = df.loc['Total', 'Total_rotten'] / df.loc['Total', 'Total'] * 100\n",
    "#df"
   ]
  },
  {
   "cell_type": "code",
   "execution_count": null,
   "metadata": {},
   "outputs": [],
   "source": [
    "# example - plotting np.linspace\n",
    "\n",
    "import numpy as np \n",
    "import pylab as p \n",
    "a2 = 2\n",
    "b2 = 3\n",
    "x2 = np.linspace(7.0, 79.0, num=10)\n",
    "y2 = (a2 * x2 + b2)\n",
    "\n",
    "x3 = np.linspace(40, 112, num =10)\n",
    "y3 = (1 * x3 - 20)\n",
    "print(x2)\n",
    "print(y2)\n",
    "\n",
    "print(x3)\n",
    "print(y3)\n",
    "\n",
    "p.plot(x2, y2, x3, y3) \n",
    "p.xlim(0.0, 125.0) "
   ]
  },
  {
   "cell_type": "code",
   "execution_count": null,
   "metadata": {},
   "outputs": [],
   "source": []
  },
  {
   "cell_type": "code",
   "execution_count": null,
   "metadata": {},
   "outputs": [],
   "source": []
  }
 ],
 "metadata": {
  "kernelspec": {
   "display_name": "Python 3",
   "language": "python",
   "name": "python3"
  },
  "language_info": {
   "codemirror_mode": {
    "name": "ipython",
    "version": 3
   },
   "file_extension": ".py",
   "mimetype": "text/x-python",
   "name": "python",
   "nbconvert_exporter": "python",
   "pygments_lexer": "ipython3",
   "version": "3.8.3"
  }
 },
 "nbformat": 4,
 "nbformat_minor": 4
}
