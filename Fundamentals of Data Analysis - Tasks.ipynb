{
 "cells": [
  {
   "cell_type": "markdown",
   "metadata": {},
   "source": []
  },
  {
   "cell_type": "code",
   "execution_count": 1,
   "metadata": {},
   "outputs": [],
   "source": [
    "import numpy as np"
   ]
  },
  {
   "cell_type": "code",
   "execution_count": null,
   "metadata": {},
   "outputs": [],
   "source": []
  },
  {
   "cell_type": "markdown",
   "metadata": {},
   "source": [
    "#### Task 1"
   ]
  },
  {
   "cell_type": "markdown",
   "metadata": {},
   "source": [
    "### Counts\n",
    "\n",
    "count function\n",
    "\n",
    "October 5th, 2020: \n",
    "Write a Python function called counts that takes a list as input and returns a dictionary of unique items in the list as keys and the number of times each item appears as values.\n",
    "Example:\n",
    "So, the input ['A', 'A', 'B', 'C', 'A']\n",
    "should have output {'A': 3, 'B': 1, 'C': 1} . Your code should not depend\n",
    "on any module from the standard library1 or otherwise. \n",
    "\n",
    "You should research the task first and include a description with references of your algorithm in the\n",
    "notebook.\n"
   ]
  },
  {
   "cell_type": "code",
   "execution_count": 2,
   "metadata": {},
   "outputs": [
    {
     "name": "stdout",
     "output_type": "stream",
     "text": [
      "{'c': 2, 'b': 3, 'a': 10, 'dog': 1, '1': 1, 'one': 1}\n"
     ]
    }
   ],
   "source": [
    "from collections import Counter\n",
    "c1=Counter(['c','b','a','b','c','a','b','a','a','a','a','a','a','a','a', 'dog', '1', 'one'])\n",
    "print (dict(c1))"
   ]
  },
  {
   "cell_type": "code",
   "execution_count": null,
   "metadata": {},
   "outputs": [],
   "source": []
  },
  {
   "cell_type": "code",
   "execution_count": null,
   "metadata": {},
   "outputs": [],
   "source": []
  },
  {
   "cell_type": "code",
   "execution_count": 3,
   "metadata": {},
   "outputs": [],
   "source": [
    "from collections import Counter\n",
    "l =Counter(['1','1','1','1'])"
   ]
  },
  {
   "cell_type": "code",
   "execution_count": 4,
   "metadata": {},
   "outputs": [
    {
     "name": "stdout",
     "output_type": "stream",
     "text": [
      "Counter({'1': 4})\n",
      "{'1': 4}\n"
     ]
    }
   ],
   "source": [
    "print(l)\n",
    "print (dict(l))\n"
   ]
  },
  {
   "cell_type": "code",
   "execution_count": null,
   "metadata": {},
   "outputs": [],
   "source": []
  },
  {
   "cell_type": "code",
   "execution_count": null,
   "metadata": {},
   "outputs": [],
   "source": []
  },
  {
   "cell_type": "markdown",
   "metadata": {},
   "source": [
    "### Task 2 \n",
    "\n",
    "numpy & count function\n",
    "\n",
    "Rolling Dice\n",
    "***\n",
    "\n",
    "Function that simulates rolling dice\n",
    "\n",
    "2 Parameters\n",
    " k = number of dice\n",
    " r = number of times to roll the dice n\n",
    " \n",
    " module from standard python library \n",
    " \n",
    " random module\n",
    " \n",
    " maybe plot bar chart\n",
    " \n",
    " \n",
    " \n",
    " \n",
    "November 2nd, 2020: \n",
    "\n",
    "Write a Python function called dicerolls that simulates rolling dice. \n",
    "Your function should take two parameters: the number of dice k and the number of times to roll the dice n. \n",
    "The function should simulate randomly rolling k dice n times, keeping track of each total face value. \n",
    "It should then return a dictionary with the number of times each possible total face value occurred. \n",
    "So, calling the function as diceroll(k=2, n=1000) should return a dictionary like:\n",
    "{2:19,3:50,4:82,5:112,6:135,7:174,8:133,9:114,10:75,11:70,12:36}\n",
    "You can use any module from the Python standard library you wish and you should\n",
    "include a description with references of your algorithm in the notebook.\n"
   ]
  },
  {
   "cell_type": "code",
   "execution_count": 5,
   "metadata": {},
   "outputs": [],
   "source": [
    "# diceroll = (k=2, n=1000)"
   ]
  },
  {
   "cell_type": "code",
   "execution_count": null,
   "metadata": {},
   "outputs": [],
   "source": []
  },
  {
   "cell_type": "code",
   "execution_count": 6,
   "metadata": {},
   "outputs": [
    {
     "data": {
      "text/plain": [
       "Counter({1: 1, 2: 1, 3: 1, 4: 1, 5: 1, 6: 1})"
      ]
     },
     "execution_count": 6,
     "metadata": {},
     "output_type": "execute_result"
    }
   ],
   "source": [
    "# Fair roll of 1 dice evenly\n",
    "\n",
    "d = Counter(range(1,7))\n",
    "d"
   ]
  },
  {
   "cell_type": "code",
   "execution_count": 7,
   "metadata": {},
   "outputs": [
    {
     "data": {
      "text/plain": [
       "Counter({1: 1, 2: 1, 3: 1, 4: 1, 5: 1, 6: 1})"
      ]
     },
     "execution_count": 7,
     "metadata": {},
     "output_type": "execute_result"
    }
   ],
   "source": [
    "d2 = Counter(range(1,7))\n",
    "d2"
   ]
  },
  {
   "cell_type": "code",
   "execution_count": null,
   "metadata": {},
   "outputs": [],
   "source": []
  },
  {
   "cell_type": "code",
   "execution_count": null,
   "metadata": {},
   "outputs": [],
   "source": []
  },
  {
   "cell_type": "code",
   "execution_count": null,
   "metadata": {},
   "outputs": [],
   "source": []
  },
  {
   "cell_type": "code",
   "execution_count": null,
   "metadata": {},
   "outputs": [],
   "source": []
  },
  {
   "cell_type": "code",
   "execution_count": 8,
   "metadata": {},
   "outputs": [],
   "source": [
    "import numpy as np\n",
    "\n",
    "#def dicerolls(k):\n",
    "    #number = [1, 2, 3, 4, 5, 6]\n",
    "    #rng = np.random.default_rng()\n",
    "    #roll = rng.choice([1, 2, 3, 4 ,5, 6], k)\n",
    "    #quantity = []\n",
    "    #faceval = 0\n",
    "    #for i in range(0, k):\n",
    "        #faceval = faceval + roll[i]\n",
    "    #quantity.append()"
   ]
  },
  {
   "cell_type": "code",
   "execution_count": null,
   "metadata": {},
   "outputs": [],
   "source": []
  },
  {
   "cell_type": "code",
   "execution_count": 9,
   "metadata": {},
   "outputs": [],
   "source": [
    "def counts(inputList, caseSensitivity=True):\n",
    "    \n",
    "    if caseSensitivity==False:\n",
    "        for i in range(0, len(inputList)):\n",
    "            if isinstance(inputList[i], str):\n",
    "                inputList[i] = inputList[i].lower()    \n",
    "    \n",
    "    return dict((element, inputList.count(element)) for element in set(inputList))"
   ]
  },
  {
   "cell_type": "code",
   "execution_count": 10,
   "metadata": {},
   "outputs": [],
   "source": [
    "def dicerolls(k, n):\n",
    "    number = [1, 2, 3, 4, 5, 6]\n",
    "    rng = np.random.default_rng()\n",
    "    rolls = []\n",
    "    for i in range(n):\n",
    "        roll = sum(rng.choice(number, k))\n",
    "        rolls.append(roll)    \n",
    "    outcome = counts(rolls)\n",
    "    print(outcome)"
   ]
  },
  {
   "cell_type": "code",
   "execution_count": 11,
   "metadata": {},
   "outputs": [
    {
     "name": "stdout",
     "output_type": "stream",
     "text": [
      "{2: 2755, 3: 5525, 4: 8347, 5: 11139, 6: 13791, 7: 16658, 8: 14057, 9: 11134, 10: 8247, 11: 5524, 12: 2823}\n"
     ]
    }
   ],
   "source": [
    "dicerolls(2, 100000)"
   ]
  },
  {
   "cell_type": "code",
   "execution_count": null,
   "metadata": {},
   "outputs": [],
   "source": []
  },
  {
   "cell_type": "code",
   "execution_count": null,
   "metadata": {},
   "outputs": [],
   "source": []
  },
  {
   "cell_type": "markdown",
   "metadata": {},
   "source": [
    "### Task 3\n",
    "November 16th, 2020: \n",
    "The numpy.random.binomial function can be used to simulate flipping a coin with a 50/50 chance of heads or tails. \n",
    "Interestingly, if a coin is flipped many times then the number of heads is well approximated by a\n",
    "bell-shaped curve. For instance, if we flip a coin 100 times in a row the chance of\n",
    "getting 50 heads is relatively high, the chances of getting 0 or 100 heads is relatively\n",
    "low, and the chances of getting any other number of heads decreases as you move\n",
    "away from 50 in either direction towards 0 or 100. \n",
    "\n",
    "Write some python code that\n",
    "    -simulates flipping a coin 100 times. \n",
    "    -Then run this code 1,000 times, keeping track\n",
    "of the number of heads in each of the 1,000 simulations. \n",
    "\n",
    "Select an appropriate plot to depict the resulting list of 1,000 numbers, showing that it roughly follows\n",
    "a bell-shaped curve. You should explain your work in a Markdown cell above the code."
   ]
  },
  {
   "cell_type": "code",
   "execution_count": 12,
   "metadata": {},
   "outputs": [
    {
     "data": {
      "text/plain": [
       "array([52, 50, 48, 58, 56, 50, 48, 48, 49, 46, 48, 46, 58, 48, 48, 53, 49,\n",
       "       52, 40, 50, 47, 48, 51, 47, 45, 50, 53, 53, 48, 46, 48, 56, 49, 48,\n",
       "       44, 51, 46, 53, 55, 46, 54, 49, 53, 53, 60, 52, 55, 51, 50, 55, 56,\n",
       "       47, 51, 45, 48, 40, 42, 49, 57, 46, 54, 48, 52, 41, 55, 55, 48, 56,\n",
       "       54, 50, 47, 61, 44, 43, 62, 53, 51, 53, 64, 43, 59, 46, 49, 43, 44,\n",
       "       44, 46, 53, 48, 54, 48, 50, 55, 51, 55, 51, 51, 53, 52, 56, 45, 42,\n",
       "       55, 61, 42, 50, 42, 44, 49, 50, 56, 57, 55, 56, 57, 48, 47, 50, 64,\n",
       "       43, 45, 48, 46, 49, 52, 48, 60, 46, 45, 54, 56, 42, 49, 56, 49, 44,\n",
       "       47, 52, 49, 45, 46, 47, 53, 46, 55, 48, 45, 60, 63, 40, 44, 50, 38,\n",
       "       58, 50, 57, 46, 46, 53, 56, 49, 49, 47, 48, 59, 52, 50, 45, 54, 58,\n",
       "       48, 46, 55, 55, 61, 46, 50, 47, 46, 53, 39, 45, 42, 45, 48, 48, 61,\n",
       "       48, 50, 55, 51, 53, 50, 51, 47, 44, 33, 50, 46, 43, 40, 53, 55, 56,\n",
       "       55, 52, 52, 51, 44, 48, 51, 48, 52, 47, 51, 50, 46, 56, 53, 50, 45,\n",
       "       36, 63, 47, 46, 49, 45, 48, 58, 50, 56, 49, 51, 61, 53, 46, 54, 59,\n",
       "       54, 54, 46, 51, 54, 55, 54, 53, 43, 51, 50, 47, 44, 50, 57, 52, 42,\n",
       "       53, 49, 44, 56, 45, 46, 52, 46, 49, 51, 50, 53, 50, 53, 50, 39, 44,\n",
       "       45, 50, 48, 43, 51, 47, 47, 43, 54, 50, 48, 42, 48, 53, 53, 42, 46,\n",
       "       41, 50, 45, 53, 49, 45, 55, 49, 49, 50, 58, 53, 53, 45, 49, 49, 53,\n",
       "       54, 57, 50, 53, 55, 34, 62, 48, 55, 47, 45, 51, 53, 49, 56, 49, 45,\n",
       "       55, 57, 40, 50, 48, 50, 55, 51, 52, 50, 55, 52, 52, 46, 50, 46, 46,\n",
       "       52, 43, 45, 48, 47, 47, 56, 52, 56, 49, 47, 55, 53, 47, 48, 54, 48,\n",
       "       50, 51, 59, 43, 48, 51, 45, 53, 45, 64, 47, 62, 44, 41, 47, 50, 44,\n",
       "       44, 50, 53, 47, 52, 48, 45, 53, 54, 52, 45, 51, 51, 56, 48, 57, 55,\n",
       "       50, 46, 54, 47, 43, 45, 51, 49, 54, 51, 50, 61, 48, 45, 49, 49, 53,\n",
       "       41, 59, 42, 53, 49, 48, 45, 47, 45, 58, 55, 47, 51, 45, 42, 57, 62,\n",
       "       45, 45, 52, 49, 48, 53, 50, 57, 49, 53, 55, 49, 53, 45, 48, 49, 52,\n",
       "       54, 42, 50, 58, 52, 52, 51, 50, 42, 53, 48, 49, 50, 52, 46, 55, 48,\n",
       "       43, 47, 52, 42, 51, 47, 47, 63, 54, 51, 58, 55, 54, 61, 48, 51, 53,\n",
       "       52, 53, 57, 45, 56, 51, 45, 47, 56, 51, 46, 49, 49, 44, 52, 56, 43,\n",
       "       55, 47, 44, 53, 48, 56, 41, 52, 44, 45, 51, 41, 51, 52, 59, 48, 54,\n",
       "       49, 45, 52, 52, 49, 52, 58, 49, 52, 60, 48, 57, 46, 54, 49, 51, 48,\n",
       "       54, 50, 52, 52, 56, 49, 46, 44, 55, 57, 54, 52, 52, 49, 48, 53, 40,\n",
       "       58, 39, 56, 49, 45, 53, 51, 50, 54, 51, 57, 41, 56, 50, 46, 54, 55,\n",
       "       44, 52, 45, 46, 56, 45, 45, 50, 52, 53, 55, 41, 62, 54, 50, 46, 46,\n",
       "       39, 54, 47, 51, 51, 43, 51, 51, 52, 45, 54, 50, 46, 49, 46, 58, 44,\n",
       "       44, 50, 53, 57, 55, 45, 64, 51, 52, 50, 46, 44, 39, 53, 47, 48, 50,\n",
       "       46, 55, 49, 56, 48, 52, 44, 50, 45, 47, 52, 50, 42, 58, 40, 47, 45,\n",
       "       58, 47, 49, 56, 47, 44, 45, 58, 44, 45, 48, 50, 49, 58, 55, 55, 62,\n",
       "       37, 52, 57, 46, 51, 51, 42, 57, 46, 59, 62, 53, 45, 47, 52, 58, 47,\n",
       "       37, 51, 48, 45, 53, 55, 52, 57, 53, 43, 50, 47, 49, 47, 52, 44, 49,\n",
       "       50, 51, 44, 43, 48, 52, 54, 50, 58, 45, 58, 52, 49, 55, 57, 48, 45,\n",
       "       50, 52, 56, 53, 53, 52, 52, 56, 49, 49, 46, 59, 58, 50, 49, 47, 47,\n",
       "       48, 55, 51, 56, 50, 40, 56, 48, 51, 52, 50, 50, 48, 49, 51, 55, 56,\n",
       "       47, 44, 49, 64, 52, 50, 46, 49, 53, 47, 52, 44, 40, 53, 52, 50, 52,\n",
       "       43, 50, 51, 50, 51, 44, 57, 53, 50, 51, 42, 50, 52, 50, 51, 54, 43,\n",
       "       54, 48, 53, 48, 51, 49, 48, 53, 55, 47, 52, 55, 47, 51, 44, 53, 51,\n",
       "       47, 47, 60, 52, 50, 52, 48, 42, 46, 44, 48, 56, 55, 42, 52, 54, 44,\n",
       "       56, 41, 49, 49, 55, 45, 44, 47, 50, 55, 55, 47, 49, 55, 55, 51, 50,\n",
       "       54, 59, 49, 55, 48, 59, 47, 51, 46, 48, 53, 52, 54, 44, 43, 42, 51,\n",
       "       53, 46, 48, 50, 53, 50, 54, 43, 48, 46, 51, 53, 52, 45, 51, 56, 49,\n",
       "       50, 50, 50, 52, 47, 47, 42, 49, 52, 43, 48, 49, 58, 49, 52, 44, 49,\n",
       "       46, 47, 55, 51, 57, 55, 43, 48, 55, 50, 51, 40, 55, 51, 50, 42, 57,\n",
       "       44, 53, 51, 51, 49, 54, 48, 49, 51, 44, 53, 46, 46, 55, 51, 58, 46,\n",
       "       45, 48, 49, 50, 50, 47, 49, 51, 53, 51, 43, 49, 54, 50, 43, 38, 52,\n",
       "       59, 45, 48, 50, 47, 46, 52, 51, 52, 49, 50, 53, 54, 48, 49, 42, 53,\n",
       "       61, 46, 41, 45, 47, 52, 54, 46, 52, 49, 54, 44, 41, 38, 51, 46, 49,\n",
       "       48, 47, 59, 48, 59, 49, 55, 54, 59, 49, 44, 51, 51, 53, 61, 40, 47,\n",
       "       53, 53, 48, 56, 55, 58, 46, 48, 49, 49, 38, 41, 55, 47, 51, 53, 60,\n",
       "       56, 51, 47, 44, 51, 57, 54, 45, 52, 54, 47, 49, 55, 48],\n",
       "      dtype=int64)"
      ]
     },
     "execution_count": 12,
     "metadata": {},
     "output_type": "execute_result"
    }
   ],
   "source": [
    "rng = np.random.default_rng()\n",
    "n, p = 100, .5\n",
    "s = rng.binomial(n,p, 1000)\n",
    "s"
   ]
  },
  {
   "cell_type": "code",
   "execution_count": 130,
   "metadata": {},
   "outputs": [],
   "source": [
    "import pandas as pd"
   ]
  },
  {
   "cell_type": "markdown",
   "metadata": {},
   "source": [
    "### Task 4 \n",
    "November 30th, 2020: \n",
    "Simpson’s paradox is a well-known statistical paradox where a trend evident in a number of groups reverses when the groups are combined into one big data set. \n",
    "Use numpy to create four data sets, each with an x array and a corresponding y array, to demonstrate Simpson’s paradox. \n",
    "You might create your x arrays using numpy.linspace and create the y array for each x using notation like y = a * x + b where you choose the a and b for each x , y pair to demonstrate the paradox. \n",
    "You might see the Wikipedia page for Simpson’s paradox for inspiration.\n",
    "\n",
    "Simpsons Paradox Wikipedia page.\n",
    "https://en.wikipedia.org/wiki/Simpson%27s_paradox#:~:text=Simpson's%20paradox%2C%20which%20also%20goes,when%20these%20groups%20are%20combined.\n",
    "\n"
   ]
  },
  {
   "cell_type": "code",
   "execution_count": 211,
   "metadata": {},
   "outputs": [
    {
     "name": "stdout",
     "output_type": "stream",
     "text": [
      "[ 17.  51.  85. 119.]\n",
      "[ 49. 117. 185. 253.]\n"
     ]
    }
   ],
   "source": [
    "x = np.linspace(17.0, 119.0, num=4)\n",
    "a = 2\n",
    "b = 15\n",
    "y = (a * x + b)\n",
    "print(x)\n",
    "print(y)"
   ]
  },
  {
   "cell_type": "code",
   "execution_count": 212,
   "metadata": {},
   "outputs": [],
   "source": [
    "#a = 2\n",
    "#b = 15\n",
    "#y = (a * x + b)\n",
    "#y"
   ]
  },
  {
   "cell_type": "code",
   "execution_count": null,
   "metadata": {},
   "outputs": [],
   "source": []
  },
  {
   "cell_type": "code",
   "execution_count": null,
   "metadata": {},
   "outputs": [],
   "source": []
  },
  {
   "cell_type": "code",
   "execution_count": null,
   "metadata": {},
   "outputs": [],
   "source": []
  },
  {
   "cell_type": "code",
   "execution_count": null,
   "metadata": {},
   "outputs": [],
   "source": []
  },
  {
   "cell_type": "code",
   "execution_count": null,
   "metadata": {},
   "outputs": [],
   "source": []
  },
  {
   "cell_type": "code",
   "execution_count": 216,
   "metadata": {},
   "outputs": [
    {
     "data": {
      "text/html": [
       "<div>\n",
       "<style scoped>\n",
       "    .dataframe tbody tr th:only-of-type {\n",
       "        vertical-align: middle;\n",
       "    }\n",
       "\n",
       "    .dataframe tbody tr th {\n",
       "        vertical-align: top;\n",
       "    }\n",
       "\n",
       "    .dataframe thead th {\n",
       "        text-align: right;\n",
       "    }\n",
       "</style>\n",
       "<table border=\"1\" class=\"dataframe\">\n",
       "  <thead>\n",
       "    <tr style=\"text-align: right;\">\n",
       "      <th></th>\n",
       "      <th>Arg_Total_Rec</th>\n",
       "      <th>Arg_rotten_amt</th>\n",
       "      <th>Aus_Total_Rec</th>\n",
       "      <th>Aus_rotten_amt</th>\n",
       "      <th>Total</th>\n",
       "      <th>Total_rotten</th>\n",
       "    </tr>\n",
       "    <tr>\n",
       "      <th>Fruit</th>\n",
       "      <th></th>\n",
       "      <th></th>\n",
       "      <th></th>\n",
       "      <th></th>\n",
       "      <th></th>\n",
       "      <th></th>\n",
       "    </tr>\n",
       "  </thead>\n",
       "  <tbody>\n",
       "    <tr>\n",
       "      <th>apples</th>\n",
       "      <td>17.0</td>\n",
       "      <td>2.0</td>\n",
       "      <td>49.0</td>\n",
       "      <td>11.0</td>\n",
       "      <td>66.0</td>\n",
       "      <td>13.0</td>\n",
       "    </tr>\n",
       "    <tr>\n",
       "      <th>oranges</th>\n",
       "      <td>51.0</td>\n",
       "      <td>4.0</td>\n",
       "      <td>117.0</td>\n",
       "      <td>45.0</td>\n",
       "      <td>168.0</td>\n",
       "      <td>49.0</td>\n",
       "    </tr>\n",
       "    <tr>\n",
       "      <th>bananas</th>\n",
       "      <td>85.0</td>\n",
       "      <td>6.0</td>\n",
       "      <td>185.0</td>\n",
       "      <td>79.0</td>\n",
       "      <td>270.0</td>\n",
       "      <td>85.0</td>\n",
       "    </tr>\n",
       "    <tr>\n",
       "      <th>pears</th>\n",
       "      <td>119.0</td>\n",
       "      <td>8.0</td>\n",
       "      <td>253.0</td>\n",
       "      <td>113.0</td>\n",
       "      <td>372.0</td>\n",
       "      <td>121.0</td>\n",
       "    </tr>\n",
       "    <tr>\n",
       "      <th>Total</th>\n",
       "      <td>272.0</td>\n",
       "      <td>20.0</td>\n",
       "      <td>604.0</td>\n",
       "      <td>248.0</td>\n",
       "      <td>876.0</td>\n",
       "      <td>268.0</td>\n",
       "    </tr>\n",
       "  </tbody>\n",
       "</table>\n",
       "</div>"
      ],
      "text/plain": [
       "         Arg_Total_Rec  Arg_rotten_amt  Aus_Total_Rec  Aus_rotten_amt  Total  \\\n",
       "Fruit                                                                          \n",
       "apples            17.0             2.0           49.0            11.0   66.0   \n",
       "oranges           51.0             4.0          117.0            45.0  168.0   \n",
       "bananas           85.0             6.0          185.0            79.0  270.0   \n",
       "pears            119.0             8.0          253.0           113.0  372.0   \n",
       "Total            272.0            20.0          604.0           248.0  876.0   \n",
       "\n",
       "         Total_rotten  \n",
       "Fruit                  \n",
       "apples           13.0  \n",
       "oranges          49.0  \n",
       "bananas          85.0  \n",
       "pears           121.0  \n",
       "Total           268.0  "
      ]
     },
     "execution_count": 216,
     "metadata": {},
     "output_type": "execute_result"
    }
   ],
   "source": [
    "data = [['apples'], ['oranges'], ['bananas'] ,['pears']]\n",
    "df = pd.DataFrame(data, columns = ['Fruit']) \n",
    "df.set_index('Fruit',inplace=True)\n",
    "df['Arg_Total_Rec'] = x\n",
    "df['Arg_rotten_amt'] = np.linspace(2.0, 8.0, num=4)\n",
    "df['Aus_Total_Rec'] = y\n",
    "df['Aus_rotten_amt'] = np.linspace(11.0, 113.0, num=4)\n",
    "sum_total = df['Arg_Total_Rec'] + df['Aus_Total_Rec']\n",
    "df['Total'] = (sum_total)\n",
    "sum_rotten = df['Arg_rotten_amt'] + df['Aus_rotten_amt']\n",
    "df['Total_rotten'] = (sum_rotten)\n",
    "new_row = {'Arg_Total_Rec': 272, 'Arg_rotten_amt': 20,'Aus_Total_Rec':604, 'Aus_rotten_amt': 248, 'Total':876, 'Total_rotten':268}\n",
    "df = df.append(pd.Series(new_row, index=df.columns, name='Total'))\n",
    "df"
   ]
  },
  {
   "cell_type": "code",
   "execution_count": 174,
   "metadata": {},
   "outputs": [],
   "source": [
    "#df['Argentina'] = np.linspace(2.0, 8.0, num=4)\n",
    "\n",
    "#df['2020_Rating'] = np.random.poisson(df['Rating'], len(df))\n",
    "\n",
    "df['Arg_Total_Rec'] = x"
   ]
  },
  {
   "cell_type": "code",
   "execution_count": 175,
   "metadata": {},
   "outputs": [],
   "source": [
    "df['Arg_rotten_amt'] = np.linspace(2.0, 8.0, num=4)"
   ]
  },
  {
   "cell_type": "code",
   "execution_count": 176,
   "metadata": {},
   "outputs": [],
   "source": [
    "# df['ARG_%'] = (%['Argentina'])\n",
    "#https://www.geeksforgeeks.org/how-to-calculate-the-percentage-of-a-column-in-pandas/?ref=rp\n",
    "#df['ARG_%'] = (df['Arg_rotten_amt'] / df['Arg_Total_Rec'].sum()) * 100\n",
    "#https://stackoverflow.com/questions/36619631/how-to-divide-two-column-in-a-dataframe\n",
    "\n",
    "#df['ARG_%'] = (df['Arg_rotten_amt'] / df['Arg_Total_Rec']) * 100"
   ]
  },
  {
   "cell_type": "code",
   "execution_count": 177,
   "metadata": {},
   "outputs": [],
   "source": [
    "df['Aus_Total_Rec'] = y"
   ]
  },
  {
   "cell_type": "code",
   "execution_count": 178,
   "metadata": {},
   "outputs": [],
   "source": [
    "df['Aus_rotten_amt'] = np.linspace(11.0, 113.0, num=4)"
   ]
  },
  {
   "cell_type": "code",
   "execution_count": 179,
   "metadata": {},
   "outputs": [],
   "source": [
    "#https://www.geeksforgeeks.org/how-to-calculate-the-percentage-of-a-column-in-pandas/?ref=rp\n",
    "#https://stackoverflow.com/questions/36619631/how-to-divide-two-column-in-a-dataframe\n",
    "#df['OZ_%'] = (df['Aus_rotten_amt'] / df['Aus_Total_Rec']) * 100"
   ]
  },
  {
   "cell_type": "code",
   "execution_count": 180,
   "metadata": {},
   "outputs": [],
   "source": [
    "sum_total = df['Arg_Total_Rec'] + df['Aus_Total_Rec']\n",
    "df['Total'] = (sum_total)"
   ]
  },
  {
   "cell_type": "code",
   "execution_count": 181,
   "metadata": {},
   "outputs": [],
   "source": [
    "sum_rotten = df['Arg_rotten_amt'] + df['Aus_rotten_amt']\n",
    "df['Total_rotten'] = (sum_rotten)"
   ]
  },
  {
   "cell_type": "code",
   "execution_count": 182,
   "metadata": {},
   "outputs": [],
   "source": [
    "#sum_per = df['ARG_%'] + df['OZ_%']\n",
    "#df['Total_%'] = (sum_per)\n",
    "#https://stackoverflow.com/questions/36619631/how-to-divide-two-column-in-a-dataframe\n",
    "#df['Total_%'] = (df['Total_rotten'] / df['Total']) * 100"
   ]
  },
  {
   "cell_type": "code",
   "execution_count": 189,
   "metadata": {},
   "outputs": [
    {
     "data": {
      "text/html": [
       "<div>\n",
       "<style scoped>\n",
       "    .dataframe tbody tr th:only-of-type {\n",
       "        vertical-align: middle;\n",
       "    }\n",
       "\n",
       "    .dataframe tbody tr th {\n",
       "        vertical-align: top;\n",
       "    }\n",
       "\n",
       "    .dataframe thead th {\n",
       "        text-align: right;\n",
       "    }\n",
       "</style>\n",
       "<table border=\"1\" class=\"dataframe\">\n",
       "  <thead>\n",
       "    <tr style=\"text-align: right;\">\n",
       "      <th></th>\n",
       "      <th>Arg_Total_Rec</th>\n",
       "      <th>Arg_rotten_amt</th>\n",
       "      <th>Aus_Total_Rec</th>\n",
       "      <th>Aus_rotten_amt</th>\n",
       "      <th>Total</th>\n",
       "      <th>Total_rotten</th>\n",
       "    </tr>\n",
       "    <tr>\n",
       "      <th>Fruit</th>\n",
       "      <th></th>\n",
       "      <th></th>\n",
       "      <th></th>\n",
       "      <th></th>\n",
       "      <th></th>\n",
       "      <th></th>\n",
       "    </tr>\n",
       "  </thead>\n",
       "  <tbody>\n",
       "    <tr>\n",
       "      <th>apples</th>\n",
       "      <td>17.0</td>\n",
       "      <td>2.0</td>\n",
       "      <td>49.0</td>\n",
       "      <td>11.0</td>\n",
       "      <td>66.0</td>\n",
       "      <td>13.0</td>\n",
       "    </tr>\n",
       "    <tr>\n",
       "      <th>oranges</th>\n",
       "      <td>51.0</td>\n",
       "      <td>4.0</td>\n",
       "      <td>117.0</td>\n",
       "      <td>45.0</td>\n",
       "      <td>168.0</td>\n",
       "      <td>49.0</td>\n",
       "    </tr>\n",
       "    <tr>\n",
       "      <th>bananas</th>\n",
       "      <td>85.0</td>\n",
       "      <td>6.0</td>\n",
       "      <td>185.0</td>\n",
       "      <td>79.0</td>\n",
       "      <td>270.0</td>\n",
       "      <td>85.0</td>\n",
       "    </tr>\n",
       "    <tr>\n",
       "      <th>pears</th>\n",
       "      <td>119.0</td>\n",
       "      <td>8.0</td>\n",
       "      <td>253.0</td>\n",
       "      <td>113.0</td>\n",
       "      <td>372.0</td>\n",
       "      <td>121.0</td>\n",
       "    </tr>\n",
       "  </tbody>\n",
       "</table>\n",
       "</div>"
      ],
      "text/plain": [
       "         Arg_Total_Rec  Arg_rotten_amt  Aus_Total_Rec  Aus_rotten_amt  Total  \\\n",
       "Fruit                                                                          \n",
       "apples            17.0             2.0           49.0            11.0   66.0   \n",
       "oranges           51.0             4.0          117.0            45.0  168.0   \n",
       "bananas           85.0             6.0          185.0            79.0  270.0   \n",
       "pears            119.0             8.0          253.0           113.0  372.0   \n",
       "\n",
       "         Total_rotten  \n",
       "Fruit                  \n",
       "apples           13.0  \n",
       "oranges          49.0  \n",
       "bananas          85.0  \n",
       "pears           121.0  "
      ]
     },
     "execution_count": 189,
     "metadata": {},
     "output_type": "execute_result"
    }
   ],
   "source": [
    "df"
   ]
  },
  {
   "cell_type": "code",
   "execution_count": 190,
   "metadata": {},
   "outputs": [],
   "source": [
    "#Total = df['Arg_Total_Rec']\n",
    "\n",
    "#df = df.append(new_row, ignore_index=False)\n",
    "#https://pythonexamples.org/pandas-dataframe-add-append-row/\n",
    "\n",
    "#new_row = {'Fruit':'Total'}\n",
    "#df = df.append(new_row, ignore_index=True)\n",
    "#df.loc['Total',:]= df.sum(axis=0)\n",
    "#https://thispointer.com/pandas-sum-rows-in-dataframe-all-or-certain-rows/\n",
    "\n",
    "#df.append(df.sum().rename('Total')).assign(Total=lambda d: d.sum(1))\n",
    "                                                                  "
   ]
  },
  {
   "cell_type": "code",
   "execution_count": 206,
   "metadata": {},
   "outputs": [
    {
     "data": {
      "text/html": [
       "<div>\n",
       "<style scoped>\n",
       "    .dataframe tbody tr th:only-of-type {\n",
       "        vertical-align: middle;\n",
       "    }\n",
       "\n",
       "    .dataframe tbody tr th {\n",
       "        vertical-align: top;\n",
       "    }\n",
       "\n",
       "    .dataframe thead th {\n",
       "        text-align: right;\n",
       "    }\n",
       "</style>\n",
       "<table border=\"1\" class=\"dataframe\">\n",
       "  <thead>\n",
       "    <tr style=\"text-align: right;\">\n",
       "      <th></th>\n",
       "      <th>Arg_Total_Rec</th>\n",
       "      <th>Arg_rotten_amt</th>\n",
       "      <th>Aus_Total_Rec</th>\n",
       "      <th>Aus_rotten_amt</th>\n",
       "      <th>Total</th>\n",
       "      <th>Total_rotten</th>\n",
       "    </tr>\n",
       "    <tr>\n",
       "      <th>Fruit</th>\n",
       "      <th></th>\n",
       "      <th></th>\n",
       "      <th></th>\n",
       "      <th></th>\n",
       "      <th></th>\n",
       "      <th></th>\n",
       "    </tr>\n",
       "  </thead>\n",
       "  <tbody>\n",
       "    <tr>\n",
       "      <th>apples</th>\n",
       "      <td>17.0</td>\n",
       "      <td>2.0</td>\n",
       "      <td>49.0</td>\n",
       "      <td>11.0</td>\n",
       "      <td>66.0</td>\n",
       "      <td>13.0</td>\n",
       "    </tr>\n",
       "    <tr>\n",
       "      <th>oranges</th>\n",
       "      <td>51.0</td>\n",
       "      <td>4.0</td>\n",
       "      <td>117.0</td>\n",
       "      <td>45.0</td>\n",
       "      <td>168.0</td>\n",
       "      <td>49.0</td>\n",
       "    </tr>\n",
       "    <tr>\n",
       "      <th>bananas</th>\n",
       "      <td>85.0</td>\n",
       "      <td>6.0</td>\n",
       "      <td>185.0</td>\n",
       "      <td>79.0</td>\n",
       "      <td>270.0</td>\n",
       "      <td>85.0</td>\n",
       "    </tr>\n",
       "    <tr>\n",
       "      <th>pears</th>\n",
       "      <td>119.0</td>\n",
       "      <td>8.0</td>\n",
       "      <td>253.0</td>\n",
       "      <td>113.0</td>\n",
       "      <td>372.0</td>\n",
       "      <td>121.0</td>\n",
       "    </tr>\n",
       "    <tr>\n",
       "      <th>Total</th>\n",
       "      <td>272.0</td>\n",
       "      <td>20.0</td>\n",
       "      <td>604.0</td>\n",
       "      <td>248.0</td>\n",
       "      <td>876.0</td>\n",
       "      <td>268.0</td>\n",
       "    </tr>\n",
       "  </tbody>\n",
       "</table>\n",
       "</div>"
      ],
      "text/plain": [
       "         Arg_Total_Rec  Arg_rotten_amt  Aus_Total_Rec  Aus_rotten_amt  Total  \\\n",
       "Fruit                                                                          \n",
       "apples            17.0             2.0           49.0            11.0   66.0   \n",
       "oranges           51.0             4.0          117.0            45.0  168.0   \n",
       "bananas           85.0             6.0          185.0            79.0  270.0   \n",
       "pears            119.0             8.0          253.0           113.0  372.0   \n",
       "Total            272.0            20.0          604.0           248.0  876.0   \n",
       "\n",
       "         Total_rotten  \n",
       "Fruit                  \n",
       "apples           13.0  \n",
       "oranges          49.0  \n",
       "bananas          85.0  \n",
       "pears           121.0  \n",
       "Total           268.0  "
      ]
     },
     "execution_count": 206,
     "metadata": {},
     "output_type": "execute_result"
    }
   ],
   "source": [
    "new_row = {'Arg_Total_Rec': 272, 'Arg_rotten_amt': 20,'Aus_Total_Rec':604, 'Aus_rotten_amt': 248, 'Total':876, 'Total_rotten':268}\n",
    "#df1 = df.append(new_row,ignore_index=True)\n",
    "#df1 = df.append_index('Fruit',inplace=True)\n",
    "df = df.append(pd.Series(new_row, index=df.columns, name='Total'))\n",
    "df"
   ]
  },
  {
   "cell_type": "code",
   "execution_count": 199,
   "metadata": {},
   "outputs": [
    {
     "data": {
      "text/plain": [
       "Arg_Total_Rec     272.0\n",
       "Arg_rotten_amt     20.0\n",
       "Aus_Total_Rec     604.0\n",
       "Aus_rotten_amt    248.0\n",
       "Total             876.0\n",
       "Total_rotten      268.0\n",
       "dtype: float64"
      ]
     },
     "execution_count": 199,
     "metadata": {},
     "output_type": "execute_result"
    }
   ],
   "source": [
    "df.sum(axis =0)"
   ]
  },
  {
   "cell_type": "code",
   "execution_count": 209,
   "metadata": {},
   "outputs": [
    {
     "data": {
      "text/html": [
       "<div>\n",
       "<style scoped>\n",
       "    .dataframe tbody tr th:only-of-type {\n",
       "        vertical-align: middle;\n",
       "    }\n",
       "\n",
       "    .dataframe tbody tr th {\n",
       "        vertical-align: top;\n",
       "    }\n",
       "\n",
       "    .dataframe thead th {\n",
       "        text-align: right;\n",
       "    }\n",
       "</style>\n",
       "<table border=\"1\" class=\"dataframe\">\n",
       "  <thead>\n",
       "    <tr style=\"text-align: right;\">\n",
       "      <th></th>\n",
       "      <th>Arg_Total_Rec</th>\n",
       "      <th>Arg_rotten_amt</th>\n",
       "      <th>Aus_Total_Rec</th>\n",
       "      <th>Aus_rotten_amt</th>\n",
       "      <th>Total</th>\n",
       "      <th>Total_rotten</th>\n",
       "      <th>OZ_%</th>\n",
       "      <th>Total_%</th>\n",
       "      <th>ARG_%</th>\n",
       "    </tr>\n",
       "    <tr>\n",
       "      <th>Fruit</th>\n",
       "      <th></th>\n",
       "      <th></th>\n",
       "      <th></th>\n",
       "      <th></th>\n",
       "      <th></th>\n",
       "      <th></th>\n",
       "      <th></th>\n",
       "      <th></th>\n",
       "      <th></th>\n",
       "    </tr>\n",
       "  </thead>\n",
       "  <tbody>\n",
       "    <tr>\n",
       "      <th>apples</th>\n",
       "      <td>17.0</td>\n",
       "      <td>2.0</td>\n",
       "      <td>49.0</td>\n",
       "      <td>11.0</td>\n",
       "      <td>66.0</td>\n",
       "      <td>13.0</td>\n",
       "      <td>22.448980</td>\n",
       "      <td>19.696970</td>\n",
       "      <td>11.764706</td>\n",
       "    </tr>\n",
       "    <tr>\n",
       "      <th>oranges</th>\n",
       "      <td>51.0</td>\n",
       "      <td>4.0</td>\n",
       "      <td>117.0</td>\n",
       "      <td>45.0</td>\n",
       "      <td>168.0</td>\n",
       "      <td>49.0</td>\n",
       "      <td>38.461538</td>\n",
       "      <td>29.166667</td>\n",
       "      <td>7.843137</td>\n",
       "    </tr>\n",
       "    <tr>\n",
       "      <th>bananas</th>\n",
       "      <td>85.0</td>\n",
       "      <td>6.0</td>\n",
       "      <td>185.0</td>\n",
       "      <td>79.0</td>\n",
       "      <td>270.0</td>\n",
       "      <td>85.0</td>\n",
       "      <td>42.702703</td>\n",
       "      <td>31.481481</td>\n",
       "      <td>7.058824</td>\n",
       "    </tr>\n",
       "    <tr>\n",
       "      <th>pears</th>\n",
       "      <td>119.0</td>\n",
       "      <td>8.0</td>\n",
       "      <td>253.0</td>\n",
       "      <td>113.0</td>\n",
       "      <td>372.0</td>\n",
       "      <td>121.0</td>\n",
       "      <td>44.664032</td>\n",
       "      <td>32.526882</td>\n",
       "      <td>6.722689</td>\n",
       "    </tr>\n",
       "    <tr>\n",
       "      <th>Total</th>\n",
       "      <td>272.0</td>\n",
       "      <td>20.0</td>\n",
       "      <td>604.0</td>\n",
       "      <td>248.0</td>\n",
       "      <td>876.0</td>\n",
       "      <td>268.0</td>\n",
       "      <td>41.059603</td>\n",
       "      <td>30.593607</td>\n",
       "      <td>7.352941</td>\n",
       "    </tr>\n",
       "  </tbody>\n",
       "</table>\n",
       "</div>"
      ],
      "text/plain": [
       "         Arg_Total_Rec  Arg_rotten_amt  Aus_Total_Rec  Aus_rotten_amt  Total  \\\n",
       "Fruit                                                                          \n",
       "apples            17.0             2.0           49.0            11.0   66.0   \n",
       "oranges           51.0             4.0          117.0            45.0  168.0   \n",
       "bananas           85.0             6.0          185.0            79.0  270.0   \n",
       "pears            119.0             8.0          253.0           113.0  372.0   \n",
       "Total            272.0            20.0          604.0           248.0  876.0   \n",
       "\n",
       "         Total_rotten       OZ_%    Total_%      ARG_%  \n",
       "Fruit                                                   \n",
       "apples           13.0  22.448980  19.696970  11.764706  \n",
       "oranges          49.0  38.461538  29.166667   7.843137  \n",
       "bananas          85.0  42.702703  31.481481   7.058824  \n",
       "pears           121.0  44.664032  32.526882   6.722689  \n",
       "Total           268.0  41.059603  30.593607   7.352941  "
      ]
     },
     "execution_count": 209,
     "metadata": {},
     "output_type": "execute_result"
    }
   ],
   "source": [
    "df['ARG_%'] = (df['Arg_rotten_amt'] / df['Arg_Total_Rec']) * 100\n",
    "df['OZ_%'] = (df['Aus_rotten_amt'] / df['Aus_Total_Rec']) * 100\n",
    "df['Total_%'] = (df['Total_rotten'] / df['Total']) * 100\n",
    "df"
   ]
  },
  {
   "cell_type": "code",
   "execution_count": null,
   "metadata": {},
   "outputs": [],
   "source": []
  },
  {
   "cell_type": "code",
   "execution_count": null,
   "metadata": {},
   "outputs": [],
   "source": []
  },
  {
   "cell_type": "code",
   "execution_count": null,
   "metadata": {},
   "outputs": [],
   "source": []
  }
 ],
 "metadata": {
  "kernelspec": {
   "display_name": "Python 3",
   "language": "python",
   "name": "python3"
  },
  "language_info": {
   "codemirror_mode": {
    "name": "ipython",
    "version": 3
   },
   "file_extension": ".py",
   "mimetype": "text/x-python",
   "name": "python",
   "nbconvert_exporter": "python",
   "pygments_lexer": "ipython3",
   "version": "3.8.3"
  }
 },
 "nbformat": 4,
 "nbformat_minor": 4
}
