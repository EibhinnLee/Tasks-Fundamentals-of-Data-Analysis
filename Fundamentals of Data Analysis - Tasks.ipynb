{
 "cells": [
  {
   "cell_type": "markdown",
   "metadata": {},
   "source": [
    "# Fundamentals of Data Analysis - Tasks\n",
    "***\n",
    "## Eibhinn Lee\n",
    "### G00226502\n"
   ]
  },
  {
   "cell_type": "markdown",
   "metadata": {},
   "source": [
    "### Task 1 - Counts\n",
    "\n",
    "***October 5th, 2020***\n",
    "\n",
    "Task\n",
    "***\n",
    "Write a Python function called 'counts' that takes a list as input and returns a dictionary of unique items in the list as keys and the number of times each item appears as values.\n",
    "\n",
    "Example:\n",
    "Input ['A', 'A', 'B', 'C', 'A']\n",
    "\n",
    "Output {'A': 3, 'B': 1, 'C': 1} . Your code should not depend\n",
    "on any module from the standard library1 or otherwise. \n",
    "\n",
    "You should research the task first and include a description with references of your algorithm in the\n",
    "notebook.\n",
    "\n",
    "References for Task 1\n",
    "___\n",
    "https://www.geeksforgeeks.org/python-list-function-count/\n",
    "\n",
    "https://stackoverflow.com/questions/2600191/how-can-i-count-the-occurrences-of-a-list-item"
   ]
  },
  {
   "cell_type": "markdown",
   "metadata": {},
   "source": [
    "####  Example One\n",
    "\n",
    "This example uses the count function to count the occurrences of each element held within the list provided.\n",
    "\n",
    "Firstly, using to count a single element held within the list\n",
    "and secondly, to count all elements within the list\n",
    "\n",
    "References\n",
    "https://www.geeksforgeeks.org/python-list-function-count/"
   ]
  },
  {
   "cell_type": "code",
   "execution_count": 49,
   "metadata": {},
   "outputs": [
    {
     "name": "stdout",
     "output_type": "stream",
     "text": [
      "6\n",
      "2\n"
     ]
    }
   ],
   "source": [
    "# create a random list with words,letters, numbers\n",
    "\n",
    "ab = ['Cat', '-0.125', 'Sat', 'Cat', 'Mat', 'Rat', '-1', 'c','b','a','b','a','a','a','a','a','dog', '1.0'] \n",
    "\n",
    "# print out the occurence of a single element held within the list above.\n",
    "print(ab.count(('a')))\n",
    "print(ab.count(('Cat')))"
   ]
  },
  {
   "cell_type": "code",
   "execution_count": 50,
   "metadata": {},
   "outputs": [
    {
     "name": "stdout",
     "output_type": "stream",
     "text": [
      "{'1.0': 1, 'a': 6, 'Sat': 1, 'c': 1, '-1': 1, 'b': 2, 'Mat': 1, 'Cat': 2, 'Rat': 1, '-0.125': 1, 'dog': 1}\n"
     ]
    }
   ],
   "source": [
    "# printing the result in the form - dictionary\n",
    "# print all elements held with the list 'ab' once and count how many times the occur.\n",
    "print (dict( (l, ab.count(l) ) for l in set(ab)))"
   ]
  },
  {
   "cell_type": "markdown",
   "metadata": {},
   "source": [
    "####  Example Two\n",
    "\n",
    "This example uses the counter function from collections module to count the occurrences of each element held within the list provided.\n",
    "\n",
    "References\n",
    " - https://stackoverflow.com/questions/2600191/how-can-i-count-the-occurrences-of-a-list-item\n",
    " - https://www.geeksforgeeks.org/python-counter-objects-elements/"
   ]
  },
  {
   "cell_type": "code",
   "execution_count": 51,
   "metadata": {},
   "outputs": [
    {
     "name": "stdout",
     "output_type": "stream",
     "text": [
      "{'1': 4, 'b': 2, 'a': 6, 'dog': 1, '1.0': 1, 'Sat': 1, 'Cat': 1, 'Mat': 1}\n"
     ]
    }
   ],
   "source": [
    "# import library\n",
    "from collections import Counter\n",
    "\n",
    "# create list called 'l', using the counter function to count all items within the list\n",
    "l =Counter(['1','1','1','1','b','a','b','a','a','a','a','a','dog', '1.0', 'Sat', 'Cat', 'Mat'])\n",
    "\n",
    "# print in the form of a dictionary\n",
    "print (dict(l))"
   ]
  },
  {
   "cell_type": "markdown",
   "metadata": {},
   "source": [
    "### Task 2 - Dicerolls\n",
    "\n",
    "***November 2nd, 2020***\n",
    "Task\n",
    "***\n",
    "Write a Python function called dicerolls that simulates rolling dice. \n",
    "Your function should take two parameters: \n",
    "- k, the number of dice \n",
    "- n, the number of times to roll the dice. \n",
    "\n",
    "The function should simulate randomly rolling k dice n times, keeping track of each total face value. \n",
    "It should then return a dictionary with the number of times each possible total face value occurred. \n",
    "\n",
    "So,calling the function as diceroll(k=2, n=1000) should return a dictionary like:\n",
    "\n",
    "**{2:19,3:50,4:82,5:112,6:135,7:174,8:133,9:114,10:75,11:70,12:36}**\n",
    "\n",
    "You can use any module from the Python standard library you wish and you should\n",
    "include a description with references of your algorithm in the notebook.\n",
    "***\n",
    "\n",
    "The approach used for the below task was to use both numpy.random package and the count function.\n",
    "Two examples were drawn up, first one breaking down the process and getting the results step by step.\n",
    "The second approach was more useful and more adaptable and user friendly.\n",
    "***\n",
    "\n",
    "\n",
    "References used\n",
    "***\n",
    "- https://stackoverflow.com/questions/2600191/how-can-i-count-the-occurrences-of-a-list-item\n",
    "- https://docs.python.org/3/library/itertools.html\n",
    "- https://stackoverflow.com/questions/44008489/dice-rolling-simulator-in-python\n",
    "- https://www.pythonforbeginners.com/code-snippets-source-code/game-rolling-the-dice\n",
    "- https://docs.python.org/3/library/itertools.html\n",
    "- https://numpy.org/doc/stable/reference/random/generated/numpy.random.Generator.integers.html\n",
    "- https://livebook.manning.com/book/data-science-bookcamp/chapter-3/v-2/13"
   ]
  },
  {
   "cell_type": "code",
   "execution_count": 89,
   "metadata": {},
   "outputs": [],
   "source": [
    "import numpy as np\n",
    "import pandas as pd\n",
    "import matplotlib.pyplot as plt\n",
    "import seaborn as sn"
   ]
  },
  {
   "cell_type": "code",
   "execution_count": 121,
   "metadata": {},
   "outputs": [
    {
     "data": {
      "text/plain": [
       "5"
      ]
     },
     "execution_count": 121,
     "metadata": {},
     "output_type": "execute_result"
    }
   ],
   "source": [
    "# Using the numpy.random package\n",
    "# Generate a single number between the range of 1 to 7 not including 7.\n",
    "# simulating a roll of a single dice\n",
    "rng = np.random.default_rng()\n",
    "\n",
    "dice_roll = rng.integers(1, 7)\n",
    "dice_roll"
   ]
  },
  {
   "cell_type": "code",
   "execution_count": 126,
   "metadata": {},
   "outputs": [
    {
     "name": "stdout",
     "output_type": "stream",
     "text": [
      "[4 5 3 5 2]\n",
      "[2 5 1 4 5]\n",
      "[ 6 10  4  9  7]\n"
     ]
    }
   ],
   "source": [
    "# Simulating the roll of 2 dice and adding the value together\n",
    "# lowest value will be 2 , highest will be 12.\n",
    "# in the case below, the random package will generate 5 numbers each and add each together after each number is generated.\n",
    "\n",
    "d1 = np.random.randint(1, 7, 5)\n",
    "d2 = np.random.randint(1, 7, 5)\n",
    "\n",
    "# numbers are added with a simple addition of each\n",
    "dicesums = d1 + d2\n",
    "# for the purpose of clarity, d1 and d2 have been shown along with the addition of both\n",
    "# as you can see the top two outputs added together result in the third output.\n",
    "print(d1)\n",
    "print(d2)\n",
    "print(dicesums)"
   ]
  },
  {
   "cell_type": "code",
   "execution_count": 129,
   "metadata": {},
   "outputs": [
    {
     "data": {
      "text/plain": [
       "array([ 7,  5,  7,  7,  3, 10,  9,  9, 12,  4,  5,  9,  5,  6,  6, 12,  8,\n",
       "        9,  9,  6,  6,  6,  8,  9,  8, 10,  7,  9,  6,  5,  7,  9, 10,  5,\n",
       "       11, 10,  5,  5,  2,  6, 12, 10,  3,  5,  9,  3,  5,  7,  8,  5,  4,\n",
       "       11,  6,  5,  8,  8,  5,  6,  6,  7,  7,  5,  7,  3,  8,  8,  9,  4,\n",
       "       10,  9, 10,  6,  9,  6,  6,  7,  9,  7,  7, 10,  8,  8,  9,  5,  6,\n",
       "        8, 10, 12,  4, 12,  3,  9,  4,  9,  8,  5,  7, 10, 11,  8,  9,  5,\n",
       "        6,  8, 12,  3, 11, 10,  8,  3,  7,  7,  8,  8,  8,  5,  8,  9,  7,\n",
       "        5, 10,  9,  8, 11,  9,  7,  9,  7,  4,  5,  8,  5,  8, 11,  6, 10,\n",
       "        3,  9,  6, 10,  7,  6,  9,  5,  7, 10,  5,  7, 11,  7, 11,  6,  9,\n",
       "        8,  9,  4,  6,  7, 12,  8, 10,  9,  7,  7,  4,  9,  6, 10,  7,  6,\n",
       "        8,  3,  7,  8,  4,  5,  8,  8,  8, 10,  5,  9,  8,  3,  6,  4,  8,\n",
       "        7, 12,  7,  9,  7,  4,  9,  7,  8,  8,  7, 10, 12,  6,  6,  6,  6,\n",
       "       10,  3, 10,  8,  8,  9,  7,  4,  6,  6, 12, 12,  4,  9,  6,  4,  7,\n",
       "        7,  3, 10, 11,  9,  7,  6,  8, 10,  7,  6,  8,  6,  7,  8, 10,  5,\n",
       "        7, 10,  8,  9,  6,  9,  8,  7,  9,  5,  8,  7, 11,  8,  7, 11,  9,\n",
       "        8,  4,  8,  4,  5,  7, 12,  6,  8,  7,  7,  6,  8,  5,  7,  6,  7,\n",
       "        9,  9,  6,  7,  6,  5,  4,  8,  7,  6,  5, 12,  8, 10,  4,  7,  5,\n",
       "       12,  8,  9,  7,  6,  6,  2,  7,  8, 10,  7,  6,  7,  9,  5,  9,  6,\n",
       "        3,  7,  7,  2,  4,  4,  6,  7, 11,  2,  7,  3,  6,  2, 10,  5,  9,\n",
       "        8,  6,  3, 10,  2,  7,  4,  5,  4,  3,  7,  8,  7,  7,  5,  8,  9,\n",
       "        6,  8, 12,  7,  6,  5, 10, 10,  7,  6,  9,  7,  5,  6,  3, 10,  5,\n",
       "        5,  9,  4,  2,  5,  5,  6,  8,  5,  9, 11,  3,  7, 10,  9,  9,  7,\n",
       "        6, 12,  6,  7,  4,  7, 11,  7,  9,  3,  7,  6,  8,  3,  8,  3,  7,\n",
       "        5,  5,  8,  7,  5,  8, 12,  6,  2,  6,  7, 10,  9,  8,  2,  5,  2,\n",
       "        6,  4,  7,  8,  6,  9,  6,  7,  2,  6, 10,  5,  5,  7,  4,  8, 11,\n",
       "       10,  3,  6,  4,  4, 10,  8, 11,  8,  6, 10, 10,  6,  7,  7,  6, 10,\n",
       "        9, 10,  4,  4,  9,  7, 10,  5,  5,  5,  4,  6,  7, 11,  8, 12,  2,\n",
       "       10,  6,  7,  7,  8,  5,  4,  3, 10,  4,  9,  6,  8, 10,  5,  4, 12,\n",
       "       11,  8,  4,  8,  6,  9,  4, 11, 11,  6,  8, 11, 10,  6,  8,  9,  8,\n",
       "        7,  4,  7,  8,  7,  8,  2,  8,  5,  5,  8,  6,  5,  9,  6,  4, 10,\n",
       "        5, 10,  7,  6, 10, 12,  8,  5,  5,  9,  8,  7,  5,  7,  6,  6, 11,\n",
       "        5,  8,  6,  6,  6,  6,  8, 11,  3,  9,  5,  6,  9, 10,  8,  6,  4,\n",
       "        6,  5,  8,  2,  8,  3, 11,  7,  4,  6,  8,  6,  6,  9,  7,  8,  7,\n",
       "       10,  8,  7, 10,  7,  9,  7, 12,  6,  6,  2, 10, 10, 12,  5,  3,  5,\n",
       "       10,  7,  4,  9,  5,  8,  7, 11,  6,  9,  8,  7,  3, 11, 11,  8, 10,\n",
       "       12,  7,  7,  6, 10,  5,  6,  7,  6, 11,  9,  3,  7,  7,  8, 11,  8,\n",
       "        7,  9,  6,  3,  7,  7,  5,  7,  4,  4,  9,  9,  8,  7, 11,  7,  8,\n",
       "        8,  4,  8,  4,  8,  9, 11,  8,  7,  3, 11,  9,  4,  9,  4,  9,  4,\n",
       "        5,  7,  9,  6,  4,  4,  7,  6, 11,  9,  3,  5,  8,  6,  9,  5,  8,\n",
       "        8, 10,  6, 11,  7,  6,  8,  7,  5,  5,  8,  8, 10,  7,  7,  5,  7,\n",
       "        5, 10,  4,  8,  7,  7, 10,  5, 10,  5,  3, 10,  9,  5,  4, 10,  9,\n",
       "        5,  8,  7,  7,  4,  4,  7,  7,  7,  4,  4,  8,  5,  5,  8,  8, 10,\n",
       "        7,  9,  5,  5,  7,  8,  9,  6, 10,  8,  2,  7, 11, 11,  6,  8,  5,\n",
       "       10,  7,  6,  5, 10,  4,  9,  5,  5,  8, 10,  5,  5,  2,  6,  6, 12,\n",
       "       10, 10,  9,  6, 10,  6,  7,  7, 10,  4,  7,  5,  6,  6, 11,  5, 12,\n",
       "       11,  6,  7,  5,  6, 11, 11,  5,  5,  8,  6,  7,  9,  7, 10, 10,  8,\n",
       "        5,  8,  6,  5, 11, 11,  4,  9,  6,  6,  9,  7,  8,  8,  7,  7,  8,\n",
       "        4,  7,  6,  5,  4, 11,  7,  7, 10,  5,  5,  6,  7, 10,  6, 12,  7,\n",
       "        9,  6, 10, 11,  4,  7,  4, 11,  7, 10,  8,  8,  6,  4, 11,  8,  7,\n",
       "        9,  3,  9,  8,  9, 11, 11,  8,  9,  7,  7,  6,  5,  5,  7,  7,  4,\n",
       "        3,  6, 11,  6,  9,  7,  7,  3,  7,  7,  2,  5,  4,  8,  9, 12,  8,\n",
       "        9,  5,  5,  6,  6,  7,  8,  4,  9,  5,  7, 12,  7,  9,  7,  8,  7,\n",
       "        7,  6,  9,  9,  6,  6,  8,  9,  5,  9,  9,  8,  6, 11,  8,  8,  6,\n",
       "        6,  7,  6,  6, 11,  8,  8,  7,  8,  4, 11,  8,  2,  9,  2, 10,  9,\n",
       "        3,  6,  5,  9,  2,  7,  6,  9, 11, 10,  9,  3,  5,  8,  7,  8,  4,\n",
       "        7,  6,  3,  3,  8,  6,  8,  6,  4,  6,  8,  4, 11,  9,  5,  5,  9,\n",
       "        7,  7, 10,  6,  7, 10,  7,  6,  7,  3,  9, 11,  6, 10,  4,  6, 11,\n",
       "       12,  6,  6,  9,  5,  4,  9,  8, 12,  8,  5,  4,  6, 10,  9,  6,  4,\n",
       "        5,  4,  5,  9, 12,  6,  6, 10,  7,  8,  9,  2,  8, 10])"
      ]
     },
     "execution_count": 129,
     "metadata": {},
     "output_type": "execute_result"
    }
   ],
   "source": [
    "# printing the combined sum of the 2 dice that were rolled 1000 times\n",
    "d1 = np.random.randint(1, 7, 1000)\n",
    "d2 = np.random.randint(1, 7, 1000)\n",
    "rolling_dice = d1 + d2\n",
    "rolling_dice"
   ]
  },
  {
   "cell_type": "code",
   "execution_count": 135,
   "metadata": {},
   "outputs": [
    {
     "name": "stdout",
     "output_type": "stream",
     "text": [
      "{2: 22, 3: 40, 4: 76, 5: 114, 6: 147, 7: 170, 8: 144, 9: 113, 10: 87, 11: 56, 12: 31}\n"
     ]
    }
   ],
   "source": [
    "# using the itertools function\n",
    "from itertools import groupby\n",
    "# using this function allows the list to be counted and sorted into the number of occurrences \n",
    "counts = [(i, len(list(c))) for i,c in groupby(sorted(rolling_dice))]\n",
    "# print in the form of a dictionary\n",
    "print(dict(counts))"
   ]
  },
  {
   "cell_type": "markdown",
   "metadata": {},
   "source": [
    "Analysis:\n",
    "***\n",
    "Having completed the above function and showing it works, I feel that even though it works, it can be reduced and made more user friendly.\n",
    "If the task was to be adapted and instead of rolling 2 dice, now we were to run 5 dice, as the function is structured now, 3 more lines would be required and some lines of code would need to amended slightly for this amendment to work.\n",
    "\n",
    "While it works, it can be more more user friendly and much compact and greatly shortened.\n",
    "\n",
    "The below is an example of how this can be adapted and streamlined."
   ]
  },
  {
   "cell_type": "code",
   "execution_count": 136,
   "metadata": {},
   "outputs": [],
   "source": [
    "# defining the count function prior to creating the simulation function using numpy.\n",
    "\n",
    "def counts(inputList, caseSensitivity=True):\n",
    "    \n",
    "    if caseSensitivity==False:\n",
    "        for i in range(0, len(inputList)):\n",
    "            if isinstance(inputList[i], str):\n",
    "                inputList[i] = inputList[i].lower()    \n",
    "# returning the output in the form of a dictionary.    \n",
    "    return dict((element, inputList.count(element)) for element in set(inputList))"
   ]
  },
  {
   "cell_type": "code",
   "execution_count": 137,
   "metadata": {},
   "outputs": [],
   "source": [
    "# defining the function the task required. k = number of dice and n = the number of rolls\n",
    "def dicerolls(k, n):\n",
    "    # defining the function itself\n",
    "    # the number range\n",
    "    number = [1, 2, 3, 4, 5, 6]\n",
    "    # the use of the most recent numpy.random package generator\n",
    "    rng = np.random.default_rng()\n",
    "    rolls = []\n",
    "    for i in range(n):\n",
    "        # using the random.choice function within the numpy.random package\n",
    "        roll = sum(rng.choice(number, k))\n",
    "        rolls.append(roll)    \n",
    "    outcome = counts(rolls)\n",
    "    print(outcome)"
   ]
  },
  {
   "cell_type": "code",
   "execution_count": 138,
   "metadata": {},
   "outputs": [
    {
     "name": "stdout",
     "output_type": "stream",
     "text": [
      "{2: 31, 3: 53, 4: 86, 5: 106, 6: 127, 7: 188, 8: 125, 9: 110, 10: 95, 11: 57, 12: 22}\n"
     ]
    }
   ],
   "source": [
    "# now the function can be set up and only amendments made to the amount of dice or the number of rolls of dice need to be updated.\n",
    "dicerolls(2,1000)"
   ]
  },
  {
   "cell_type": "markdown",
   "metadata": {},
   "source": [
    "### Task 3 - Counts\n",
    "\n",
    "***November 16th, 2020***\n",
    "\n",
    "Task\n",
    "***\n",
    "The numpy.random.binomial function can be used to simulate flipping a coin with a 50/50 chance of heads or tails. \n",
    "Interestingly, if a coin is flipped many times then the number of heads is well approximated by a bell-shaped curve. \n",
    "For instance, if we flip a coin 100 times in a row the chance of getting 50 heads is relatively high, the chances of getting 0 or 100 heads is relatively low, and the chances of getting any other number of heads decreases as you move\n",
    "away from 50 in either direction towards 0 or 100. \n",
    "\n",
    "Task:\n",
    "Write some python code that simulates flipping a coin 100 times. \n",
    "Then run this code 1,000 times, keeping track of the number of heads in each of the 1,000 simulations. \n",
    "\n",
    "Select an appropriate plot to depict the resulting list of 1,000 numbers, showing that it roughly follows a bell-shaped curve. \n",
    "\n",
    "You should explain your work in a Markdown cell above the code.\n",
    "\n",
    "\n",
    "References for Task 3\n",
    " - https://numpy.org/doc/stable/reference/random/generated/numpy.random.Generator.binomial.html#numpy.random.Generator.binomial\n",
    " - https://www.w3schools.com/python/numpy_random_binomial.asp\n",
    " - https://python-graph-gallery.com/20-basic-histogram-seaborn/#prettyPhoto\n",
    " - https://www.tutorialspoint.com/numpy/numpy_statistical_functions.htm#:~:text=Arithmetic%20mean%20is%20the%20sum,it%20is%20calculated%20along%20it.\n",
    "___\n"
   ]
  },
  {
   "cell_type": "markdown",
   "metadata": {},
   "source": [
    "### Binomial Distribution\n",
    "***\n",
    "\n",
    "Following the output of the code simulating flipping a coin 100 times and recording the results and running this test 1000 times, you can see that the results are all relatively similar without looking to closely as the array.\n",
    "\n",
    "Just to the untrained eye, you would not be too far away from saying all the results occur between the values of 40 and 60. That range of 20 values sitting approximately in the middle of the number of times the coin was flipped for the purpose of this test."
   ]
  },
  {
   "cell_type": "code",
   "execution_count": 158,
   "metadata": {},
   "outputs": [
    {
     "data": {
      "text/plain": [
       "array([58, 52, 58, 44, 59, 51, 55, 56, 47, 48, 55, 47, 58, 51, 50, 54, 51,\n",
       "       46, 52, 51, 47, 55, 50, 52, 44, 57, 36, 55, 35, 51, 57, 45, 44, 52,\n",
       "       51, 47, 42, 49, 56, 48, 50, 49, 51, 42, 47, 53, 51, 50, 47, 45, 47,\n",
       "       47, 49, 57, 55, 55, 51, 52, 47, 47, 47, 62, 54, 46, 56, 50, 49, 55,\n",
       "       47, 52, 53, 46, 65, 48, 54, 43, 53, 44, 52, 54, 52, 56, 43, 48, 51,\n",
       "       54, 57, 49, 42, 52, 51, 51, 48, 58, 52, 50, 53, 48, 60, 49, 63, 47,\n",
       "       48, 48, 48, 53, 46, 51, 47, 61, 51, 52, 51, 46, 49, 50, 50, 49, 50,\n",
       "       49, 51, 45, 46, 56, 51, 44, 50, 52, 54, 53, 61, 54, 52, 40, 45, 50,\n",
       "       44, 52, 61, 54, 51, 55, 52, 57, 46, 54, 53, 44, 48, 58, 49, 40, 49,\n",
       "       60, 49, 57, 56, 52, 50, 45, 53, 56, 54, 56, 49, 51, 47, 50, 42, 48,\n",
       "       50, 52, 49, 54, 53, 55, 47, 55, 47, 51, 48, 47, 55, 48, 47, 52, 48,\n",
       "       52, 54, 49, 49, 50, 43, 43, 40, 42, 52, 47, 49, 54, 48, 48, 49, 48,\n",
       "       51, 51, 51, 48, 55, 50, 44, 52, 59, 48, 54, 46, 49, 55, 61, 47, 47,\n",
       "       41, 49, 55, 58, 55, 50, 53, 48, 52, 49, 54, 50, 56, 40, 56, 49, 58,\n",
       "       50, 50, 51, 55, 50, 52, 45, 52, 48, 54, 44, 54, 41, 58, 46, 58, 56,\n",
       "       62, 44, 44, 51, 52, 49, 54, 63, 56, 49, 60, 51, 53, 51, 57, 61, 57,\n",
       "       50, 57, 53, 48, 54, 45, 46, 52, 51, 51, 46, 52, 45, 57, 51, 41, 48,\n",
       "       45, 47, 44, 42, 51, 48, 52, 40, 59, 44, 51, 46, 48, 49, 49, 45, 54,\n",
       "       51, 49, 46, 47, 45, 47, 50, 50, 53, 55, 51, 56, 47, 44, 52, 52, 47,\n",
       "       45, 55, 51, 53, 42, 51, 53, 56, 54, 54, 42, 49, 46, 45, 46, 55, 41,\n",
       "       55, 53, 51, 46, 50, 54, 43, 51, 52, 52, 49, 46, 40, 53, 45, 49, 53,\n",
       "       49, 50, 53, 44, 45, 47, 51, 36, 43, 50, 57, 50, 45, 53, 53, 55, 45,\n",
       "       52, 47, 36, 50, 48, 51, 44, 53, 47, 48, 61, 60, 49, 51, 50, 46, 51,\n",
       "       51, 49, 51, 51, 50, 47, 54, 52, 54, 44, 54, 59, 49, 46, 45, 49, 41,\n",
       "       54, 56, 53, 45, 54, 54, 51, 55, 48, 48, 45, 52, 47, 47, 44, 55, 57,\n",
       "       41, 54, 59, 51, 41, 53, 51, 51, 48, 52, 57, 45, 52, 54, 51, 55, 48,\n",
       "       48, 52, 51, 58, 53, 43, 52, 43, 49, 57, 47, 48, 51, 39, 54, 49, 47,\n",
       "       47, 41, 52, 49, 61, 51, 54, 43, 50, 49, 47, 47, 56, 51, 43, 50, 56,\n",
       "       44, 48, 40, 52, 53, 51, 51, 49, 50, 56, 43, 45, 48, 52, 35, 58, 44,\n",
       "       61, 42, 56, 43, 51, 49, 52, 54, 54, 47, 55, 48, 55, 46, 52, 57, 41,\n",
       "       44, 46, 52, 36, 49, 46, 44, 54, 48, 57, 48, 45, 49, 53, 41, 50, 56,\n",
       "       36, 46, 53, 59, 46, 50, 47, 43, 54, 50, 53, 54, 52, 49, 48, 52, 62,\n",
       "       57, 49, 59, 54, 40, 55, 51, 52, 47, 52, 47, 49, 49, 50, 48, 46, 53,\n",
       "       53, 42, 45, 50, 58, 54, 49, 50, 48, 64, 50, 55, 48, 54, 51, 58, 45,\n",
       "       54, 54, 41, 50, 56, 52, 44, 51, 46, 49, 44, 47, 50, 52, 54, 55, 55,\n",
       "       55, 52, 50, 42, 38, 52, 46, 43, 49, 58, 43, 54, 52, 51, 48, 40, 53,\n",
       "       51, 49, 45, 53, 43, 52, 57, 41, 52, 57, 54, 64, 46, 57, 53, 48, 49,\n",
       "       41, 51, 39, 49, 42, 61, 51, 55, 45, 54, 48, 43, 60, 46, 59, 55, 52,\n",
       "       43, 56, 49, 50, 45, 46, 51, 49, 52, 59, 59, 52, 42, 64, 51, 54, 51,\n",
       "       51, 52, 54, 45, 55, 46, 53, 49, 51, 59, 61, 50, 54, 51, 47, 45, 55,\n",
       "       51, 47, 50, 38, 48, 42, 49, 48, 41, 48, 47, 49, 47, 53, 54, 54, 55,\n",
       "       51, 51, 49, 44, 53, 46, 48, 55, 51, 52, 58, 50, 48, 51, 46, 54, 45,\n",
       "       52, 58, 45, 53, 54, 55, 46, 55, 47, 61, 51, 52, 51, 51, 50, 56, 57,\n",
       "       45, 40, 53, 50, 43, 43, 60, 48, 56, 50, 38, 53, 47, 40, 50, 49, 47,\n",
       "       45, 47, 49, 50, 51, 44, 41, 56, 53, 51, 53, 52, 45, 48, 44, 40, 45,\n",
       "       45, 50, 45, 54, 47, 51, 50, 44, 56, 53, 40, 45, 46, 58, 43, 55, 51,\n",
       "       47, 49, 55, 49, 43, 57, 43, 48, 52, 42, 55, 53, 57, 42, 54, 47, 46,\n",
       "       45, 50, 47, 49, 53, 48, 55, 52, 50, 49, 50, 50, 56, 43, 53, 48, 53,\n",
       "       53, 51, 46, 50, 42, 48, 49, 50, 44, 58, 48, 47, 46, 56, 58, 54, 44,\n",
       "       44, 45, 63, 50, 44, 48, 36, 51, 46, 51, 53, 42, 52, 52, 55, 45, 54,\n",
       "       42, 49, 56, 43, 53, 44, 47, 50, 51, 42, 49, 47, 46, 55, 53, 49, 49,\n",
       "       49, 57, 49, 49, 56, 49, 49, 49, 44, 63, 52, 49, 54, 53, 54, 49, 54,\n",
       "       48, 51, 51, 53, 47, 49, 54, 47, 58, 56, 56, 43, 47, 51, 50, 56, 51,\n",
       "       54, 53, 52, 52, 59, 48, 37, 57, 42, 52, 54, 53, 43, 53, 48, 46, 57,\n",
       "       47, 46, 60, 57, 50, 55, 64, 56, 45, 52, 48, 56, 55, 50, 47, 43, 53,\n",
       "       54, 53, 42, 55, 52, 47, 40, 49, 50, 54, 48, 41, 54, 45, 44, 53, 48,\n",
       "       49, 62, 51, 42, 50, 50, 50, 46, 45, 46, 47, 50, 48, 51, 51, 51, 51,\n",
       "       50, 48, 52, 50, 48, 40, 50, 55, 46, 47, 51, 48, 54, 48, 51, 53, 46,\n",
       "       47, 52, 48, 50, 53, 46, 52, 47, 58, 52, 49, 48, 61, 56],\n",
       "      dtype=int64)"
      ]
     },
     "execution_count": 158,
     "metadata": {},
     "output_type": "execute_result"
    }
   ],
   "source": [
    "# Using the numpy.random package to write the code\n",
    "# using the binomial distribution function within the numpy.random package\n",
    "\n",
    "# using the most updated version of numpy with the new default random generator\n",
    "\n",
    "rng = np.random.default_rng()\n",
    "\n",
    "# n = flipping of a coin 100 times\n",
    "# p = parameter, in this case its 50/50 as the coin only has 2 sides\n",
    "\n",
    "n, p = 100, .5\n",
    "\n",
    "# 1000 refers to the number of times the test is run.\n",
    "# in this task a coing is flipped 100 times, with a 50/50 chance of it landing on 'heads' and this test will be run 1000 times\n",
    "\n",
    "coin = rng.binomial(n,p, 1000)\n",
    "\n",
    "# the results of the 1000 tests run are as per below\n",
    "\n",
    "coin"
   ]
  },
  {
   "cell_type": "markdown",
   "metadata": {},
   "source": [
    "### Visual Representation of the Binomial results\n",
    "***\n",
    "\n",
    "As was expected, you can see from the graph below that the number of results approx 50 were shown to be the highest.\n",
    "The graph has a bell shaped curve view and is also in line that the closer you go away from the middle value, in this case, 50 the less likely the outcome.\n",
    "You are less likely to flip a coin and get all heads or tails. If the parameter was broader than in the task of 50/50 , then results would be much more gradual, obviously depending on the variables within the code."
   ]
  },
  {
   "cell_type": "code",
   "execution_count": 165,
   "metadata": {},
   "outputs": [
    {
     "data": {
      "text/plain": [
       "<matplotlib.axes._subplots.AxesSubplot at 0x1b8f22a3760>"
      ]
     },
     "execution_count": 165,
     "metadata": {},
     "output_type": "execute_result"
    },
    {
     "data": {
      "image/png": "[encoded data removed]",
      "text/plain": [
       "<Figure size 432x288 with 1 Axes>"
      ]
     },
     "metadata": {
      "needs_background": "light"
     },
     "output_type": "display_data"
    }
   ],
   "source": [
    "sns.distplot(rng.binomial(n=100, p=0.5, size=1000), hist=True, kde=False)"
   ]
  },
  {
   "cell_type": "code",
   "execution_count": 166,
   "metadata": {},
   "outputs": [
    {
     "data": {
      "text/plain": [
       "50.097"
      ]
     },
     "execution_count": 166,
     "metadata": {},
     "output_type": "execute_result"
    }
   ],
   "source": [
    "# Mean of the array\n",
    "# Arithmetic mean is the sum of elements along an axis divided by the number of elements. \n",
    "#The numpy.mean() function returns the arithmetic mean of elements in the array.\n",
    "\n",
    "coin_mean = np.mean(coin)\n",
    "coin_mean"
   ]
  },
  {
   "cell_type": "code",
   "execution_count": 167,
   "metadata": {},
   "outputs": [
    {
     "data": {
      "text/plain": [
       "50.0"
      ]
     },
     "execution_count": 167,
     "metadata": {},
     "output_type": "execute_result"
    }
   ],
   "source": [
    "# Median is defined as the value separating the higher half of a data sample from the lower half.\n",
    "coin_median = np.median(coin)\n",
    "coin_median"
   ]
  },
  {
   "cell_type": "code",
   "execution_count": 168,
   "metadata": {},
   "outputs": [
    {
     "data": {
      "text/plain": [
       "50.097"
      ]
     },
     "execution_count": 168,
     "metadata": {},
     "output_type": "execute_result"
    }
   ],
   "source": [
    "# average\n",
    "# Weighted average is an average resulting from the multiplication of each component by a factor reflecting its importance. \n",
    "#The numpy.average() function computes the weighted average of elements in an array according to their respective weight given in another array. \n",
    "#The function can have an axis parameter.\n",
    "\n",
    "coin_average = np.average(coin)\n",
    "coin_average"
   ]
  },
  {
   "cell_type": "code",
   "execution_count": 163,
   "metadata": {},
   "outputs": [
    {
     "data": {
      "text/plain": [
       "4.98333131549569"
      ]
     },
     "execution_count": 163,
     "metadata": {},
     "output_type": "execute_result"
    }
   ],
   "source": [
    "# Standard deviation is the square root of the average of squared deviations from mean\n",
    "np.std(coin)"
   ]
  },
  {
   "cell_type": "code",
   "execution_count": 164,
   "metadata": {},
   "outputs": [
    {
     "data": {
      "text/plain": [
       "24.833591000000002"
      ]
     },
     "execution_count": 164,
     "metadata": {},
     "output_type": "execute_result"
    }
   ],
   "source": [
    "# Variance is the average of squared deviations\n",
    "np.var(coin)"
   ]
  },
  {
   "cell_type": "code",
   "execution_count": null,
   "metadata": {},
   "outputs": [],
   "source": [
    "#https://livebook.manning.com/book/data-science-bookcamp/chapter-3/v-2/15"
   ]
  },
  {
   "cell_type": "markdown",
   "metadata": {},
   "source": [
    "### Task 4  - Simpson's Paradox\n",
    "Task - November 30th, 2020: \n",
    "\n",
    "Simpson’s paradox is a well-known statistical paradox where a trend evident in a number of groups reverses when the groups are combined into one big data set. \n",
    "Use numpy to create four data sets, each with an x array and a corresponding y array, to demonstrate Simpson’s paradox. \n",
    "You might create your x arrays using numpy.linspace and create the y array for each x using notation like y = a * x + b where you choose the a and b for each x , y pair to demonstrate the paradox. \n",
    "You might see the Wikipedia page for Simpson’s paradox for inspiration.\n",
    "\n",
    "Simpsons Paradox Wikipedia page.\n",
    "https://en.wikipedia.org/wiki/Simpson%27s_paradox#:~:text=Simpson's%20paradox%2C%20which%20also%20goes,when%20these%20groups%20are%20combined.\n",
    "\n",
    "Simpson's Paradox\n",
    "***\n",
    "Brilliant.org describe Simpson's Paradox simply as\n",
    "\n",
    "\"Simpson's paradox occurs when groups of data show one particular trend, but this trend is reversed when the groups are combined together. \" https://brilliant.org/wiki/simpsons-paradox/\n",
    "\n",
    "\n",
    "The dataset to describe the paradox is made up data showing four football teams and the conversion rate of penalties from 2019 & 2020.\n",
    "\n",
    "Example below is a dataset set manually created with assistance from various examples such as:\n",
    "https://brilliant.org/wiki/simpsons-paradox/\n",
    "https://en.wikipedia.org/wiki/Simpson%27s_paradox#\n",
    "https://github.com/WillKoehrsen/Data-Analysis/blob/master/statistics/Simpson's%20Paradox.ipynb"
   ]
  },
  {
   "cell_type": "markdown",
   "metadata": {},
   "source": []
  },
  {
   "cell_type": "code",
   "execution_count": null,
   "metadata": {},
   "outputs": [],
   "source": [
    "# Creating Dataframe\n",
    "# Adding each team and setting the index as Team and the clubs as rows \n",
    "data = [['Man Utd'], ['Barcelona'], ['Juventus'] ,['Shamrock Rovers']]\n",
    "df = pd.DataFrame(data, columns = ['Team']) \n",
    "df.set_index('Team',inplace=True)\n",
    "\n",
    "# Adding new columns with data for each team\n",
    "# Dataset looks at the conversion rate of penalties so 'scored' and 'taken' columns added for each year\n",
    "# Please note values are selected at random in order to show a true refelction of paradox\n",
    "\n",
    "df['2019_Penalties Scored'] = ([12,104,51,26])\n",
    "df['2019_Penalties Taken'] = ([48,411,203,100])\n",
    "df['2020_Penalties Scored'] = ([183,45,102,6])\n",
    "df['2020_Penalties Taken'] = ([582,140,325,9])\n",
    "\n",
    "# Adding further column to add the total penalties taken by each each club\n",
    "df['Total_taken'] = df['2019_Penalties Taken'] + df['2020_Penalties Taken']\n",
    "\n",
    "# Adding three % columns in order to show the scoring rate by each club for each year and combined.\n",
    "df['2019_%_Scored'] = (df['2019_Penalties Scored'] / df['2019_Penalties Taken']) * 100\n",
    "df['2020_%_Scored'] = (df['2020_Penalties Scored'] / df['2020_Penalties Taken']) * 100\n",
    "df['Total_%_scored'] = (df['2020_Penalties Scored'] + df['2019_Penalties Scored']) / df['Total_taken'] * 100\n",
    "# Run the dataset\n",
    "df"
   ]
  },
  {
   "cell_type": "markdown",
   "metadata": {},
   "source": [
    "Analysis of the dataset\n",
    "***\n",
    "As stated above, Simpson's Paradox occurs when groups of data show one particular trend, but this trend is reversed when the groups are combined together. \"\n",
    "\n",
    "In the dataset above, you can see the values of each club for scored penalties and total panalties taken. \n",
    "\n",
    "                    Year   %\n",
    "- Man Utd:          2019   25%\n",
    "                    2020   31.4%\n",
    "- Barcelona:        2019   25.3%\n",
    "                    2020   32%\n",
    "- Juventus:         2019   25.1%\n",
    "                    2020   31.48%\n",
    "- Shamrock Rovers:  2019   26%\n",
    "                    2020   66%"
   ]
  },
  {
   "cell_type": "code",
   "execution_count": null,
   "metadata": {},
   "outputs": [],
   "source": [
    "df.loc['Total', :5] = list(df.iloc[:, :5].sum())\n",
    "\n",
    "df.loc['Total', '2019_%_Scored'] = df.loc['Total', '2019_Penalties Scored'] / df.loc['Total', '2019_Penalties Taken'] * 100\n",
    "df.loc['Total', '2020_%_Scored'] = df.loc['Total', '2020_Penalties Scored'] / df.loc['Total', '2020_Penalties Taken'] * 100\n",
    "df.loc['Total', 'Total_%_scored'] = (df.loc['Total', '2020_Penalties Scored'] + df.loc['Total', '2019_Penalties Scored']) / df.loc['Total', 'Total_taken'] * 100\n",
    "df"
   ]
  },
  {
   "cell_type": "code",
   "execution_count": null,
   "metadata": {},
   "outputs": [],
   "source": [
    " # Number of penalties scored\n",
    "a = 2\n",
    "b = 2\n",
    "\n",
    "x = np.linspace(10.0, 19.0, num=4)\n",
    "\n",
    "y =  np.linspace(7.0, 16.0, num=4)\n",
    "\n",
    "#a1 = 3\n",
    "#b1 = 3\n",
    "\n",
    "x1 = (a * x + b)\n",
    "y1 = (a * x1 + b)\n",
    "\n",
    "# Arg total\n",
    "print(x)\n",
    "\n",
    "#arg rotten\n",
    "print(x1)\n",
    "\n",
    "# Aus total rec\n",
    "print(y)\n",
    "\n",
    "#Aus rotten\n",
    "print(y1)"
   ]
  },
  {
   "cell_type": "code",
   "execution_count": null,
   "metadata": {},
   "outputs": [],
   "source": [
    "#a = 2\n",
    "#b = 15\n",
    "#y = (a * x + b)\n",
    "#y"
   ]
  },
  {
   "cell_type": "code",
   "execution_count": null,
   "metadata": {},
   "outputs": [],
   "source": []
  },
  {
   "cell_type": "code",
   "execution_count": null,
   "metadata": {},
   "outputs": [],
   "source": []
  },
  {
   "cell_type": "code",
   "execution_count": null,
   "metadata": {},
   "outputs": [],
   "source": []
  },
  {
   "cell_type": "code",
   "execution_count": null,
   "metadata": {},
   "outputs": [],
   "source": [
    "df.loc['Total', :5] = list(df.iloc[:, :5].sum())\n",
    "\n",
    "df.loc['Total', '2019_%_Scored'] = df.loc['Total', '2019_Penalties Scored'] / df.loc['Total', '2019_Penalties Taken'] * 100\n",
    "df.loc['Total', '2020_%_Scored'] = df.loc['Total', '2020_Penalties Scored'] / df.loc['Total', '2020_Penalties Taken'] * 100\n",
    "df.loc['Total', 'Total_%_scored'] = (df.loc['Total', '2020_Penalties Scored'] + df.loc['Total', '2019_Penalties Scored']) / df.loc['Total', 'Total_taken'] * 100\n",
    "df\n",
    "#df.loc['Total', 'OZ_%'] = df.loc['Total', 'Aus_rotten_amt'] / df.loc['Total', 'Aus_Total_Rec'] * 100\n",
    "#df.loc['Total', 'Total_%'] = df.loc['Total', 'Total_rotten'] / df.loc['Total', 'Total'] * 100\n",
    "#df"
   ]
  },
  {
   "cell_type": "code",
   "execution_count": null,
   "metadata": {},
   "outputs": [],
   "source": [
    "# example - plotting np.linspace\n",
    "\n",
    "import numpy as np \n",
    "import pylab as p \n",
    "a2 = 2\n",
    "b2 = 3\n",
    "x2 = np.linspace(7.0, 79.0, num=10)\n",
    "y2 = (a2 * x2 + b2)\n",
    "\n",
    "x3 = np.linspace(40, 112, num =10)\n",
    "y3 = (1 * x3 - 20)\n",
    "print(x2)\n",
    "print(y2)\n",
    "\n",
    "print(x3)\n",
    "print(y3)\n",
    "\n",
    "p.plot(x2, y2, x3, y3) \n",
    "p.xlim(0.0, 125.0) "
   ]
  },
  {
   "cell_type": "code",
   "execution_count": null,
   "metadata": {},
   "outputs": [],
   "source": []
  },
  {
   "cell_type": "code",
   "execution_count": null,
   "metadata": {},
   "outputs": [],
   "source": []
  }
 ],
 "metadata": {
  "kernelspec": {
   "display_name": "Python 3",
   "language": "python",
   "name": "python3"
  },
  "language_info": {
   "codemirror_mode": {
    "name": "ipython",
    "version": 3
   },
   "file_extension": ".py",
   "mimetype": "text/x-python",
   "name": "python",
   "nbconvert_exporter": "python",
   "pygments_lexer": "ipython3",
   "version": "3.8.3"
  }
 },
 "nbformat": 4,
 "nbformat_minor": 4
}
