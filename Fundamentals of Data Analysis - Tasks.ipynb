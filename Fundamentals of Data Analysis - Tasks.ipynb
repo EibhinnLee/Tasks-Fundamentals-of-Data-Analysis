{
 "cells": [
  {
   "cell_type": "markdown",
   "metadata": {},
   "source": []
  },
  {
   "cell_type": "markdown",
   "metadata": {},
   "source": [
    "#### Task 1"
   ]
  },
  {
   "cell_type": "markdown",
   "metadata": {},
   "source": [
    "### Counts\n",
    "\n",
    "count function\n",
    "\n",
    "October 5th, 2020: \n",
    "Write a Python function called counts that takes a list as input and returns a dictionary of unique items in the list as keys and the number of times each item appears as values.\n",
    "Example:\n",
    "So, the input ['A', 'A', 'B', 'C', 'A']\n",
    "should have output {'A': 3, 'B': 1, 'C': 1} . Your code should not depend\n",
    "on any module from the standard library1 or otherwise. \n",
    "\n",
    "You should research the task first and include a description with references of your algorithm in the\n",
    "notebook.\n"
   ]
  },
  {
   "cell_type": "code",
   "execution_count": 1,
   "metadata": {},
   "outputs": [
    {
     "name": "stdout",
     "output_type": "stream",
     "text": [
      "{'c': 2, 'b': 3, 'a': 10, 'dog': 1, '1': 1, 'one': 1}\n"
     ]
    }
   ],
   "source": [
    "from collections import Counter\n",
    "c1=Counter(['c','b','a','b','c','a','b','a','a','a','a','a','a','a','a', 'dog', '1', 'one'])\n",
    "print (dict(c1))"
   ]
  },
  {
   "cell_type": "code",
   "execution_count": null,
   "metadata": {},
   "outputs": [],
   "source": []
  },
  {
   "cell_type": "code",
   "execution_count": null,
   "metadata": {},
   "outputs": [],
   "source": []
  },
  {
   "cell_type": "code",
   "execution_count": 2,
   "metadata": {},
   "outputs": [],
   "source": [
    "from collections import Counter\n",
    "l =Counter(['1','1','1','1'])"
   ]
  },
  {
   "cell_type": "code",
   "execution_count": 3,
   "metadata": {},
   "outputs": [
    {
     "name": "stdout",
     "output_type": "stream",
     "text": [
      "Counter({'1': 4})\n",
      "{'1': 4}\n"
     ]
    }
   ],
   "source": [
    "print(l)\n",
    "print (dict(l))\n"
   ]
  },
  {
   "cell_type": "code",
   "execution_count": null,
   "metadata": {},
   "outputs": [],
   "source": []
  },
  {
   "cell_type": "code",
   "execution_count": null,
   "metadata": {},
   "outputs": [],
   "source": []
  },
  {
   "cell_type": "markdown",
   "metadata": {},
   "source": [
    "### Task 2 \n",
    "\n",
    "numpy & count function\n",
    "\n",
    "Rolling Dice\n",
    "***\n",
    "\n",
    "Function that simulates rolling dice\n",
    "\n",
    "2 Parameters\n",
    " k = number of dice\n",
    " r = number of times to roll the dice n\n",
    " \n",
    " module from standard python library \n",
    " \n",
    " random module\n",
    " \n",
    " maybe plot bar chart\n",
    " \n",
    " \n",
    " \n",
    " \n",
    "November 2nd, 2020: \n",
    "\n",
    "Write a Python function called dicerolls that simulates rolling dice. \n",
    "Your function should take two parameters: the number of dice k and the number of times to roll the dice n. \n",
    "The function should simulate randomly rolling k dice n times, keeping track of each total face value. \n",
    "It should then return a dictionary with the number of times each possible total face value occurred. \n",
    "So, calling the function as diceroll(k=2, n=1000) should return a dictionary like:\n",
    "{2:19,3:50,4:82,5:112,6:135,7:174,8:133,9:114,10:75,11:70,12:36}\n",
    "You can use any module from the Python standard library you wish and you should\n",
    "include a description with references of your algorithm in the notebook.\n"
   ]
  },
  {
   "cell_type": "code",
   "execution_count": 4,
   "metadata": {},
   "outputs": [],
   "source": [
    "# diceroll = (k=2, n=1000)"
   ]
  },
  {
   "cell_type": "code",
   "execution_count": null,
   "metadata": {},
   "outputs": [],
   "source": []
  },
  {
   "cell_type": "code",
   "execution_count": 5,
   "metadata": {},
   "outputs": [
    {
     "data": {
      "text/plain": [
       "Counter({1: 1, 2: 1, 3: 1, 4: 1, 5: 1, 6: 1})"
      ]
     },
     "execution_count": 5,
     "metadata": {},
     "output_type": "execute_result"
    }
   ],
   "source": [
    "# Fair roll of 1 dice evenly\n",
    "\n",
    "d = Counter(range(1,7))\n",
    "d"
   ]
  },
  {
   "cell_type": "code",
   "execution_count": 6,
   "metadata": {},
   "outputs": [
    {
     "data": {
      "text/plain": [
       "Counter({1: 1, 2: 1, 3: 1, 4: 1, 5: 1, 6: 1})"
      ]
     },
     "execution_count": 6,
     "metadata": {},
     "output_type": "execute_result"
    }
   ],
   "source": [
    "d2 = Counter(range(1,7))\n",
    "d2"
   ]
  },
  {
   "cell_type": "code",
   "execution_count": null,
   "metadata": {},
   "outputs": [],
   "source": []
  },
  {
   "cell_type": "code",
   "execution_count": null,
   "metadata": {},
   "outputs": [],
   "source": []
  },
  {
   "cell_type": "code",
   "execution_count": null,
   "metadata": {},
   "outputs": [],
   "source": []
  },
  {
   "cell_type": "code",
   "execution_count": null,
   "metadata": {},
   "outputs": [],
   "source": []
  },
  {
   "cell_type": "code",
   "execution_count": 7,
   "metadata": {},
   "outputs": [],
   "source": [
    "import numpy as np\n",
    "\n",
    "#def dicerolls(k):\n",
    "    #number = [1, 2, 3, 4, 5, 6]\n",
    "    #rng = np.random.default_rng()\n",
    "    #roll = rng.choice([1, 2, 3, 4 ,5, 6], k)\n",
    "    #quantity = []\n",
    "    #faceval = 0\n",
    "    #for i in range(0, k):\n",
    "        #faceval = faceval + roll[i]\n",
    "    #quantity.append()"
   ]
  },
  {
   "cell_type": "code",
   "execution_count": null,
   "metadata": {},
   "outputs": [],
   "source": []
  },
  {
   "cell_type": "code",
   "execution_count": 8,
   "metadata": {},
   "outputs": [],
   "source": [
    "def counts(inputList, caseSensitivity=True):\n",
    "    \n",
    "    if caseSensitivity==False:\n",
    "        for i in range(0, len(inputList)):\n",
    "            if isinstance(inputList[i], str):\n",
    "                inputList[i] = inputList[i].lower()    \n",
    "    \n",
    "    return dict((element, inputList.count(element)) for element in set(inputList))"
   ]
  },
  {
   "cell_type": "code",
   "execution_count": 9,
   "metadata": {},
   "outputs": [],
   "source": [
    "def dicerolls(k, n):\n",
    "    number = [1, 2, 3, 4, 5, 6]\n",
    "    rng = np.random.default_rng()\n",
    "    rolls = []\n",
    "    for i in range(n):\n",
    "        roll = sum(rng.choice(number, k))\n",
    "        rolls.append(roll)    \n",
    "    outcome = counts(rolls)\n",
    "    print(outcome)"
   ]
  },
  {
   "cell_type": "code",
   "execution_count": 11,
   "metadata": {},
   "outputs": [
    {
     "name": "stdout",
     "output_type": "stream",
     "text": [
      "{2: 2799, 3: 5552, 4: 8369, 5: 11165, 6: 13831, 7: 16582, 8: 13808, 9: 11057, 10: 8415, 11: 5557, 12: 2865}\n"
     ]
    }
   ],
   "source": [
    "dicerolls(2, 100000)"
   ]
  },
  {
   "cell_type": "code",
   "execution_count": null,
   "metadata": {},
   "outputs": [],
   "source": []
  },
  {
   "cell_type": "code",
   "execution_count": null,
   "metadata": {},
   "outputs": [],
   "source": []
  },
  {
   "cell_type": "markdown",
   "metadata": {},
   "source": [
    "### Task 3\n",
    "November 16th, 2020: \n",
    "The numpy.random.binomial function can be used to simulate flipping a coin with a 50/50 chance of heads or tails. \n",
    "Interestingly, if a coin is flipped many times then the number of heads is well approximated by a\n",
    "bell-shaped curve. For instance, if we flip a coin 100 times in a row the chance of\n",
    "getting 50 heads is relatively high, the chances of getting 0 or 100 heads is relatively\n",
    "low, and the chances of getting any other number of heads decreases as you move\n",
    "away from 50 in either direction towards 0 or 100. \n",
    "\n",
    "Write some python code that\n",
    "    -simulates flipping a coin 100 times. \n",
    "    -Then run this code 1,000 times, keeping track\n",
    "of the number of heads in each of the 1,000 simulations. \n",
    "\n",
    "Select an appropriate plot to depict the resulting list of 1,000 numbers, showing that it roughly follows\n",
    "a bell-shaped curve. You should explain your work in a Markdown cell above the code."
   ]
  },
  {
   "cell_type": "code",
   "execution_count": 16,
   "metadata": {},
   "outputs": [
    {
     "data": {
      "text/plain": [
       "array([52, 49, 50, 48, 46, 52, 46, 45, 50, 45, 51, 51, 49, 51, 49, 50, 47,\n",
       "       50, 60, 60, 40, 54, 52, 56, 56, 49, 55, 48, 49, 44, 45, 48, 51, 53,\n",
       "       59, 41, 56, 54, 44, 46, 43, 47, 52, 53, 46, 41, 50, 41, 47, 49, 63,\n",
       "       42, 49, 49, 52, 45, 47, 48, 43, 45, 48, 45, 50, 50, 48, 64, 50, 54,\n",
       "       60, 42, 56, 56, 45, 50, 56, 48, 47, 54, 51, 52, 44, 49, 52, 43, 53,\n",
       "       60, 54, 38, 52, 45, 51, 56, 53, 53, 41, 48, 50, 56, 44, 57, 61, 50,\n",
       "       54, 48, 47, 51, 43, 51, 46, 48, 57, 51, 43, 57, 53, 56, 44, 45, 52,\n",
       "       40, 37, 45, 47, 42, 56, 52, 50, 54, 53, 40, 50, 40, 53, 47, 45, 56,\n",
       "       54, 55, 40, 52, 52, 44, 56, 53, 44, 50, 58, 55, 53, 44, 45, 59, 42,\n",
       "       39, 46, 55, 46, 52, 62, 53, 48, 55, 48, 41, 51, 51, 52, 44, 48, 46,\n",
       "       46, 48, 51, 54, 59, 54, 49, 47, 49, 47, 55, 46, 56, 47, 40, 48, 48,\n",
       "       44, 43, 48, 46, 45, 50, 43, 45, 49, 44, 49, 54, 50, 55, 54, 59, 57,\n",
       "       57, 49, 50, 45, 41, 47, 45, 53, 50, 51, 51, 55, 55, 63, 46, 54, 55,\n",
       "       56, 57, 47, 50, 49, 46, 50, 45, 41, 55, 50, 50, 44, 44, 41, 54, 58,\n",
       "       51, 40, 49, 48, 50, 43, 50, 50, 48, 51, 46, 50, 51, 56, 58, 54, 46,\n",
       "       46, 56, 56, 44, 54, 44, 45, 39, 50, 48, 47, 48, 46, 56, 48, 51, 48,\n",
       "       50, 41, 50, 53, 42, 47, 59, 54, 53, 57, 51, 51, 63, 49, 53, 41, 47,\n",
       "       52, 45, 51, 53, 49, 48, 53, 52, 40, 55, 58, 58, 54, 44, 51, 49, 60,\n",
       "       53, 42, 41, 61, 49, 53, 54, 55, 59, 49, 52, 49, 56, 50, 54, 45, 52,\n",
       "       45, 43, 46, 47, 57, 55, 53, 50, 52, 55, 47, 50, 54, 47, 45, 59, 47,\n",
       "       48, 49, 50, 52, 41, 53, 42, 44, 47, 52, 41, 60, 52, 49, 47, 56, 55,\n",
       "       42, 47, 50, 51, 49, 49, 57, 46, 52, 46, 45, 57, 51, 56, 56, 47, 48,\n",
       "       59, 54, 39, 58, 41, 51, 45, 47, 48, 45, 46, 49, 49, 45, 52, 40, 50,\n",
       "       54, 51, 55, 50, 49, 52, 44, 46, 49, 56, 47, 46, 45, 50, 51, 45, 51,\n",
       "       50, 41, 49, 58, 54, 43, 54, 41, 47, 51, 55, 51, 58, 57, 54, 44, 51,\n",
       "       56, 50, 60, 50, 57, 56, 55, 48, 52, 55, 54, 49, 59, 37, 46, 40, 48,\n",
       "       48, 52, 40, 52, 51, 60, 49, 49, 56, 53, 59, 47, 51, 51, 44, 44, 47,\n",
       "       67, 45, 59, 50, 59, 55, 48, 51, 63, 57, 53, 55, 55, 50, 54, 42, 58,\n",
       "       45, 44, 54, 54, 53, 47, 59, 57, 52, 66, 50, 49, 58, 55, 44, 40, 57,\n",
       "       45, 48, 47, 50, 48, 53, 46, 51, 61, 55, 48, 53, 47, 50, 50, 51, 51,\n",
       "       49, 50, 54, 49, 46, 59, 50, 43, 49, 57, 50, 50, 44, 50, 58, 47, 46,\n",
       "       55, 55, 49, 47, 50, 51, 49, 53, 61, 47, 44, 59, 53, 57, 42, 51, 56,\n",
       "       49, 57, 49, 44, 48, 51, 48, 50, 45, 50, 53, 53, 46, 45, 48, 45, 53,\n",
       "       54, 51, 47, 56, 51, 51, 54, 54, 53, 58, 52, 47, 53, 53, 54, 60, 50,\n",
       "       47, 52, 56, 57, 47, 47, 53, 48, 44, 47, 51, 55, 58, 45, 53, 48, 45,\n",
       "       48, 43, 47, 51, 51, 51, 55, 47, 50, 48, 44, 53, 52, 47, 53, 57, 45,\n",
       "       49, 55, 56, 47, 36, 49, 44, 43, 55, 51, 43, 51, 40, 47, 49, 45, 48,\n",
       "       55, 54, 52, 59, 50, 43, 53, 48, 54, 54, 52, 59, 47, 48, 53, 47, 43,\n",
       "       50, 52, 48, 46, 57, 43, 59, 49, 49, 52, 51, 53, 42, 51, 48, 45, 51,\n",
       "       47, 42, 62, 51, 50, 59, 52, 48, 54, 51, 52, 46, 51, 41, 50, 51, 53,\n",
       "       48, 51, 40, 51, 42, 53, 51, 47, 46, 49, 47, 50, 45, 54, 52, 43, 45,\n",
       "       56, 51, 48, 53, 52, 51, 52, 46, 46, 60, 46, 46, 49, 47, 60, 47, 49,\n",
       "       51, 48, 51, 51, 47, 51, 48, 48, 46, 41, 50, 43, 55, 56, 41, 47, 43,\n",
       "       52, 48, 55, 44, 39, 41, 46, 54, 55, 47, 47, 49, 53, 50, 47, 46, 40,\n",
       "       54, 53, 54, 39, 57, 55, 51, 51, 51, 55, 50, 50, 47, 49, 50, 58, 45,\n",
       "       39, 51, 50, 49, 52, 57, 53, 45, 53, 55, 42, 41, 51, 53, 48, 46, 51,\n",
       "       47, 56, 49, 61, 51, 57, 45, 50, 51, 50, 61, 49, 53, 54, 49, 41, 46,\n",
       "       51, 60, 57, 51, 53, 59, 49, 54, 43, 58, 55, 49, 46, 55, 46, 48, 49,\n",
       "       45, 49, 47, 49, 46, 50, 56, 50, 43, 50, 48, 51, 51, 48, 50, 45, 51,\n",
       "       55, 60, 50, 50, 41, 54, 52, 42, 43, 55, 51, 50, 52, 50, 51, 43, 48,\n",
       "       51, 56, 54, 54, 54, 45, 51, 49, 49, 45, 38, 54, 45, 48, 52, 51, 45,\n",
       "       57, 55, 57, 55, 56, 53, 51, 48, 45, 49, 50, 55, 55, 58, 55, 49, 59,\n",
       "       51, 56, 50, 42, 52, 49, 41, 51, 56, 45, 41, 51, 53, 51, 50, 53, 49,\n",
       "       60, 41, 56, 50, 51, 58, 54, 44, 56, 49, 52, 63, 50, 44, 57, 58, 54,\n",
       "       49, 55, 47, 49, 47, 61, 46, 58, 45, 49, 57, 56, 46, 41, 55, 48, 48,\n",
       "       59, 54, 37, 48, 49, 46, 53, 53, 47, 48, 40, 50, 56, 43, 51, 50, 47,\n",
       "       47, 54, 51, 50, 46, 50, 49, 37, 49, 47, 54, 50, 47, 57, 53, 48, 49,\n",
       "       58, 55, 47, 45, 42, 52, 51, 46, 51, 50, 47, 46, 46, 46, 44, 52, 53,\n",
       "       53, 51, 55, 48, 44, 48, 55, 52, 52, 53, 54, 54, 49, 51],\n",
       "      dtype=int64)"
      ]
     },
     "execution_count": 16,
     "metadata": {},
     "output_type": "execute_result"
    }
   ],
   "source": [
    "rng = np.random.default_rng()\n",
    "n, p = 100, .5\n",
    "s = rng.binomial(n,p, 1000)\n",
    "s"
   ]
  },
  {
   "cell_type": "code",
   "execution_count": null,
   "metadata": {},
   "outputs": [],
   "source": []
  },
  {
   "cell_type": "code",
   "execution_count": null,
   "metadata": {},
   "outputs": [],
   "source": []
  }
 ],
 "metadata": {
  "kernelspec": {
   "display_name": "Python 3",
   "language": "python",
   "name": "python3"
  },
  "language_info": {
   "codemirror_mode": {
    "name": "ipython",
    "version": 3
   },
   "file_extension": ".py",
   "mimetype": "text/x-python",
   "name": "python",
   "nbconvert_exporter": "python",
   "pygments_lexer": "ipython3",
   "version": "3.8.3"
  }
 },
 "nbformat": 4,
 "nbformat_minor": 4
}
