{
 "cells": [
  {
   "cell_type": "markdown",
   "metadata": {},
   "source": [
    "# Fundamentals of Data Analysis - Tasks\n",
    "***\n",
    "## Eibhinn Lee\n",
    "### G00226502\n"
   ]
  },
  {
   "cell_type": "markdown",
   "metadata": {},
   "source": [
    "### Task 1 - Counts\n",
    "\n",
    "***October 5th, 2020***\n",
    "\n",
    "Task\n",
    "***\n",
    "Write a Python function called 'counts' that takes a list as input and returns a dictionary of unique items in the list as keys and the number of times each item appears as values.\n",
    "\n",
    "Example:\n",
    "Input ['A', 'A', 'B', 'C', 'A']\n",
    "\n",
    "Output {'A': 3, 'B': 1, 'C': 1} . Your code should not depend\n",
    "on any module from the standard library1 or otherwise. \n",
    "\n",
    "You should research the task first and include a description with references of your algorithm in the\n",
    "notebook.\n",
    "\n",
    "References for Task 1\n",
    "___\n",
    "https://www.geeksforgeeks.org/python-list-function-count/\n",
    "\n",
    "https://stackoverflow.com/questions/2600191/how-can-i-count-the-occurrences-of-a-list-item"
   ]
  },
  {
   "cell_type": "markdown",
   "metadata": {},
   "source": [
    "####  Example One\n",
    "\n",
    "This example uses the count function to count the occurrences of each element held within the list provided.\n",
    "\n",
    "Firstly, using to count a single element held within the list\n",
    "and secondly, to count all elements within the list\n",
    "\n",
    "References\n",
    "https://www.geeksforgeeks.org/python-list-function-count/"
   ]
  },
  {
   "cell_type": "code",
   "execution_count": 1,
   "metadata": {},
   "outputs": [
    {
     "name": "stdout",
     "output_type": "stream",
     "text": [
      "6\n",
      "2\n"
     ]
    }
   ],
   "source": [
    "# create a random list with words,letters, numbers\n",
    "\n",
    "ab = ['Cat', '-0.125', 'Sat', 'Cat', 'Mat', 'Rat', '-1', 'c','b','a','b','a','a','a','a','a','dog', '1.0'] \n",
    "\n",
    "# print out the occurence of a single element held within the list above.\n",
    "print(ab.count(('a')))\n",
    "print(ab.count(('Cat')))"
   ]
  },
  {
   "cell_type": "code",
   "execution_count": 2,
   "metadata": {},
   "outputs": [
    {
     "name": "stdout",
     "output_type": "stream",
     "text": [
      "{'Mat': 1, '-0.125': 1, '1.0': 1, 'a': 6, 'dog': 1, 'Sat': 1, 'c': 1, 'Cat': 2, 'b': 2, 'Rat': 1, '-1': 1}\n"
     ]
    }
   ],
   "source": [
    "# printing the result in the form - dictionary\n",
    "# print all elements held with the list 'ab' once and count how many times the occur.\n",
    "print (dict( (l, ab.count(l) ) for l in set(ab)))"
   ]
  },
  {
   "cell_type": "markdown",
   "metadata": {},
   "source": [
    "####  Example Two\n",
    "\n",
    "This example uses the counter function from collections module to count the occurrences of each element held within the list provided.\n",
    "\n",
    "References\n",
    " - https://stackoverflow.com/questions/2600191/how-can-i-count-the-occurrences-of-a-list-item\n",
    " - https://www.geeksforgeeks.org/python-counter-objects-elements/"
   ]
  },
  {
   "cell_type": "code",
   "execution_count": 3,
   "metadata": {},
   "outputs": [
    {
     "name": "stdout",
     "output_type": "stream",
     "text": [
      "{'1': 4, 'b': 2, 'a': 6, 'dog': 1, '1.0': 1, 'Sat': 1, 'Cat': 1, 'Mat': 1}\n"
     ]
    }
   ],
   "source": [
    "# import library\n",
    "from collections import Counter\n",
    "\n",
    "# create list called 'l', using the counter function to count all items within the list\n",
    "l =Counter(['1','1','1','1','b','a','b','a','a','a','a','a','dog', '1.0', 'Sat', 'Cat', 'Mat'])\n",
    "\n",
    "# print in the form of a dictionary\n",
    "print (dict(l))"
   ]
  },
  {
   "cell_type": "markdown",
   "metadata": {},
   "source": [
    "### Task 2 - Dicerolls\n",
    "\n",
    "***November 2nd, 2020***\n",
    "Task\n",
    "***\n",
    "Write a Python function called dicerolls that simulates rolling dice. \n",
    "Your function should take two parameters: \n",
    "- k, the number of dice \n",
    "- n, the number of times to roll the dice. \n",
    "\n",
    "The function should simulate randomly rolling k dice n times, keeping track of each total face value. \n",
    "It should then return a dictionary with the number of times each possible total face value occurred. \n",
    "\n",
    "So,calling the function as diceroll(k=2, n=1000) should return a dictionary like:\n",
    "\n",
    "**{2:19,3:50,4:82,5:112,6:135,7:174,8:133,9:114,10:75,11:70,12:36}**\n",
    "\n",
    "You can use any module from the Python standard library you wish and you should\n",
    "include a description with references of your algorithm in the notebook.\n",
    "***\n",
    "\n",
    "The approach used for the below task was to use both numpy.random package and the count function.\n",
    "Two examples were drawn up, first one breaking down the process and getting the results step by step.\n",
    "The second approach was more useful and more adaptable and user friendly.\n",
    "***\n",
    "\n",
    "\n",
    "References used\n",
    "***\n",
    "- https://stackoverflow.com/questions/2600191/how-can-i-count-the-occurrences-of-a-list-item\n",
    "- https://docs.python.org/3/library/itertools.html\n",
    "- https://stackoverflow.com/questions/44008489/dice-rolling-simulator-in-python\n",
    "- https://www.pythonforbeginners.com/code-snippets-source-code/game-rolling-the-dice\n",
    "- https://docs.python.org/3/library/itertools.html\n",
    "- https://numpy.org/doc/stable/reference/random/generated/numpy.random.Generator.integers.html\n",
    "- https://livebook.manning.com/book/data-science-bookcamp/chapter-3/v-2/13"
   ]
  },
  {
   "cell_type": "code",
   "execution_count": 4,
   "metadata": {},
   "outputs": [],
   "source": [
    "import numpy as np\n",
    "import pandas as pd\n",
    "import matplotlib.pyplot as plt\n",
    "import seaborn as sn"
   ]
  },
  {
   "cell_type": "code",
   "execution_count": 5,
   "metadata": {},
   "outputs": [
    {
     "data": {
      "text/plain": [
       "1"
      ]
     },
     "execution_count": 5,
     "metadata": {},
     "output_type": "execute_result"
    }
   ],
   "source": [
    "# Using the numpy.random package\n",
    "# Generate a single number between the range of 1 to 7 not including 7.\n",
    "# simulating a roll of a single dice\n",
    "rng = np.random.default_rng()\n",
    "\n",
    "dice_roll = rng.integers(1, 7)\n",
    "dice_roll"
   ]
  },
  {
   "cell_type": "code",
   "execution_count": 6,
   "metadata": {},
   "outputs": [
    {
     "name": "stdout",
     "output_type": "stream",
     "text": [
      "[5 5 4 1 3]\n",
      "[6 1 1 3 6]\n",
      "[11  6  5  4  9]\n"
     ]
    }
   ],
   "source": [
    "# Simulating the roll of 2 dice and adding the value together\n",
    "# lowest value will be 2 , highest will be 12.\n",
    "# in the case below, the random package will generate 5 numbers each and add each together after each number is generated.\n",
    "\n",
    "d1 = np.random.randint(1, 7, 5)\n",
    "d2 = np.random.randint(1, 7, 5)\n",
    "\n",
    "# numbers are added with a simple addition of each\n",
    "dicesums = d1 + d2\n",
    "# for the purpose of clarity, d1 and d2 have been shown along with the addition of both\n",
    "# as you can see the top two outputs added together result in the third output.\n",
    "print(d1)\n",
    "print(d2)\n",
    "print(dicesums)"
   ]
  },
  {
   "cell_type": "code",
   "execution_count": 7,
   "metadata": {},
   "outputs": [
    {
     "data": {
      "text/plain": [
       "array([ 6,  6,  4,  4,  9,  8,  5,  8,  4,  4,  5,  9, 10,  7,  8, 11, 12,\n",
       "        5,  7,  8,  3,  6,  5,  2, 10,  8, 11, 11, 11, 10,  5,  8,  2,  6,\n",
       "        2,  8, 12,  6,  7,  7,  7, 10,  5, 11,  7,  7,  8,  5, 12,  5,  8,\n",
       "        9,  4,  5,  5,  9, 12,  5,  5,  4,  9,  4,  6,  8,  9,  8,  9,  8,\n",
       "       11,  7,  7,  9,  8, 10,  6,  5,  7,  7,  6,  5, 10, 10,  9,  8,  8,\n",
       "        7,  8,  9,  9,  8, 11,  8,  2,  9,  7,  8,  6,  4,  7,  8,  8,  5,\n",
       "        3,  9,  7,  4,  7,  2, 10, 10,  7,  6,  5,  7,  7,  9,  5,  6, 10,\n",
       "        6,  5,  6,  4,  7,  8,  7,  8,  6, 11,  8,  4,  6, 10,  6,  8,  7,\n",
       "        7,  8,  8,  8,  8,  2,  6,  8,  6,  2,  8,  7,  7, 11,  7, 10,  6,\n",
       "       12,  9, 11,  4,  4,  7,  8,  3,  7,  9,  9,  8, 10,  4,  6,  5,  5,\n",
       "        5, 12,  7, 10,  7,  9,  6,  6,  9,  7,  8,  6,  4, 10,  5,  5,  3,\n",
       "       12,  4, 10,  3,  5,  6,  7,  4, 11,  8,  6,  4,  8, 11,  2,  9,  8,\n",
       "        6,  8,  5,  7,  4,  9,  7,  7,  7,  4,  6,  8, 10,  9, 11,  7,  6,\n",
       "        5,  5,  9,  6,  7,  9,  6,  5,  5,  6,  7,  9,  6, 10,  6, 11,  4,\n",
       "        3,  5,  3, 12,  4,  9,  8, 12, 10,  5,  5, 10,  6, 11, 11,  8,  6,\n",
       "        8,  6,  3,  8,  4,  4,  3,  6,  4,  8,  5,  4,  6,  4,  9,  9,  7,\n",
       "        4,  6,  8,  5,  6,  4,  5,  7,  4,  7,  6,  5,  7,  8,  6,  5,  4,\n",
       "       11,  6,  6,  6,  4,  6,  6,  6,  3,  4,  8, 10,  5,  7,  8,  6,  2,\n",
       "        9, 10,  4,  6,  6, 12,  9,  3,  4,  6,  8,  6, 10,  7,  6,  4, 11,\n",
       "        6,  4,  8,  7,  5,  5, 11,  8,  9,  6,  7,  6,  3,  5,  6, 11,  6,\n",
       "        8,  9,  7,  3,  5, 11,  8,  8, 12,  9,  2,  9,  5,  9, 11,  8,  7,\n",
       "       11,  4,  4,  7,  4,  9,  2,  5,  3,  8, 10,  4,  5,  6,  9,  4,  6,\n",
       "        5,  8,  6,  3,  9,  2,  5,  7, 11,  3, 10,  8, 10,  6,  7,  7, 12,\n",
       "        3,  4,  6,  6,  2,  5,  6,  6,  8,  9,  4,  4,  9,  8,  3,  7,  4,\n",
       "        6,  8,  5,  8, 10, 12, 11,  7,  7,  6,  9,  8,  2,  7,  5,  9,  9,\n",
       "        9,  4,  8,  7,  9,  8,  9,  5,  8,  7,  9,  8,  9,  7,  3,  5,  7,\n",
       "       11,  9,  9,  8,  9,  3,  6,  7, 10,  4,  7, 10,  6,  7,  8,  4,  3,\n",
       "        5,  7,  3,  4,  6,  5,  5,  8,  6, 11,  5, 11, 10,  3,  8,  8, 12,\n",
       "       10,  9,  5,  3,  5,  6,  7,  7,  9,  3,  3,  5,  7,  5,  7,  7,  3,\n",
       "       11,  4,  8,  9,  2,  8,  4, 12,  3,  8,  9,  8,  6,  8,  6,  8,  4,\n",
       "        9,  4, 12,  8,  5,  3, 11,  4,  9, 10, 11, 11,  6,  5,  4,  5,  9,\n",
       "       11,  7,  6,  2,  2,  8,  4,  2,  6,  5,  6,  3,  5, 10,  7,  5,  8,\n",
       "        8,  7,  9, 10,  8,  8,  8,  9,  8,  9,  8,  8,  3,  8,  4,  3,  6,\n",
       "       10, 12,  4,  2,  7, 10,  7,  7,  8, 11,  7,  7,  3,  5,  7,  9,  9,\n",
       "        7,  6,  2,  3,  8,  7, 11,  7,  6,  3, 11, 10, 10,  6,  9,  5, 10,\n",
       "        8,  8,  5,  2,  9, 10,  3,  7,  6,  7,  6,  6,  7,  7,  8,  8,  3,\n",
       "        7,  6,  7,  7, 11,  6,  7,  7,  9,  4,  4, 11,  9,  7,  4, 10,  3,\n",
       "        5,  8,  2,  7,  4,  9,  6,  5,  5, 10,  9, 10,  7, 10,  6, 10, 12,\n",
       "        8,  8,  7,  7,  4,  3,  7,  7,  9, 12, 10, 11,  5,  8,  3,  6,  9,\n",
       "        4,  7,  8,  9,  5,  8,  9,  5,  7, 10,  3,  8,  7,  8,  4,  4,  2,\n",
       "        5,  7,  7, 11, 10,  7,  9,  9,  5,  6,  6,  9,  6,  5,  4,  9,  6,\n",
       "        9,  8,  9,  8,  6, 10,  4,  4,  8,  8,  3,  8,  7,  5,  8,  6,  6,\n",
       "        7,  8,  9, 11,  4,  9,  7,  8, 10,  3,  5,  4,  6,  6, 10,  7,  8,\n",
       "        5,  8,  7,  5,  9, 12,  4, 11,  4,  7,  2,  4,  5,  8,  7,  8,  8,\n",
       "        8,  5,  9,  5,  8,  8,  5,  7,  5,  3,  7, 11,  6,  7, 12,  3,  6,\n",
       "        7,  7,  6,  9, 11, 10,  3,  6,  5,  5,  5,  8,  6,  6,  6,  9,  7,\n",
       "        3, 10,  7,  4,  7, 12,  7,  9,  7,  8,  6,  4,  6,  4,  9, 12,  6,\n",
       "       10,  8,  8,  7,  6,  5,  8,  5,  5,  9,  8,  8,  7,  7,  4,  7, 12,\n",
       "        7,  7, 10,  7,  6,  5,  8,  8, 10,  6, 12, 12,  4,  8,  8,  9,  3,\n",
       "        2,  6,  2,  5,  4,  9,  6,  6,  6,  3,  4,  7,  3, 12,  7, 12, 10,\n",
       "       12,  4,  7,  8,  5,  9,  6, 12,  7,  8, 11,  5, 11,  4,  4,  7,  3,\n",
       "        5, 10,  7,  2,  2,  9,  6,  7, 11, 12, 11,  2,  7,  4, 11,  9,  8,\n",
       "        6,  3,  9,  9,  4,  5,  6, 11, 11,  8,  7,  4, 11,  9,  2,  4, 10,\n",
       "       12,  6,  7,  5,  6,  8,  7, 10,  9, 11,  5,  5,  5,  5, 10,  6,  9,\n",
       "        7,  8, 10,  4,  7,  2,  8,  5,  8, 11,  4,  6,  9, 11,  6,  7,  3,\n",
       "        8,  5,  8,  3,  8,  4,  4, 10,  8,  6, 10,  4,  8,  5,  4, 12,  7,\n",
       "        7,  9,  7,  5,  8,  8,  4,  8,  4, 10,  8, 10,  5,  9,  5,  8,  7,\n",
       "        7, 12,  6,  8,  4,  7,  3,  8, 10,  5,  4,  9, 10,  4,  6,  8,  9,\n",
       "        3,  3, 10,  9,  2,  6,  4,  2, 10,  6,  5,  8, 10, 11])"
      ]
     },
     "execution_count": 7,
     "metadata": {},
     "output_type": "execute_result"
    }
   ],
   "source": [
    "# printing the combined sum of the 2 dice that were rolled 1000 times\n",
    "d1 = np.random.randint(1, 7, 1000)\n",
    "d2 = np.random.randint(1, 7, 1000)\n",
    "rolling_dice = d1 + d2\n",
    "rolling_dice"
   ]
  },
  {
   "cell_type": "code",
   "execution_count": 8,
   "metadata": {},
   "outputs": [
    {
     "name": "stdout",
     "output_type": "stream",
     "text": [
      "{2: 33, 3: 57, 4: 101, 5: 112, 6: 132, 7: 148, 8: 152, 9: 104, 10: 71, 11: 56, 12: 34}\n"
     ]
    }
   ],
   "source": [
    "# using the itertools function\n",
    "from itertools import groupby\n",
    "# using this function allows the list to be counted and sorted into the number of occurrences \n",
    "counts = [(i, len(list(c))) for i,c in groupby(sorted(rolling_dice))]\n",
    "# print in the form of a dictionary\n",
    "print(dict(counts))"
   ]
  },
  {
   "cell_type": "markdown",
   "metadata": {},
   "source": [
    "Analysis:\n",
    "***\n",
    "Having completed the above function and showing it works, I feel that even though it works, it can be reduced and made more user friendly.\n",
    "If the task was to be adapted and instead of rolling 2 dice, now we were to run 5 dice, as the function is structured now, 3 more lines would be required and some lines of code would need to amended slightly for this amendment to work.\n",
    "\n",
    "While it works, it can be more more user friendly and much compact and greatly shortened.\n",
    "\n",
    "The below is an example of how this can be adapted and streamlined."
   ]
  },
  {
   "cell_type": "code",
   "execution_count": 9,
   "metadata": {},
   "outputs": [],
   "source": [
    "# defining the count function prior to creating the simulation function using numpy.\n",
    "\n",
    "def counts(inputList, caseSensitivity=True):\n",
    "    \n",
    "    if caseSensitivity==False:\n",
    "        for i in range(0, len(inputList)):\n",
    "            if isinstance(inputList[i], str):\n",
    "                inputList[i] = inputList[i].lower()    \n",
    "# returning the output in the form of a dictionary.    \n",
    "    return dict((element, inputList.count(element)) for element in set(inputList))"
   ]
  },
  {
   "cell_type": "code",
   "execution_count": 10,
   "metadata": {},
   "outputs": [],
   "source": [
    "# defining the function the task required. k = number of dice and n = the number of rolls\n",
    "def dicerolls(k, n):\n",
    "    # defining the function itself\n",
    "    # the number range\n",
    "    number = [1, 2, 3, 4, 5, 6]\n",
    "    # the use of the most recent numpy.random package generator\n",
    "    rng = np.random.default_rng()\n",
    "    rolls = []\n",
    "    for i in range(n):\n",
    "        # using the random.choice function within the numpy.random package\n",
    "        roll = sum(rng.choice(number, k))\n",
    "        rolls.append(roll)    \n",
    "    outcome = counts(rolls)\n",
    "    print(outcome)"
   ]
  },
  {
   "cell_type": "code",
   "execution_count": 11,
   "metadata": {},
   "outputs": [
    {
     "name": "stdout",
     "output_type": "stream",
     "text": [
      "{2: 26, 3: 48, 4: 102, 5: 131, 6: 133, 7: 156, 8: 130, 9: 120, 10: 81, 11: 52, 12: 21}\n",
      "{2: 403, 3: 837, 4: 1282, 5: 1604, 6: 2035, 7: 2512, 8: 2068, 9: 1753, 10: 1277, 11: 801, 12: 428}\n"
     ]
    }
   ],
   "source": [
    "# now the function can be set up and only amendments made to the amount of dice or the number of rolls of dice need to be updated.\n",
    "dicerolls(2,1000)\n",
    "dicerolls(2,15000)"
   ]
  },
  {
   "cell_type": "markdown",
   "metadata": {},
   "source": [
    "### Task 3 - Counts\n",
    "\n",
    "***November 16th, 2020***\n",
    "\n",
    "Task\n",
    "***\n",
    "The numpy.random.binomial function can be used to simulate flipping a coin with a 50/50 chance of heads or tails. \n",
    "Interestingly, if a coin is flipped many times then the number of heads is well approximated by a bell-shaped curve. \n",
    "For instance, if we flip a coin 100 times in a row the chance of getting 50 heads is relatively high, the chances of getting 0 or 100 heads is relatively low, and the chances of getting any other number of heads decreases as you move\n",
    "away from 50 in either direction towards 0 or 100. \n",
    "\n",
    "Task:\n",
    "Write some python code that simulates flipping a coin 100 times. \n",
    "Then run this code 1,000 times, keeping track of the number of heads in each of the 1,000 simulations. \n",
    "\n",
    "Select an appropriate plot to depict the resulting list of 1,000 numbers, showing that it roughly follows a bell-shaped curve. \n",
    "\n",
    "You should explain your work in a Markdown cell above the code.\n",
    "\n",
    "#### Definition\n",
    "***\n",
    " \"the binomial distribution with parameters n and p is the discrete probability distribution of the number of successes in a sequence of n independent experiments, each asking a yes–no question, and each with its own Boolean-valued outcome: success (with probability p) or failure (with probability q = 1 − p).\"\n",
    " https://en.wikipedia.org/wiki/Binomial_distribution#:~:text=In%20probability%20theory%20and%20statistics,with%20probability%20p)%20or%20failure%20(\n",
    "\n",
    "References for Task 3\n",
    " - https://numpy.org/doc/stable/reference/random/generated/numpy.random.Generator.binomial.html#numpy.random.Generator.binomial\n",
    " - https://www.w3schools.com/python/numpy_random_binomial.asp\n",
    " - https://python-graph-gallery.com/20-basic-histogram-seaborn/#prettyPhoto\n",
    " - https://www.tutorialspoint.com/numpy/numpy_statistical_functions.htm#:~:text=Arithmetic%20mean%20is%20the%20sum,it%20is%20calculated%20along%20it.\n",
    " - https://en.wikipedia.org/wiki/Binomial_distribution#:~:text=In%20probability%20theory%20and%20statistics,with%20probability%20p)%20or%20failure%20(\n",
    "___\n"
   ]
  },
  {
   "cell_type": "markdown",
   "metadata": {},
   "source": [
    "### Binomial Distribution\n",
    "***\n",
    "\n",
    "Following the output of the code simulating flipping a coin 100 times and recording the results and running this test 1000 times, you can see that the results are all relatively similar without looking to closely as the array.\n",
    "\n",
    "Just to the untrained eye, you would not be too far away from saying all the results occur between the values of 40 and 60. That range of 20 values sitting approximately in the middle of the number of times the coin was flipped for the purpose of this test.\n"
   ]
  },
  {
   "cell_type": "code",
   "execution_count": 12,
   "metadata": {},
   "outputs": [
    {
     "data": {
      "text/plain": [
       "array([47, 48, 38, 45, 54, 50, 54, 50, 56, 45, 43, 52, 55, 46, 49, 52, 52,\n",
       "       51, 53, 47, 48, 50, 45, 54, 47, 52, 48, 61, 55, 47, 45, 42, 51, 55,\n",
       "       56, 59, 50, 53, 51, 42, 45, 61, 48, 41, 42, 61, 50, 45, 52, 48, 55,\n",
       "       49, 52, 53, 60, 47, 55, 49, 47, 49, 52, 47, 48, 53, 47, 49, 45, 55,\n",
       "       55, 55, 45, 43, 41, 39, 48, 58, 50, 51, 44, 49, 52, 36, 65, 48, 49,\n",
       "       47, 54, 50, 59, 45, 41, 43, 44, 47, 50, 52, 54, 54, 54, 58, 37, 53,\n",
       "       46, 49, 46, 46, 58, 48, 61, 53, 56, 47, 42, 51, 52, 50, 49, 44, 53,\n",
       "       46, 55, 52, 48, 40, 55, 47, 45, 57, 54, 49, 52, 53, 57, 47, 51, 53,\n",
       "       56, 46, 57, 61, 46, 55, 56, 55, 56, 39, 38, 56, 55, 39, 51, 58, 53,\n",
       "       59, 59, 52, 51, 53, 55, 48, 50, 44, 55, 50, 51, 54, 50, 52, 45, 46,\n",
       "       54, 51, 57, 45, 54, 52, 51, 55, 57, 51, 43, 52, 49, 51, 53, 43, 43,\n",
       "       53, 45, 49, 51, 43, 50, 54, 55, 46, 49, 54, 48, 43, 55, 45, 46, 54,\n",
       "       54, 60, 44, 52, 54, 58, 47, 51, 46, 51, 58, 55, 48, 47, 37, 51, 47,\n",
       "       64, 47, 47, 56, 47, 50, 59, 45, 41, 53, 57, 47, 46, 53, 51, 51, 49,\n",
       "       44, 50, 37, 51, 54, 42, 50, 45, 42, 58, 45, 51, 50, 51, 51, 59, 42,\n",
       "       51, 50, 54, 54, 43, 50, 53, 53, 50, 47, 52, 49, 54, 45, 47, 53, 45,\n",
       "       53, 57, 47, 51, 46, 51, 54, 49, 50, 48, 46, 52, 41, 57, 51, 53, 52,\n",
       "       47, 50, 54, 54, 45, 51, 51, 48, 56, 44, 50, 45, 46, 49, 42, 46, 50,\n",
       "       53, 57, 57, 44, 60, 51, 51, 44, 55, 40, 57, 65, 59, 46, 48, 49, 53,\n",
       "       54, 42, 49, 54, 56, 52, 56, 50, 47, 51, 49, 49, 52, 49, 42, 46, 50,\n",
       "       51, 51, 51, 39, 47, 54, 49, 53, 44, 54, 47, 53, 51, 49, 54, 55, 52,\n",
       "       48, 59, 51, 55, 40, 53, 56, 57, 43, 64, 47, 42, 49, 53, 51, 55, 53,\n",
       "       40, 48, 49, 47, 56, 42, 61, 45, 48, 43, 46, 58, 51, 57, 46, 60, 45,\n",
       "       43, 53, 46, 55, 51, 48, 43, 48, 51, 47, 60, 54, 52, 52, 52, 44, 51,\n",
       "       47, 48, 48, 51, 60, 47, 47, 45, 49, 52, 40, 52, 51, 66, 42, 43, 57,\n",
       "       52, 57, 54, 54, 58, 56, 51, 47, 50, 47, 60, 42, 57, 48, 49, 54, 60,\n",
       "       48, 55, 47, 45, 45, 53, 43, 40, 49, 45, 48, 50, 53, 55, 45, 55, 46,\n",
       "       36, 54, 46, 55, 43, 49, 54, 44, 60, 47, 47, 53, 53, 46, 55, 50, 53,\n",
       "       56, 44, 52, 55, 49, 54, 43, 38, 58, 50, 52, 54, 53, 49, 47, 58, 47,\n",
       "       45, 42, 42, 50, 47, 45, 50, 51, 56, 51, 48, 56, 51, 54, 47, 49, 46,\n",
       "       50, 49, 54, 43, 56, 55, 47, 52, 54, 52, 48, 54, 49, 45, 57, 58, 59,\n",
       "       47, 56, 48, 51, 55, 44, 53, 53, 51, 53, 44, 55, 50, 60, 53, 57, 49,\n",
       "       52, 53, 49, 50, 54, 49, 54, 45, 43, 57, 46, 48, 52, 42, 52, 50, 52,\n",
       "       46, 53, 50, 54, 38, 53, 43, 48, 51, 55, 45, 51, 56, 44, 35, 46, 47,\n",
       "       51, 46, 44, 46, 45, 55, 42, 50, 50, 49, 41, 51, 47, 62, 55, 59, 58,\n",
       "       51, 45, 46, 57, 43, 50, 53, 48, 45, 49, 49, 59, 42, 45, 47, 56, 45,\n",
       "       51, 53, 48, 49, 49, 51, 48, 53, 57, 43, 55, 45, 51, 53, 58, 49, 48,\n",
       "       50, 49, 57, 47, 48, 57, 54, 47, 53, 53, 52, 59, 46, 62, 50, 54, 56,\n",
       "       48, 57, 40, 53, 36, 54, 50, 47, 44, 51, 43, 49, 50, 49, 58, 45, 50,\n",
       "       48, 48, 43, 59, 55, 43, 45, 48, 54, 59, 57, 59, 43, 56, 49, 53, 48,\n",
       "       36, 60, 52, 51, 55, 47, 47, 40, 45, 44, 51, 52, 50, 51, 47, 50, 48,\n",
       "       50, 50, 52, 53, 56, 47, 44, 57, 52, 59, 43, 53, 61, 59, 59, 44, 50,\n",
       "       54, 54, 45, 54, 43, 55, 54, 46, 41, 47, 47, 50, 44, 41, 45, 51, 58,\n",
       "       48, 58, 46, 56, 51, 50, 49, 57, 48, 48, 53, 58, 50, 46, 50, 46, 57,\n",
       "       64, 50, 44, 53, 54, 50, 53, 54, 48, 52, 58, 53, 47, 46, 45, 51, 51,\n",
       "       50, 50, 48, 54, 55, 54, 51, 53, 52, 36, 47, 45, 56, 51, 53, 45, 51,\n",
       "       52, 56, 52, 43, 50, 50, 53, 55, 51, 49, 40, 44, 48, 47, 53, 50, 46,\n",
       "       50, 63, 50, 45, 49, 60, 50, 52, 54, 51, 55, 44, 41, 55, 58, 49, 44,\n",
       "       41, 51, 46, 48, 64, 46, 59, 53, 42, 62, 50, 50, 59, 48, 54, 52, 57,\n",
       "       49, 47, 51, 47, 54, 50, 51, 55, 46, 45, 49, 47, 53, 48, 51, 46, 46,\n",
       "       45, 52, 52, 54, 56, 54, 48, 44, 55, 54, 52, 52, 44, 53, 52, 49, 58,\n",
       "       53, 55, 47, 59, 52, 53, 51, 50, 44, 45, 44, 58, 52, 40, 47, 50, 50,\n",
       "       54, 40, 52, 50, 43, 52, 47, 60, 57, 41, 46, 55, 56, 51, 50, 60, 47,\n",
       "       51, 51, 43, 54, 45, 67, 50, 51, 49, 44, 47, 55, 46, 47, 45, 65, 52,\n",
       "       51, 58, 49, 56, 44, 47, 51, 46, 46, 57, 60, 56, 51, 41, 55, 41, 51,\n",
       "       53, 56, 55, 58, 46, 51, 45, 50, 42, 48, 48, 59, 41, 45, 46, 55, 51,\n",
       "       55, 53, 43, 57, 54, 51, 50, 49, 44, 49, 52, 53, 49, 49, 47, 40, 41,\n",
       "       44, 52, 48, 50, 51, 48, 52, 45, 49, 41, 51, 44, 46, 55, 56, 58, 52,\n",
       "       51, 47, 53, 51, 44, 55, 44, 48, 45, 56, 49, 55, 50, 58],\n",
       "      dtype=int64)"
      ]
     },
     "execution_count": 12,
     "metadata": {},
     "output_type": "execute_result"
    }
   ],
   "source": [
    "# Using the numpy.random package to write the code\n",
    "# using the binomial distribution function within the numpy.random package\n",
    "\n",
    "# using the most updated version of numpy with the new default random generator\n",
    "\n",
    "rng = np.random.default_rng()\n",
    "\n",
    "# n = flipping of a coin 100 times\n",
    "# p = parameter, in this case its 50/50 as the coin only has 2 sides\n",
    "\n",
    "n, p = 100, .5\n",
    "\n",
    "# 1000 refers to the number of times the test is run.\n",
    "# in this task a coing is flipped 100 times, with a 50/50 chance of it landing on 'heads' and this test will be run 1000 times\n",
    "\n",
    "coin = rng.binomial(n,p, 1000)\n",
    "\n",
    "# the results of the 1000 tests run are as per below\n",
    "\n",
    "coin"
   ]
  },
  {
   "cell_type": "markdown",
   "metadata": {},
   "source": [
    "### Visual Representation of the Binomial results\n",
    "***\n",
    "\n",
    "As was expected, you can see from the graph below that the number of results approx 50 were shown to be the highest.\n",
    "The graph has a bell shaped curve view and is also in line that the closer you go away from the middle value, in this case, 50 the less likely the outcome.\n",
    "You are less likely to flip a coin and get all heads or tails. If the parameter was broader than in the task of 50/50 , then results would be much more gradual, obviously depending on the variables within the code."
   ]
  },
  {
   "cell_type": "code",
   "execution_count": 13,
   "metadata": {},
   "outputs": [],
   "source": [
    "import seaborn as sns"
   ]
  },
  {
   "cell_type": "code",
   "execution_count": 14,
   "metadata": {},
   "outputs": [
    {
     "data": {
      "text/plain": [
       "<matplotlib.axes._subplots.AxesSubplot at 0x1cf558bfd90>"
      ]
     },
     "execution_count": 14,
     "metadata": {},
     "output_type": "execute_result"
    },
    {
     "data": {
      "image/png": "[encoded data removed]",
      "text/plain": [
       "<Figure size 432x288 with 1 Axes>"
      ]
     },
     "metadata": {
      "needs_background": "light"
     },
     "output_type": "display_data"
    }
   ],
   "source": [
    "sns.distplot(rng.binomial(n=100, p=0.5, size=1000), hist=True, kde=False)"
   ]
  },
  {
   "cell_type": "markdown",
   "metadata": {},
   "source": [
    "The following 4 lines of code run through the numpy package provide the:\n",
    " - Mean\n",
    " - Median\n",
    " - weighted Average\n",
    " - Standard Deviation\n",
    " - Variance"
   ]
  },
  {
   "cell_type": "code",
   "execution_count": 15,
   "metadata": {},
   "outputs": [
    {
     "data": {
      "text/plain": [
       "50.23"
      ]
     },
     "execution_count": 15,
     "metadata": {},
     "output_type": "execute_result"
    }
   ],
   "source": [
    "# Mean of the array\n",
    "# Arithmetic mean is the sum of elements along an axis divided by the number of elements. \n",
    "#The numpy.mean() function returns the arithmetic mean of elements in the array.\n",
    "\n",
    "coin_mean = np.mean(coin)\n",
    "coin_mean"
   ]
  },
  {
   "cell_type": "code",
   "execution_count": 16,
   "metadata": {},
   "outputs": [
    {
     "data": {
      "text/plain": [
       "50.0"
      ]
     },
     "execution_count": 16,
     "metadata": {},
     "output_type": "execute_result"
    }
   ],
   "source": [
    "# Median is defined as the value separating the higher half of a data sample from the lower half.\n",
    "coin_median = np.median(coin)\n",
    "coin_median"
   ]
  },
  {
   "cell_type": "code",
   "execution_count": 17,
   "metadata": {},
   "outputs": [
    {
     "data": {
      "text/plain": [
       "50.23"
      ]
     },
     "execution_count": 17,
     "metadata": {},
     "output_type": "execute_result"
    }
   ],
   "source": [
    "# average\n",
    "# Weighted average is an average resulting from the multiplication of each component by a factor reflecting its importance. \n",
    "#The numpy.average() function computes the weighted average of elements in an array according to their respective weight given in another array. \n",
    "#The function can have an axis parameter.\n",
    "\n",
    "coin_average = np.average(coin)\n",
    "coin_average"
   ]
  },
  {
   "cell_type": "code",
   "execution_count": 18,
   "metadata": {},
   "outputs": [
    {
     "data": {
      "text/plain": [
       "5.21335784307964"
      ]
     },
     "execution_count": 18,
     "metadata": {},
     "output_type": "execute_result"
    }
   ],
   "source": [
    "# Standard deviation is the square root of the average of squared deviations from mean\n",
    "np.std(coin)"
   ]
  },
  {
   "cell_type": "code",
   "execution_count": 19,
   "metadata": {},
   "outputs": [
    {
     "data": {
      "text/plain": [
       "27.179100000000002"
      ]
     },
     "execution_count": 19,
     "metadata": {},
     "output_type": "execute_result"
    }
   ],
   "source": [
    "# Variance is the average of squared deviations\n",
    "np.var(coin)"
   ]
  },
  {
   "cell_type": "code",
   "execution_count": 20,
   "metadata": {},
   "outputs": [],
   "source": [
    "#https://livebook.manning.com/book/data-science-bookcamp/chapter-3/v-2/15"
   ]
  },
  {
   "cell_type": "markdown",
   "metadata": {},
   "source": [
    "### Task 4  - Simpson's Paradox\n",
    "Task - November 30th, 2020: \n",
    "\n",
    "Simpson’s paradox is a well-known statistical paradox where a trend evident in a number of groups reverses when the groups are combined into one big data set. \n",
    "Use numpy to create four data sets, each with an x array and a corresponding y array, to demonstrate Simpson’s paradox. \n",
    "You might create your x arrays using numpy.linspace and create the y array for each x using notation like y = a * x + b where you choose the a and b for each x , y pair to demonstrate the paradox. \n",
    "You might see the Wikipedia page for Simpson’s paradox for inspiration.\n",
    "\n",
    "Simpsons Paradox Wikipedia page.\n",
    "https://en.wikipedia.org/wiki/Simpson%27s_paradox#:~:text=Simpson's%20paradox%2C%20which%20also%20goes,when%20these%20groups%20are%20combined.\n",
    "\n",
    "Simpson's Paradox\n",
    "***\n",
    "Brilliant.org describe Simpson's Paradox simply as\n",
    "\n",
    "\"Simpson's paradox occurs when groups of data show one particular trend, but this trend is reversed when the groups are combined together. \" https://brilliant.org/wiki/simpsons-paradox/\n",
    "\n",
    "\n",
    "The dataset to describe the paradox is made up data showing four football teams and the conversion rate of penalties from 2019 & 2020.\n",
    "\n",
    "Example below is a dataset set manually created with assistance from various examples such as:\n",
    "https://brilliant.org/wiki/simpsons-paradox/\n",
    "\n",
    "https://en.wikipedia.org/wiki/Simpson%27s_paradox#\n",
    "\n",
    "https://github.com/WillKoehrsen/Data-Analysis/blob/master/statistics/Simpson's%20Paradox.ipynb"
   ]
  },
  {
   "cell_type": "code",
   "execution_count": 21,
   "metadata": {},
   "outputs": [
    {
     "data": {
      "text/html": [
       "<div>\n",
       "<style scoped>\n",
       "    .dataframe tbody tr th:only-of-type {\n",
       "        vertical-align: middle;\n",
       "    }\n",
       "\n",
       "    .dataframe tbody tr th {\n",
       "        vertical-align: top;\n",
       "    }\n",
       "\n",
       "    .dataframe thead th {\n",
       "        text-align: right;\n",
       "    }\n",
       "</style>\n",
       "<table border=\"1\" class=\"dataframe\">\n",
       "  <thead>\n",
       "    <tr style=\"text-align: right;\">\n",
       "      <th></th>\n",
       "      <th>2019_Penalties Scored</th>\n",
       "      <th>2019_Penalties Taken</th>\n",
       "      <th>2020_Penalties Scored</th>\n",
       "      <th>2020_Penalties Taken</th>\n",
       "      <th>Total_taken</th>\n",
       "      <th>2019_%_Scored</th>\n",
       "      <th>2020_%_Scored</th>\n",
       "      <th>Total_%_scored</th>\n",
       "    </tr>\n",
       "    <tr>\n",
       "      <th>Team</th>\n",
       "      <th></th>\n",
       "      <th></th>\n",
       "      <th></th>\n",
       "      <th></th>\n",
       "      <th></th>\n",
       "      <th></th>\n",
       "      <th></th>\n",
       "      <th></th>\n",
       "    </tr>\n",
       "  </thead>\n",
       "  <tbody>\n",
       "    <tr>\n",
       "      <th>Man Utd</th>\n",
       "      <td>12</td>\n",
       "      <td>48</td>\n",
       "      <td>183</td>\n",
       "      <td>582</td>\n",
       "      <td>630</td>\n",
       "      <td>25.000000</td>\n",
       "      <td>31.443299</td>\n",
       "      <td>30.952381</td>\n",
       "    </tr>\n",
       "    <tr>\n",
       "      <th>Barcelona</th>\n",
       "      <td>104</td>\n",
       "      <td>411</td>\n",
       "      <td>45</td>\n",
       "      <td>140</td>\n",
       "      <td>551</td>\n",
       "      <td>25.304136</td>\n",
       "      <td>32.142857</td>\n",
       "      <td>27.041742</td>\n",
       "    </tr>\n",
       "    <tr>\n",
       "      <th>Juventus</th>\n",
       "      <td>51</td>\n",
       "      <td>203</td>\n",
       "      <td>103</td>\n",
       "      <td>325</td>\n",
       "      <td>528</td>\n",
       "      <td>25.123153</td>\n",
       "      <td>31.692308</td>\n",
       "      <td>29.166667</td>\n",
       "    </tr>\n",
       "    <tr>\n",
       "      <th>Shamrock Rovers</th>\n",
       "      <td>26</td>\n",
       "      <td>100</td>\n",
       "      <td>6</td>\n",
       "      <td>9</td>\n",
       "      <td>109</td>\n",
       "      <td>26.000000</td>\n",
       "      <td>66.666667</td>\n",
       "      <td>29.357798</td>\n",
       "    </tr>\n",
       "  </tbody>\n",
       "</table>\n",
       "</div>"
      ],
      "text/plain": [
       "                 2019_Penalties Scored  2019_Penalties Taken  \\\n",
       "Team                                                           \n",
       "Man Utd                             12                    48   \n",
       "Barcelona                          104                   411   \n",
       "Juventus                            51                   203   \n",
       "Shamrock Rovers                     26                   100   \n",
       "\n",
       "                 2020_Penalties Scored  2020_Penalties Taken  Total_taken  \\\n",
       "Team                                                                        \n",
       "Man Utd                            183                   582          630   \n",
       "Barcelona                           45                   140          551   \n",
       "Juventus                           103                   325          528   \n",
       "Shamrock Rovers                      6                     9          109   \n",
       "\n",
       "                 2019_%_Scored  2020_%_Scored  Total_%_scored  \n",
       "Team                                                           \n",
       "Man Utd              25.000000      31.443299       30.952381  \n",
       "Barcelona            25.304136      32.142857       27.041742  \n",
       "Juventus             25.123153      31.692308       29.166667  \n",
       "Shamrock Rovers      26.000000      66.666667       29.357798  "
      ]
     },
     "execution_count": 21,
     "metadata": {},
     "output_type": "execute_result"
    }
   ],
   "source": [
    "# Creating Dataframe\n",
    "# Adding each team and setting the index as Team and the clubs as rows \n",
    "data = [['Man Utd'], ['Barcelona'], ['Juventus'] ,['Shamrock Rovers']]\n",
    "df = pd.DataFrame(data, columns = ['Team']) \n",
    "df.set_index('Team',inplace=True)\n",
    "\n",
    "# Adding new columns with data for each team\n",
    "# Dataset looks at the conversion rate of penalties so 'scored' and 'taken' columns added for each year\n",
    "# Please note values are selected at random in order to show a true refelction of paradox\n",
    "\n",
    "df['2019_Penalties Scored'] = ([12,104,51,26])\n",
    "df['2019_Penalties Taken'] = ([48,411,203,100])\n",
    "df['2020_Penalties Scored'] = ([183,45,103,6])\n",
    "df['2020_Penalties Taken'] = ([582,140,325,9])\n",
    "\n",
    "# Adding further column to add the total penalties taken by each each club\n",
    "df['Total_taken'] = df['2019_Penalties Taken'] + df['2020_Penalties Taken']\n",
    "\n",
    "# Adding three % columns in order to show the scoring rate by each club for each year and combined.\n",
    "df['2019_%_Scored'] = (df['2019_Penalties Scored'] / df['2019_Penalties Taken']) * 100\n",
    "df['2020_%_Scored'] = (df['2020_Penalties Scored'] / df['2020_Penalties Taken']) * 100\n",
    "df['Total_%_scored'] = (df['2020_Penalties Scored'] + df['2019_Penalties Scored']) / df['Total_taken'] * 100\n",
    "# Run the dataset\n",
    "df"
   ]
  },
  {
   "cell_type": "markdown",
   "metadata": {},
   "source": [
    "Analysis of the dataset\n",
    "***\n",
    "As stated above, Simpson's Paradox occurs when groups of data show one particular trend, but this trend is reversed when the groups are combined together. \"\n",
    "\n",
    "In the dataset above and the table below, you can see the values of each club for scored penalties and total panalties taken. \n",
    "Note how Man Utd have a lower conversion rate for both 2019 & 2020 compared to the other clubs.\n",
    "\n",
    "| Team  | 2019 | 2020 |   |   |\n",
    "|---|---|---|---|---|\n",
    "| Man Utd  |25%  | 31.4%  |   |   |\n",
    "| Barcelona  | 25.3%  | 32.14%  |   |   |\n",
    "| Juventus  | 25.1%  | 31.69%  |   |   |\n",
    "| Shamrock Rovers  | 26%  | 66.66%  |   |   |\n",
    "\n",
    "It is when the results are combined that Simpson's Paradox shows us the exact effect.\n",
    "Note now once the results are combined that Man Utd have the best overall conversion rate compared to the rest of the clubs.\n",
    "This results in the opposite effect when combined both years and again shows the importance of examining and looking all angles when looking into results.\n",
    "\n",
    "| Team  | Combined |   |   |   |\n",
    "|---|---|---|---|---|\n",
    "| Man Utd  |30.95%  |   |   |   |\n",
    "| Barcelona  | 27%  |   |   |   |\n",
    "| Juventus  | 29.1%  |   |   |   |\n",
    "| Shamrock Rovers  | 29.35%  |   |   |   |\n",
    "\n",
    "Reason's why such results occur, particularly for this case would be the amount of penalties overall each club takes.\n",
    "\n",
    "The table below shows some evidence of this.\n",
    "\n",
    "In total Man Utd took the most amount of penalties in both years compared to each other club.\n",
    "They also scored more than any other club. The combination of both years with those amounts and conversion rates is why Man Utd came out on top of the overall stadnings.\n",
    "\n",
    "References\n",
    "***\n",
    "https://www.tablesgenerator.com/markdown_tables"
   ]
  },
  {
   "cell_type": "code",
   "execution_count": 22,
   "metadata": {},
   "outputs": [
    {
     "data": {
      "text/html": [
       "<div>\n",
       "<style scoped>\n",
       "    .dataframe tbody tr th:only-of-type {\n",
       "        vertical-align: middle;\n",
       "    }\n",
       "\n",
       "    .dataframe tbody tr th {\n",
       "        vertical-align: top;\n",
       "    }\n",
       "\n",
       "    .dataframe thead th {\n",
       "        text-align: right;\n",
       "    }\n",
       "</style>\n",
       "<table border=\"1\" class=\"dataframe\">\n",
       "  <thead>\n",
       "    <tr style=\"text-align: right;\">\n",
       "      <th></th>\n",
       "      <th>2019_Penalties Scored</th>\n",
       "      <th>2019_Penalties Taken</th>\n",
       "      <th>2020_Penalties Scored</th>\n",
       "      <th>2020_Penalties Taken</th>\n",
       "      <th>Total_taken</th>\n",
       "      <th>2019_%_Scored</th>\n",
       "      <th>2020_%_Scored</th>\n",
       "      <th>Total_%_scored</th>\n",
       "    </tr>\n",
       "    <tr>\n",
       "      <th>Team</th>\n",
       "      <th></th>\n",
       "      <th></th>\n",
       "      <th></th>\n",
       "      <th></th>\n",
       "      <th></th>\n",
       "      <th></th>\n",
       "      <th></th>\n",
       "      <th></th>\n",
       "    </tr>\n",
       "  </thead>\n",
       "  <tbody>\n",
       "    <tr>\n",
       "      <th>Man Utd</th>\n",
       "      <td>12.0</td>\n",
       "      <td>48.0</td>\n",
       "      <td>183.0</td>\n",
       "      <td>582.0</td>\n",
       "      <td>630.0</td>\n",
       "      <td>25.000000</td>\n",
       "      <td>31.443299</td>\n",
       "      <td>30.952381</td>\n",
       "    </tr>\n",
       "    <tr>\n",
       "      <th>Barcelona</th>\n",
       "      <td>104.0</td>\n",
       "      <td>411.0</td>\n",
       "      <td>45.0</td>\n",
       "      <td>140.0</td>\n",
       "      <td>551.0</td>\n",
       "      <td>25.304136</td>\n",
       "      <td>32.142857</td>\n",
       "      <td>27.041742</td>\n",
       "    </tr>\n",
       "    <tr>\n",
       "      <th>Juventus</th>\n",
       "      <td>51.0</td>\n",
       "      <td>203.0</td>\n",
       "      <td>103.0</td>\n",
       "      <td>325.0</td>\n",
       "      <td>528.0</td>\n",
       "      <td>25.123153</td>\n",
       "      <td>31.692308</td>\n",
       "      <td>29.166667</td>\n",
       "    </tr>\n",
       "    <tr>\n",
       "      <th>Shamrock Rovers</th>\n",
       "      <td>26.0</td>\n",
       "      <td>100.0</td>\n",
       "      <td>6.0</td>\n",
       "      <td>9.0</td>\n",
       "      <td>109.0</td>\n",
       "      <td>26.000000</td>\n",
       "      <td>66.666667</td>\n",
       "      <td>29.357798</td>\n",
       "    </tr>\n",
       "    <tr>\n",
       "      <th>Total</th>\n",
       "      <td>193.0</td>\n",
       "      <td>762.0</td>\n",
       "      <td>337.0</td>\n",
       "      <td>1056.0</td>\n",
       "      <td>1818.0</td>\n",
       "      <td>25.328084</td>\n",
       "      <td>31.912879</td>\n",
       "      <td>29.152915</td>\n",
       "    </tr>\n",
       "  </tbody>\n",
       "</table>\n",
       "</div>"
      ],
      "text/plain": [
       "                 2019_Penalties Scored  2019_Penalties Taken  \\\n",
       "Team                                                           \n",
       "Man Utd                           12.0                  48.0   \n",
       "Barcelona                        104.0                 411.0   \n",
       "Juventus                          51.0                 203.0   \n",
       "Shamrock Rovers                   26.0                 100.0   \n",
       "Total                            193.0                 762.0   \n",
       "\n",
       "                 2020_Penalties Scored  2020_Penalties Taken  Total_taken  \\\n",
       "Team                                                                        \n",
       "Man Utd                          183.0                 582.0        630.0   \n",
       "Barcelona                         45.0                 140.0        551.0   \n",
       "Juventus                         103.0                 325.0        528.0   \n",
       "Shamrock Rovers                    6.0                   9.0        109.0   \n",
       "Total                            337.0                1056.0       1818.0   \n",
       "\n",
       "                 2019_%_Scored  2020_%_Scored  Total_%_scored  \n",
       "Team                                                           \n",
       "Man Utd              25.000000      31.443299       30.952381  \n",
       "Barcelona            25.304136      32.142857       27.041742  \n",
       "Juventus             25.123153      31.692308       29.166667  \n",
       "Shamrock Rovers      26.000000      66.666667       29.357798  \n",
       "Total                25.328084      31.912879       29.152915  "
      ]
     },
     "execution_count": 22,
     "metadata": {},
     "output_type": "execute_result"
    }
   ],
   "source": [
    "df.loc['Total', :5] = list(df.iloc[:, :5].sum())\n",
    "\n",
    "df.loc['Total', '2019_%_Scored'] = df.loc['Total', '2019_Penalties Scored'] / df.loc['Total', '2019_Penalties Taken'] * 100\n",
    "df.loc['Total', '2020_%_Scored'] = df.loc['Total', '2020_Penalties Scored'] / df.loc['Total', '2020_Penalties Taken'] * 100\n",
    "df.loc['Total', 'Total_%_scored'] = (df.loc['Total', '2020_Penalties Scored'] + df.loc['Total', '2019_Penalties Scored']) / df.loc['Total', 'Total_taken'] * 100\n",
    "df"
   ]
  }
 ],
 "metadata": {
  "kernelspec": {
   "display_name": "Python 3",
   "language": "python",
   "name": "python3"
  },
  "language_info": {
   "codemirror_mode": {
    "name": "ipython",
    "version": 3
   },
   "file_extension": ".py",
   "mimetype": "text/x-python",
   "name": "python",
   "nbconvert_exporter": "python",
   "pygments_lexer": "ipython3",
   "version": "3.8.3"
  }
 },
 "nbformat": 4,
 "nbformat_minor": 4
}
