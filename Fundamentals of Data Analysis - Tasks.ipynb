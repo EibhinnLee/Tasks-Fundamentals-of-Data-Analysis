{
 "cells": [
  {
   "cell_type": "markdown",
   "metadata": {},
   "source": []
  },
  {
   "cell_type": "code",
   "execution_count": 1,
   "metadata": {},
   "outputs": [],
   "source": [
    "import numpy as np"
   ]
  },
  {
   "cell_type": "code",
   "execution_count": null,
   "metadata": {},
   "outputs": [],
   "source": []
  },
  {
   "cell_type": "markdown",
   "metadata": {},
   "source": [
    "#### Task 1"
   ]
  },
  {
   "cell_type": "markdown",
   "metadata": {},
   "source": [
    "### Counts\n",
    "\n",
    "count function\n",
    "\n",
    "October 5th, 2020: \n",
    "Write a Python function called counts that takes a list as input and returns a dictionary of unique items in the list as keys and the number of times each item appears as values.\n",
    "Example:\n",
    "So, the input ['A', 'A', 'B', 'C', 'A']\n",
    "should have output {'A': 3, 'B': 1, 'C': 1} . Your code should not depend\n",
    "on any module from the standard library1 or otherwise. \n",
    "\n",
    "You should research the task first and include a description with references of your algorithm in the\n",
    "notebook.\n"
   ]
  },
  {
   "cell_type": "code",
   "execution_count": 2,
   "metadata": {},
   "outputs": [
    {
     "name": "stdout",
     "output_type": "stream",
     "text": [
      "{'c': 2, 'b': 3, 'a': 10, 'dog': 1, '1': 1, 'one': 1}\n"
     ]
    }
   ],
   "source": [
    "from collections import Counter\n",
    "c1=Counter(['c','b','a','b','c','a','b','a','a','a','a','a','a','a','a', 'dog', '1', 'one'])\n",
    "print (dict(c1))"
   ]
  },
  {
   "cell_type": "code",
   "execution_count": null,
   "metadata": {},
   "outputs": [],
   "source": []
  },
  {
   "cell_type": "code",
   "execution_count": null,
   "metadata": {},
   "outputs": [],
   "source": []
  },
  {
   "cell_type": "code",
   "execution_count": 3,
   "metadata": {},
   "outputs": [],
   "source": [
    "from collections import Counter\n",
    "l =Counter(['1','1','1','1'])"
   ]
  },
  {
   "cell_type": "code",
   "execution_count": 4,
   "metadata": {},
   "outputs": [
    {
     "name": "stdout",
     "output_type": "stream",
     "text": [
      "Counter({'1': 4})\n",
      "{'1': 4}\n"
     ]
    }
   ],
   "source": [
    "print(l)\n",
    "print (dict(l))\n"
   ]
  },
  {
   "cell_type": "code",
   "execution_count": null,
   "metadata": {},
   "outputs": [],
   "source": []
  },
  {
   "cell_type": "code",
   "execution_count": null,
   "metadata": {},
   "outputs": [],
   "source": []
  },
  {
   "cell_type": "markdown",
   "metadata": {},
   "source": [
    "### Task 2 \n",
    "\n",
    "numpy & count function\n",
    "\n",
    "Rolling Dice\n",
    "***\n",
    "\n",
    "Function that simulates rolling dice\n",
    "\n",
    "2 Parameters\n",
    " k = number of dice\n",
    " r = number of times to roll the dice n\n",
    " \n",
    " module from standard python library \n",
    " \n",
    " random module\n",
    " \n",
    " maybe plot bar chart\n",
    " \n",
    " \n",
    " \n",
    " \n",
    "November 2nd, 2020: \n",
    "\n",
    "Write a Python function called dicerolls that simulates rolling dice. \n",
    "Your function should take two parameters: the number of dice k and the number of times to roll the dice n. \n",
    "The function should simulate randomly rolling k dice n times, keeping track of each total face value. \n",
    "It should then return a dictionary with the number of times each possible total face value occurred. \n",
    "So, calling the function as diceroll(k=2, n=1000) should return a dictionary like:\n",
    "{2:19,3:50,4:82,5:112,6:135,7:174,8:133,9:114,10:75,11:70,12:36}\n",
    "You can use any module from the Python standard library you wish and you should\n",
    "include a description with references of your algorithm in the notebook.\n"
   ]
  },
  {
   "cell_type": "code",
   "execution_count": 5,
   "metadata": {},
   "outputs": [],
   "source": [
    "# diceroll = (k=2, n=1000)"
   ]
  },
  {
   "cell_type": "code",
   "execution_count": null,
   "metadata": {},
   "outputs": [],
   "source": []
  },
  {
   "cell_type": "code",
   "execution_count": 6,
   "metadata": {},
   "outputs": [
    {
     "data": {
      "text/plain": [
       "Counter({1: 1, 2: 1, 3: 1, 4: 1, 5: 1, 6: 1})"
      ]
     },
     "execution_count": 6,
     "metadata": {},
     "output_type": "execute_result"
    }
   ],
   "source": [
    "# Fair roll of 1 dice evenly\n",
    "\n",
    "d = Counter(range(1,7))\n",
    "d"
   ]
  },
  {
   "cell_type": "code",
   "execution_count": 7,
   "metadata": {},
   "outputs": [
    {
     "data": {
      "text/plain": [
       "Counter({1: 1, 2: 1, 3: 1, 4: 1, 5: 1, 6: 1})"
      ]
     },
     "execution_count": 7,
     "metadata": {},
     "output_type": "execute_result"
    }
   ],
   "source": [
    "d2 = Counter(range(1,7))\n",
    "d2"
   ]
  },
  {
   "cell_type": "code",
   "execution_count": null,
   "metadata": {},
   "outputs": [],
   "source": []
  },
  {
   "cell_type": "code",
   "execution_count": null,
   "metadata": {},
   "outputs": [],
   "source": []
  },
  {
   "cell_type": "code",
   "execution_count": null,
   "metadata": {},
   "outputs": [],
   "source": []
  },
  {
   "cell_type": "code",
   "execution_count": null,
   "metadata": {},
   "outputs": [],
   "source": []
  },
  {
   "cell_type": "code",
   "execution_count": 8,
   "metadata": {},
   "outputs": [],
   "source": [
    "import numpy as np\n",
    "\n",
    "#def dicerolls(k):\n",
    "    #number = [1, 2, 3, 4, 5, 6]\n",
    "    #rng = np.random.default_rng()\n",
    "    #roll = rng.choice([1, 2, 3, 4 ,5, 6], k)\n",
    "    #quantity = []\n",
    "    #faceval = 0\n",
    "    #for i in range(0, k):\n",
    "        #faceval = faceval + roll[i]\n",
    "    #quantity.append()"
   ]
  },
  {
   "cell_type": "code",
   "execution_count": null,
   "metadata": {},
   "outputs": [],
   "source": []
  },
  {
   "cell_type": "code",
   "execution_count": 9,
   "metadata": {},
   "outputs": [],
   "source": [
    "def counts(inputList, caseSensitivity=True):\n",
    "    \n",
    "    if caseSensitivity==False:\n",
    "        for i in range(0, len(inputList)):\n",
    "            if isinstance(inputList[i], str):\n",
    "                inputList[i] = inputList[i].lower()    \n",
    "    \n",
    "    return dict((element, inputList.count(element)) for element in set(inputList))"
   ]
  },
  {
   "cell_type": "code",
   "execution_count": 10,
   "metadata": {},
   "outputs": [],
   "source": [
    "def dicerolls(k, n):\n",
    "    number = [1, 2, 3, 4, 5, 6]\n",
    "    rng = np.random.default_rng()\n",
    "    rolls = []\n",
    "    for i in range(n):\n",
    "        roll = sum(rng.choice(number, k))\n",
    "        rolls.append(roll)    \n",
    "    outcome = counts(rolls)\n",
    "    print(outcome)"
   ]
  },
  {
   "cell_type": "code",
   "execution_count": 11,
   "metadata": {},
   "outputs": [
    {
     "name": "stdout",
     "output_type": "stream",
     "text": [
      "{2: 2839, 3: 5478, 4: 8182, 5: 11346, 6: 13810, 7: 16578, 8: 14057, 9: 11161, 10: 8068, 11: 5683, 12: 2798}\n"
     ]
    }
   ],
   "source": [
    "dicerolls(2, 100000)"
   ]
  },
  {
   "cell_type": "code",
   "execution_count": null,
   "metadata": {},
   "outputs": [],
   "source": []
  },
  {
   "cell_type": "code",
   "execution_count": null,
   "metadata": {},
   "outputs": [],
   "source": []
  },
  {
   "cell_type": "markdown",
   "metadata": {},
   "source": [
    "### Task 3\n",
    "November 16th, 2020: \n",
    "The numpy.random.binomial function can be used to simulate flipping a coin with a 50/50 chance of heads or tails. \n",
    "Interestingly, if a coin is flipped many times then the number of heads is well approximated by a\n",
    "bell-shaped curve. For instance, if we flip a coin 100 times in a row the chance of\n",
    "getting 50 heads is relatively high, the chances of getting 0 or 100 heads is relatively\n",
    "low, and the chances of getting any other number of heads decreases as you move\n",
    "away from 50 in either direction towards 0 or 100. \n",
    "\n",
    "Write some python code that\n",
    "    -simulates flipping a coin 100 times. \n",
    "    -Then run this code 1,000 times, keeping track\n",
    "of the number of heads in each of the 1,000 simulations. \n",
    "\n",
    "Select an appropriate plot to depict the resulting list of 1,000 numbers, showing that it roughly follows\n",
    "a bell-shaped curve. You should explain your work in a Markdown cell above the code."
   ]
  },
  {
   "cell_type": "code",
   "execution_count": 12,
   "metadata": {},
   "outputs": [
    {
     "data": {
      "text/plain": [
       "array([43, 41, 52, 53, 52, 51, 55, 62, 54, 53, 49, 53, 61, 51, 50, 48, 50,\n",
       "       48, 50, 51, 44, 58, 51, 48, 45, 49, 56, 50, 53, 42, 49, 63, 46, 54,\n",
       "       60, 51, 44, 46, 57, 49, 48, 49, 40, 49, 53, 44, 40, 52, 59, 47, 41,\n",
       "       51, 62, 47, 54, 53, 41, 50, 49, 40, 62, 50, 49, 53, 55, 50, 41, 54,\n",
       "       56, 54, 52, 50, 54, 46, 46, 50, 56, 58, 56, 60, 44, 47, 56, 48, 58,\n",
       "       54, 42, 55, 50, 54, 40, 47, 55, 49, 49, 56, 48, 46, 45, 46, 46, 48,\n",
       "       60, 42, 48, 54, 52, 51, 50, 46, 56, 54, 54, 55, 55, 46, 47, 55, 44,\n",
       "       50, 54, 49, 55, 45, 47, 47, 46, 45, 53, 57, 56, 53, 53, 46, 49, 52,\n",
       "       48, 61, 52, 41, 59, 48, 53, 49, 48, 48, 36, 44, 53, 53, 47, 51, 43,\n",
       "       48, 54, 40, 48, 50, 55, 55, 49, 47, 50, 50, 51, 54, 49, 51, 43, 54,\n",
       "       48, 54, 50, 51, 56, 54, 50, 55, 39, 51, 48, 55, 57, 46, 54, 48, 49,\n",
       "       37, 53, 54, 48, 53, 46, 49, 40, 51, 55, 52, 57, 50, 49, 41, 48, 52,\n",
       "       44, 59, 47, 54, 50, 44, 49, 46, 51, 46, 45, 56, 54, 49, 45, 50, 45,\n",
       "       51, 45, 55, 49, 43, 49, 47, 57, 48, 43, 53, 58, 51, 49, 57, 38, 53,\n",
       "       51, 53, 44, 47, 49, 45, 55, 53, 51, 51, 52, 54, 49, 48, 49, 43, 44,\n",
       "       50, 46, 54, 48, 48, 52, 53, 48, 62, 48, 52, 50, 51, 51, 51, 52, 49,\n",
       "       51, 56, 47, 51, 46, 45, 45, 51, 44, 53, 51, 56, 52, 56, 47, 51, 47,\n",
       "       54, 48, 47, 50, 47, 46, 48, 57, 51, 46, 43, 54, 60, 46, 45, 49, 55,\n",
       "       49, 44, 42, 58, 47, 46, 45, 51, 48, 43, 52, 50, 53, 44, 57, 41, 45,\n",
       "       49, 60, 48, 53, 52, 51, 53, 52, 52, 41, 51, 49, 59, 55, 48, 48, 53,\n",
       "       47, 51, 54, 48, 61, 59, 46, 50, 42, 46, 51, 52, 51, 43, 41, 41, 43,\n",
       "       48, 59, 50, 44, 38, 49, 56, 44, 49, 48, 41, 40, 51, 56, 42, 51, 39,\n",
       "       52, 46, 58, 47, 49, 53, 50, 50, 44, 53, 49, 52, 53, 52, 43, 62, 39,\n",
       "       47, 41, 53, 48, 53, 61, 53, 51, 48, 55, 52, 47, 49, 58, 44, 53, 53,\n",
       "       43, 52, 59, 45, 48, 50, 50, 48, 55, 41, 53, 54, 50, 53, 51, 47, 46,\n",
       "       52, 52, 43, 45, 51, 55, 43, 59, 48, 47, 51, 46, 58, 60, 41, 54, 52,\n",
       "       49, 53, 43, 51, 47, 44, 49, 61, 48, 53, 43, 43, 43, 49, 58, 51, 52,\n",
       "       58, 54, 52, 48, 50, 56, 52, 50, 43, 54, 43, 45, 51, 56, 59, 44, 46,\n",
       "       45, 41, 61, 53, 50, 37, 49, 59, 47, 50, 48, 50, 53, 49, 49, 52, 55,\n",
       "       52, 50, 48, 50, 55, 55, 48, 55, 54, 60, 52, 57, 60, 37, 46, 55, 46,\n",
       "       47, 54, 49, 43, 62, 54, 52, 54, 40, 53, 47, 50, 56, 50, 50, 47, 59,\n",
       "       49, 52, 44, 48, 46, 57, 50, 54, 45, 45, 49, 49, 58, 51, 49, 50, 53,\n",
       "       55, 54, 56, 44, 47, 55, 53, 59, 56, 41, 48, 56, 50, 53, 37, 50, 51,\n",
       "       50, 47, 46, 48, 46, 46, 51, 56, 51, 43, 47, 51, 54, 52, 59, 52, 49,\n",
       "       60, 54, 52, 52, 58, 43, 52, 49, 61, 47, 41, 53, 54, 54, 49, 48, 48,\n",
       "       44, 50, 54, 52, 48, 48, 45, 53, 45, 44, 46, 57, 43, 61, 51, 51, 52,\n",
       "       47, 51, 55, 49, 47, 46, 51, 46, 52, 45, 52, 58, 49, 44, 55, 51, 64,\n",
       "       59, 55, 44, 51, 43, 45, 45, 47, 46, 47, 47, 51, 48, 54, 56, 50, 62,\n",
       "       53, 55, 54, 51, 46, 43, 50, 50, 57, 54, 54, 47, 52, 45, 48, 58, 48,\n",
       "       49, 51, 57, 56, 48, 45, 54, 52, 59, 44, 61, 48, 46, 54, 51, 46, 59,\n",
       "       60, 48, 56, 53, 54, 47, 55, 42, 52, 55, 47, 59, 53, 41, 60, 54, 48,\n",
       "       48, 55, 60, 48, 50, 43, 48, 51, 60, 58, 46, 53, 40, 52, 51, 46, 56,\n",
       "       58, 51, 59, 50, 50, 40, 46, 49, 66, 42, 65, 54, 48, 54, 47, 55, 46,\n",
       "       46, 46, 54, 53, 46, 46, 51, 36, 48, 45, 46, 41, 50, 44, 54, 50, 45,\n",
       "       51, 47, 56, 48, 50, 47, 47, 42, 48, 49, 43, 49, 53, 56, 58, 56, 48,\n",
       "       52, 48, 55, 53, 46, 57, 44, 49, 57, 53, 55, 49, 44, 51, 53, 50, 50,\n",
       "       56, 48, 47, 51, 45, 49, 49, 52, 50, 48, 48, 49, 50, 42, 40, 38, 52,\n",
       "       44, 56, 47, 50, 47, 45, 41, 53, 51, 48, 53, 53, 44, 50, 53, 50, 53,\n",
       "       48, 54, 41, 51, 44, 44, 51, 52, 49, 53, 55, 45, 43, 53, 52, 43, 59,\n",
       "       62, 53, 49, 55, 47, 45, 53, 49, 53, 47, 56, 53, 53, 54, 54, 54, 51,\n",
       "       48, 48, 47, 49, 40, 49, 60, 46, 51, 53, 59, 50, 50, 43, 52, 50, 45,\n",
       "       50, 53, 50, 46, 48, 47, 52, 47, 56, 53, 47, 44, 53, 50, 49, 45, 49,\n",
       "       46, 50, 42, 50, 55, 51, 50, 44, 47, 51, 48, 58, 49, 57, 49, 48, 54,\n",
       "       46, 59, 42, 43, 59, 49, 53, 58, 59, 51, 51, 53, 52, 44, 54, 55, 46,\n",
       "       59, 47, 51, 52, 51, 53, 40, 46, 46, 48, 46, 40, 53, 45, 44, 55, 54,\n",
       "       50, 54, 57, 51, 51, 52, 42, 58, 47, 51, 43, 52, 48, 46, 51, 44, 54,\n",
       "       57, 46, 48, 51, 49, 58, 46, 53, 50, 57, 40, 47, 54, 65, 40, 52, 41,\n",
       "       39, 60, 47, 40, 57, 49, 48, 58, 49, 49, 47, 49, 44, 54, 48, 42, 46,\n",
       "       63, 50, 56, 49, 46, 50, 50, 49, 56, 48, 61, 60, 51, 51],\n",
       "      dtype=int64)"
      ]
     },
     "execution_count": 12,
     "metadata": {},
     "output_type": "execute_result"
    }
   ],
   "source": [
    "rng = np.random.default_rng()\n",
    "n, p = 100, .5\n",
    "s = rng.binomial(n,p, 1000)\n",
    "s"
   ]
  },
  {
   "cell_type": "code",
   "execution_count": 13,
   "metadata": {},
   "outputs": [],
   "source": [
    "import pandas as pd"
   ]
  },
  {
   "cell_type": "markdown",
   "metadata": {},
   "source": [
    "### Task 4  - Simpson's Paradox\n",
    "Task - November 30th, 2020: \n",
    "\n",
    "Simpson’s paradox is a well-known statistical paradox where a trend evident in a number of groups reverses when the groups are combined into one big data set. \n",
    "Use numpy to create four data sets, each with an x array and a corresponding y array, to demonstrate Simpson’s paradox. \n",
    "You might create your x arrays using numpy.linspace and create the y array for each x using notation like y = a * x + b where you choose the a and b for each x , y pair to demonstrate the paradox. \n",
    "You might see the Wikipedia page for Simpson’s paradox for inspiration.\n",
    "\n",
    "Simpsons Paradox Wikipedia page.\n",
    "https://en.wikipedia.org/wiki/Simpson%27s_paradox#:~:text=Simpson's%20paradox%2C%20which%20also%20goes,when%20these%20groups%20are%20combined.\n",
    "\n",
    "Simpson's Paradox\n",
    "***\n",
    "Brilliant.org describe Simpson's Paradox simply as\n",
    "\n",
    "\"Simpson's paradox occurs when groups of data show one particular trend, but this trend is reversed when the groups are combined together. \" https://brilliant.org/wiki/simpsons-paradox/\n",
    "\n",
    "\n",
    "The dataset to describe the paradox is made up data showing four football teams and the conversion rate of penalties from 2019 & 2020.\n",
    "\n",
    "Example below is a dataset set manually created with assistance from various examples such as:\n",
    "https://brilliant.org/wiki/simpsons-paradox/\n",
    "https://en.wikipedia.org/wiki/Simpson%27s_paradox#\n",
    "https://github.com/WillKoehrsen/Data-Analysis/blob/master/statistics/Simpson's%20Paradox.ipynb"
   ]
  },
  {
   "cell_type": "markdown",
   "metadata": {},
   "source": []
  },
  {
   "cell_type": "code",
   "execution_count": 97,
   "metadata": {},
   "outputs": [
    {
     "data": {
      "text/html": [
       "<div>\n",
       "<style scoped>\n",
       "    .dataframe tbody tr th:only-of-type {\n",
       "        vertical-align: middle;\n",
       "    }\n",
       "\n",
       "    .dataframe tbody tr th {\n",
       "        vertical-align: top;\n",
       "    }\n",
       "\n",
       "    .dataframe thead th {\n",
       "        text-align: right;\n",
       "    }\n",
       "</style>\n",
       "<table border=\"1\" class=\"dataframe\">\n",
       "  <thead>\n",
       "    <tr style=\"text-align: right;\">\n",
       "      <th></th>\n",
       "      <th>2019_Penalties Scored</th>\n",
       "      <th>2019_Penalties Taken</th>\n",
       "      <th>2020_Penalties Scored</th>\n",
       "      <th>2020_Penalties Taken</th>\n",
       "      <th>Total_taken</th>\n",
       "      <th>2019_%_Scored</th>\n",
       "      <th>2020_%_Scored</th>\n",
       "      <th>Total_%_scored</th>\n",
       "    </tr>\n",
       "    <tr>\n",
       "      <th>Team</th>\n",
       "      <th></th>\n",
       "      <th></th>\n",
       "      <th></th>\n",
       "      <th></th>\n",
       "      <th></th>\n",
       "      <th></th>\n",
       "      <th></th>\n",
       "      <th></th>\n",
       "    </tr>\n",
       "  </thead>\n",
       "  <tbody>\n",
       "    <tr>\n",
       "      <th>Man Utd</th>\n",
       "      <td>12</td>\n",
       "      <td>48</td>\n",
       "      <td>183</td>\n",
       "      <td>582</td>\n",
       "      <td>630</td>\n",
       "      <td>25.000000</td>\n",
       "      <td>31.443299</td>\n",
       "      <td>30.952381</td>\n",
       "    </tr>\n",
       "    <tr>\n",
       "      <th>Barcelona</th>\n",
       "      <td>104</td>\n",
       "      <td>411</td>\n",
       "      <td>45</td>\n",
       "      <td>140</td>\n",
       "      <td>551</td>\n",
       "      <td>25.304136</td>\n",
       "      <td>32.142857</td>\n",
       "      <td>27.041742</td>\n",
       "    </tr>\n",
       "    <tr>\n",
       "      <th>Juventus</th>\n",
       "      <td>51</td>\n",
       "      <td>203</td>\n",
       "      <td>102</td>\n",
       "      <td>325</td>\n",
       "      <td>528</td>\n",
       "      <td>25.123153</td>\n",
       "      <td>31.384615</td>\n",
       "      <td>28.977273</td>\n",
       "    </tr>\n",
       "    <tr>\n",
       "      <th>Shamrock Rovers</th>\n",
       "      <td>26</td>\n",
       "      <td>100</td>\n",
       "      <td>6</td>\n",
       "      <td>9</td>\n",
       "      <td>109</td>\n",
       "      <td>26.000000</td>\n",
       "      <td>66.666667</td>\n",
       "      <td>29.357798</td>\n",
       "    </tr>\n",
       "  </tbody>\n",
       "</table>\n",
       "</div>"
      ],
      "text/plain": [
       "                 2019_Penalties Scored  2019_Penalties Taken  \\\n",
       "Team                                                           \n",
       "Man Utd                             12                    48   \n",
       "Barcelona                          104                   411   \n",
       "Juventus                            51                   203   \n",
       "Shamrock Rovers                     26                   100   \n",
       "\n",
       "                 2020_Penalties Scored  2020_Penalties Taken  Total_taken  \\\n",
       "Team                                                                        \n",
       "Man Utd                            183                   582          630   \n",
       "Barcelona                           45                   140          551   \n",
       "Juventus                           102                   325          528   \n",
       "Shamrock Rovers                      6                     9          109   \n",
       "\n",
       "                 2019_%_Scored  2020_%_Scored  Total_%_scored  \n",
       "Team                                                           \n",
       "Man Utd              25.000000      31.443299       30.952381  \n",
       "Barcelona            25.304136      32.142857       27.041742  \n",
       "Juventus             25.123153      31.384615       28.977273  \n",
       "Shamrock Rovers      26.000000      66.666667       29.357798  "
      ]
     },
     "execution_count": 97,
     "metadata": {},
     "output_type": "execute_result"
    }
   ],
   "source": [
    "# Creating Dataframe\n",
    "# Adding each team and setting the index as Team and the clubs as rows \n",
    "data = [['Man Utd'], ['Barcelona'], ['Juventus'] ,['Shamrock Rovers']]\n",
    "df = pd.DataFrame(data, columns = ['Team']) \n",
    "df.set_index('Team',inplace=True)\n",
    "\n",
    "# Adding new columns with data for each team\n",
    "# Dataset looks at the conversion rate of penalties so 'scored' and 'taken' columns added for each year\n",
    "# Please note values are selected at random in order to show a true refelction of paradox\n",
    "\n",
    "df['2019_Penalties Scored'] = ([12,104,51,26])\n",
    "df['2019_Penalties Taken'] = ([48,411,203,100])\n",
    "df['2020_Penalties Scored'] = ([183,45,102,6])\n",
    "df['2020_Penalties Taken'] = ([582,140,325,9])\n",
    "\n",
    "# Adding further column to add the total penalties taken by each each club\n",
    "df['Total_taken'] = df['2019_Penalties Taken'] + df['2020_Penalties Taken']\n",
    "\n",
    "# Adding three % columns in order to show the scoring rate by each club for each year and combined.\n",
    "df['2019_%_Scored'] = (df['2019_Penalties Scored'] / df['2019_Penalties Taken']) * 100\n",
    "df['2020_%_Scored'] = (df['2020_Penalties Scored'] / df['2020_Penalties Taken']) * 100\n",
    "df['Total_%_scored'] = (df['2020_Penalties Scored'] + df['2019_Penalties Scored']) / df['Total_taken'] * 100\n",
    "# Run the dataset\n",
    "df"
   ]
  },
  {
   "cell_type": "markdown",
   "metadata": {},
   "source": [
    "Analysis of the dataset\n",
    "***\n",
    "As stated above, Simpson's Paradox occurs when groups of data show one particular trend, but this trend is reversed when the groups are combined together. \"\n",
    "\n",
    "In the dataset above, you can see the values of each club for scored penalties and total panalties taken. \n",
    "\n",
    "                    Year   %\n",
    "- Man Utd:          2019   25%\n",
    "                    2020   31.4%\n",
    "- Barcelona:        2019   25.3%\n",
    "                    2020   32%\n",
    "- Juventus:         2019   25.1%\n",
    "                    2020   31.48%\n",
    "- Shamrock Rovers:  2019   26%\n",
    "                    2020   66%"
   ]
  },
  {
   "cell_type": "code",
   "execution_count": 101,
   "metadata": {},
   "outputs": [
    {
     "data": {
      "text/html": [
       "<div>\n",
       "<style scoped>\n",
       "    .dataframe tbody tr th:only-of-type {\n",
       "        vertical-align: middle;\n",
       "    }\n",
       "\n",
       "    .dataframe tbody tr th {\n",
       "        vertical-align: top;\n",
       "    }\n",
       "\n",
       "    .dataframe thead th {\n",
       "        text-align: right;\n",
       "    }\n",
       "</style>\n",
       "<table border=\"1\" class=\"dataframe\">\n",
       "  <thead>\n",
       "    <tr style=\"text-align: right;\">\n",
       "      <th></th>\n",
       "      <th>2019_Penalties Scored</th>\n",
       "      <th>2019_Penalties Taken</th>\n",
       "      <th>2020_Penalties Scored</th>\n",
       "      <th>2020_Penalties Taken</th>\n",
       "      <th>Total_taken</th>\n",
       "      <th>2019_%_Scored</th>\n",
       "      <th>2020_%_Scored</th>\n",
       "      <th>Total_%_scored</th>\n",
       "    </tr>\n",
       "    <tr>\n",
       "      <th>Team</th>\n",
       "      <th></th>\n",
       "      <th></th>\n",
       "      <th></th>\n",
       "      <th></th>\n",
       "      <th></th>\n",
       "      <th></th>\n",
       "      <th></th>\n",
       "      <th></th>\n",
       "    </tr>\n",
       "  </thead>\n",
       "  <tbody>\n",
       "    <tr>\n",
       "      <th>Man Utd</th>\n",
       "      <td>12.0</td>\n",
       "      <td>48.0</td>\n",
       "      <td>183.0</td>\n",
       "      <td>582.0</td>\n",
       "      <td>630.0</td>\n",
       "      <td>25.000000</td>\n",
       "      <td>31.443299</td>\n",
       "      <td>30.952381</td>\n",
       "    </tr>\n",
       "    <tr>\n",
       "      <th>Barcelona</th>\n",
       "      <td>104.0</td>\n",
       "      <td>411.0</td>\n",
       "      <td>45.0</td>\n",
       "      <td>140.0</td>\n",
       "      <td>551.0</td>\n",
       "      <td>25.304136</td>\n",
       "      <td>32.142857</td>\n",
       "      <td>27.041742</td>\n",
       "    </tr>\n",
       "    <tr>\n",
       "      <th>Juventus</th>\n",
       "      <td>51.0</td>\n",
       "      <td>203.0</td>\n",
       "      <td>102.0</td>\n",
       "      <td>325.0</td>\n",
       "      <td>528.0</td>\n",
       "      <td>25.123153</td>\n",
       "      <td>31.384615</td>\n",
       "      <td>28.977273</td>\n",
       "    </tr>\n",
       "    <tr>\n",
       "      <th>Shamrock Rovers</th>\n",
       "      <td>26.0</td>\n",
       "      <td>100.0</td>\n",
       "      <td>6.0</td>\n",
       "      <td>9.0</td>\n",
       "      <td>109.0</td>\n",
       "      <td>26.000000</td>\n",
       "      <td>66.666667</td>\n",
       "      <td>29.357798</td>\n",
       "    </tr>\n",
       "    <tr>\n",
       "      <th>Total</th>\n",
       "      <td>193.0</td>\n",
       "      <td>762.0</td>\n",
       "      <td>336.0</td>\n",
       "      <td>1056.0</td>\n",
       "      <td>1818.0</td>\n",
       "      <td>25.328084</td>\n",
       "      <td>31.818182</td>\n",
       "      <td>29.097910</td>\n",
       "    </tr>\n",
       "  </tbody>\n",
       "</table>\n",
       "</div>"
      ],
      "text/plain": [
       "                 2019_Penalties Scored  2019_Penalties Taken  \\\n",
       "Team                                                           \n",
       "Man Utd                           12.0                  48.0   \n",
       "Barcelona                        104.0                 411.0   \n",
       "Juventus                          51.0                 203.0   \n",
       "Shamrock Rovers                   26.0                 100.0   \n",
       "Total                            193.0                 762.0   \n",
       "\n",
       "                 2020_Penalties Scored  2020_Penalties Taken  Total_taken  \\\n",
       "Team                                                                        \n",
       "Man Utd                          183.0                 582.0        630.0   \n",
       "Barcelona                         45.0                 140.0        551.0   \n",
       "Juventus                         102.0                 325.0        528.0   \n",
       "Shamrock Rovers                    6.0                   9.0        109.0   \n",
       "Total                            336.0                1056.0       1818.0   \n",
       "\n",
       "                 2019_%_Scored  2020_%_Scored  Total_%_scored  \n",
       "Team                                                           \n",
       "Man Utd              25.000000      31.443299       30.952381  \n",
       "Barcelona            25.304136      32.142857       27.041742  \n",
       "Juventus             25.123153      31.384615       28.977273  \n",
       "Shamrock Rovers      26.000000      66.666667       29.357798  \n",
       "Total                25.328084      31.818182       29.097910  "
      ]
     },
     "execution_count": 101,
     "metadata": {},
     "output_type": "execute_result"
    }
   ],
   "source": [
    "df.loc['Total', :5] = list(df.iloc[:, :5].sum())\n",
    "\n",
    "df.loc['Total', '2019_%_Scored'] = df.loc['Total', '2019_Penalties Scored'] / df.loc['Total', '2019_Penalties Taken'] * 100\n",
    "df.loc['Total', '2020_%_Scored'] = df.loc['Total', '2020_Penalties Scored'] / df.loc['Total', '2020_Penalties Taken'] * 100\n",
    "df.loc['Total', 'Total_%_scored'] = (df.loc['Total', '2020_Penalties Scored'] + df.loc['Total', '2019_Penalties Scored']) / df.loc['Total', 'Total_taken'] * 100\n",
    "df"
   ]
  },
  {
   "cell_type": "code",
   "execution_count": 14,
   "metadata": {},
   "outputs": [
    {
     "name": "stdout",
     "output_type": "stream",
     "text": [
      "[10. 13. 16. 19.]\n",
      "[22. 28. 34. 40.]\n",
      "[ 7. 10. 13. 16.]\n",
      "[46. 58. 70. 82.]\n"
     ]
    }
   ],
   "source": [
    " # Number of penalties scored\n",
    "a = 2\n",
    "b = 2\n",
    "\n",
    "x = np.linspace(10.0, 19.0, num=4)\n",
    "\n",
    "y =  np.linspace(7.0, 16.0, num=4)\n",
    "\n",
    "#a1 = 3\n",
    "#b1 = 3\n",
    "\n",
    "x1 = (a * x + b)\n",
    "y1 = (a * x1 + b)\n",
    "\n",
    "# Arg total\n",
    "print(x)\n",
    "\n",
    "#arg rotten\n",
    "print(x1)\n",
    "\n",
    "# Aus total rec\n",
    "print(y)\n",
    "\n",
    "#Aus rotten\n",
    "print(y1)"
   ]
  },
  {
   "cell_type": "code",
   "execution_count": 15,
   "metadata": {},
   "outputs": [],
   "source": [
    "#a = 2\n",
    "#b = 15\n",
    "#y = (a * x + b)\n",
    "#y"
   ]
  },
  {
   "cell_type": "code",
   "execution_count": null,
   "metadata": {},
   "outputs": [],
   "source": []
  },
  {
   "cell_type": "code",
   "execution_count": null,
   "metadata": {},
   "outputs": [],
   "source": []
  },
  {
   "cell_type": "code",
   "execution_count": null,
   "metadata": {},
   "outputs": [],
   "source": []
  },
  {
   "cell_type": "code",
   "execution_count": 63,
   "metadata": {},
   "outputs": [
    {
     "data": {
      "text/html": [
       "<div>\n",
       "<style scoped>\n",
       "    .dataframe tbody tr th:only-of-type {\n",
       "        vertical-align: middle;\n",
       "    }\n",
       "\n",
       "    .dataframe tbody tr th {\n",
       "        vertical-align: top;\n",
       "    }\n",
       "\n",
       "    .dataframe thead th {\n",
       "        text-align: right;\n",
       "    }\n",
       "</style>\n",
       "<table border=\"1\" class=\"dataframe\">\n",
       "  <thead>\n",
       "    <tr style=\"text-align: right;\">\n",
       "      <th></th>\n",
       "      <th>2019_Penalties Scored</th>\n",
       "      <th>2019_Penalties Taken</th>\n",
       "      <th>2020_Penalties Scored</th>\n",
       "      <th>2020_Penalties Taken</th>\n",
       "      <th>Total_taken</th>\n",
       "      <th>2019_%_Scored</th>\n",
       "      <th>2020_%_Scored</th>\n",
       "      <th>Total_%_scored</th>\n",
       "    </tr>\n",
       "    <tr>\n",
       "      <th>Team</th>\n",
       "      <th></th>\n",
       "      <th></th>\n",
       "      <th></th>\n",
       "      <th></th>\n",
       "      <th></th>\n",
       "      <th></th>\n",
       "      <th></th>\n",
       "      <th></th>\n",
       "    </tr>\n",
       "  </thead>\n",
       "  <tbody>\n",
       "    <tr>\n",
       "      <th>Man Utd</th>\n",
       "      <td>12.0</td>\n",
       "      <td>48.0</td>\n",
       "      <td>183.0</td>\n",
       "      <td>582.0</td>\n",
       "      <td>630.0</td>\n",
       "      <td>25.000000</td>\n",
       "      <td>31.443299</td>\n",
       "      <td>30.952381</td>\n",
       "    </tr>\n",
       "    <tr>\n",
       "      <th>Barcelona</th>\n",
       "      <td>104.0</td>\n",
       "      <td>411.0</td>\n",
       "      <td>45.0</td>\n",
       "      <td>140.0</td>\n",
       "      <td>551.0</td>\n",
       "      <td>25.304136</td>\n",
       "      <td>32.142857</td>\n",
       "      <td>27.041742</td>\n",
       "    </tr>\n",
       "    <tr>\n",
       "      <th>Juventus</th>\n",
       "      <td>51.0</td>\n",
       "      <td>203.0</td>\n",
       "      <td>102.0</td>\n",
       "      <td>325.0</td>\n",
       "      <td>528.0</td>\n",
       "      <td>25.123153</td>\n",
       "      <td>31.384615</td>\n",
       "      <td>28.977273</td>\n",
       "    </tr>\n",
       "    <tr>\n",
       "      <th>Shamrock Rovers</th>\n",
       "      <td>26.0</td>\n",
       "      <td>100.0</td>\n",
       "      <td>6.0</td>\n",
       "      <td>9.0</td>\n",
       "      <td>109.0</td>\n",
       "      <td>26.000000</td>\n",
       "      <td>66.666667</td>\n",
       "      <td>29.357798</td>\n",
       "    </tr>\n",
       "    <tr>\n",
       "      <th>Total</th>\n",
       "      <td>2123.0</td>\n",
       "      <td>8382.0</td>\n",
       "      <td>3696.0</td>\n",
       "      <td>11616.0</td>\n",
       "      <td>19998.0</td>\n",
       "      <td>25.328084</td>\n",
       "      <td>31.818182</td>\n",
       "      <td>29.097910</td>\n",
       "    </tr>\n",
       "  </tbody>\n",
       "</table>\n",
       "</div>"
      ],
      "text/plain": [
       "                 2019_Penalties Scored  2019_Penalties Taken  \\\n",
       "Team                                                           \n",
       "Man Utd                           12.0                  48.0   \n",
       "Barcelona                        104.0                 411.0   \n",
       "Juventus                          51.0                 203.0   \n",
       "Shamrock Rovers                   26.0                 100.0   \n",
       "Total                           2123.0                8382.0   \n",
       "\n",
       "                 2020_Penalties Scored  2020_Penalties Taken  Total_taken  \\\n",
       "Team                                                                        \n",
       "Man Utd                          183.0                 582.0        630.0   \n",
       "Barcelona                         45.0                 140.0        551.0   \n",
       "Juventus                         102.0                 325.0        528.0   \n",
       "Shamrock Rovers                    6.0                   9.0        109.0   \n",
       "Total                           3696.0               11616.0      19998.0   \n",
       "\n",
       "                 2019_%_Scored  2020_%_Scored  Total_%_scored  \n",
       "Team                                                           \n",
       "Man Utd              25.000000      31.443299       30.952381  \n",
       "Barcelona            25.304136      32.142857       27.041742  \n",
       "Juventus             25.123153      31.384615       28.977273  \n",
       "Shamrock Rovers      26.000000      66.666667       29.357798  \n",
       "Total                25.328084      31.818182       29.097910  "
      ]
     },
     "execution_count": 63,
     "metadata": {},
     "output_type": "execute_result"
    }
   ],
   "source": [
    "df.loc['Total', :5] = list(df.iloc[:, :5].sum())\n",
    "\n",
    "df.loc['Total', '2019_%_Scored'] = df.loc['Total', '2019_Penalties Scored'] / df.loc['Total', '2019_Penalties Taken'] * 100\n",
    "df.loc['Total', '2020_%_Scored'] = df.loc['Total', '2020_Penalties Scored'] / df.loc['Total', '2020_Penalties Taken'] * 100\n",
    "df.loc['Total', 'Total_%_scored'] = (df.loc['Total', '2020_Penalties Scored'] + df.loc['Total', '2019_Penalties Scored']) / df.loc['Total', 'Total_taken'] * 100\n",
    "df\n",
    "#df.loc['Total', 'OZ_%'] = df.loc['Total', 'Aus_rotten_amt'] / df.loc['Total', 'Aus_Total_Rec'] * 100\n",
    "#df.loc['Total', 'Total_%'] = df.loc['Total', 'Total_rotten'] / df.loc['Total', 'Total'] * 100\n",
    "#df"
   ]
  },
  {
   "cell_type": "code",
   "execution_count": 95,
   "metadata": {},
   "outputs": [
    {
     "name": "stdout",
     "output_type": "stream",
     "text": [
      "[ 7. 15. 23. 31. 39. 47. 55. 63. 71. 79.]\n",
      "[ 17.  33.  49.  65.  81.  97. 113. 129. 145. 161.]\n",
      "[ 40.  48.  56.  64.  72.  80.  88.  96. 104. 112.]\n",
      "[20. 28. 36. 44. 52. 60. 68. 76. 84. 92.]\n"
     ]
    },
    {
     "data": {
      "text/plain": [
       "(0.0, 125.0)"
      ]
     },
     "execution_count": 95,
     "metadata": {},
     "output_type": "execute_result"
    },
    {
     "data": {
      "image/png": "[encoded data removed]",
      "text/plain": [
       "<Figure size 432x288 with 1 Axes>"
      ]
     },
     "metadata": {
      "needs_background": "light"
     },
     "output_type": "display_data"
    }
   ],
   "source": [
    "# example - plotting np.linspace\n",
    "\n",
    "import numpy as np \n",
    "import pylab as p \n",
    "a2 = 2\n",
    "b2 = 3\n",
    "x2 = np.linspace(7.0, 79.0, num=10)\n",
    "y2 = (a2 * x2 + b2)\n",
    "\n",
    "x3 = np.linspace(40, 112, num =10)\n",
    "y3 = (1 * x3 - 20)\n",
    "print(x2)\n",
    "print(y2)\n",
    "\n",
    "print(x3)\n",
    "print(y3)\n",
    "\n",
    "p.plot(x2, y2, x3, y3) \n",
    "p.xlim(0.0, 125.0) "
   ]
  },
  {
   "cell_type": "code",
   "execution_count": null,
   "metadata": {},
   "outputs": [],
   "source": []
  },
  {
   "cell_type": "code",
   "execution_count": null,
   "metadata": {},
   "outputs": [],
   "source": []
  }
 ],
 "metadata": {
  "kernelspec": {
   "display_name": "Python 3",
   "language": "python",
   "name": "python3"
  },
  "language_info": {
   "codemirror_mode": {
    "name": "ipython",
    "version": 3
   },
   "file_extension": ".py",
   "mimetype": "text/x-python",
   "name": "python",
   "nbconvert_exporter": "python",
   "pygments_lexer": "ipython3",
   "version": "3.8.3"
  }
 },
 "nbformat": 4,
 "nbformat_minor": 4
}
